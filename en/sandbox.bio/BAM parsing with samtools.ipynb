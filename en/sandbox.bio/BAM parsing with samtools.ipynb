{
 "cells": [
  {
   "cell_type": "markdown",
   "id": "f00c77f7-e528-42de-8276-81301d581b51",
   "metadata": {},
   "source": [
    "[NOTE] This tutorial is reproduction of [the article](http://quinlanlab.org/tutorials/samtools/samtools.html) developed by the Quinlan Lab, via [Sandbox.bio](https://sandbox.bio/tutorials?id=samtools-intro)."
   ]
  },
  {
   "cell_type": "markdown",
   "id": "d7ce346e-debf-44ca-9b3b-606abf10a182",
   "metadata": {},
   "source": [
    "### Download sample SAM data\n",
    "\n",
    "Download a sample SAM file, unzip it, then save as `sample.sam`."
   ]
  },
  {
   "cell_type": "code",
   "execution_count": 2,
   "id": "50972f72-047a-430f-918e-2460211f9c58",
   "metadata": {},
   "outputs": [
    {
     "name": "stdout",
     "output_type": "stream",
     "text": [
      "  % Total    % Received % Xferd  Average Speed   Time    Time     Time  Current\n",
      "                                 Dload  Upload   Total   Spent    Left  Speed\n",
      "100  371M  100  371M    0     0  17.0M      0  0:00:21  0:00:21 --:--:-- 13.5M\n"
     ]
    }
   ],
   "source": [
    "curl https://s3.amazonaws.com/samtools-tutorial/sample.sam.gz | gzip -d > sample.sam"
   ]
  },
  {
   "cell_type": "markdown",
   "id": "d11e4a9f-3dc7-4822-94f0-4333cea03385",
   "metadata": {},
   "source": [
    "### Convert: SAM $\\to$ BAM\n",
    "\n",
    "SAM file is a text format while BAM is binary version that is computer-friendly. Many software supports BAM format only. So, we need to convert it.\n",
    "\n",
    "Here is the first 5 lines of `sample.sam` in our hand."
   ]
  },
  {
   "cell_type": "code",
   "execution_count": 6,
   "id": "c63f5149-eec6-4546-90cb-609f9aaeaea0",
   "metadata": {},
   "outputs": [
    {
     "name": "stdout",
     "output_type": "stream",
     "text": [
      "@HD\tVN:1.5\tGO:none\tSO:coordinate\n",
      "@SQ\tSN:1\tLN:249250621\n",
      "@SQ\tSN:2\tLN:243199373\n",
      "@SQ\tSN:3\tLN:198022430\n",
      "@SQ\tSN:4\tLN:191154276\n"
     ]
    }
   ],
   "source": [
    "head -n 5 sample.sam"
   ]
  },
  {
   "cell_type": "markdown",
   "id": "37841925-33b6-4d8e-b461-4a23a08ccca7",
   "metadata": {},
   "source": [
    "Move your mouse cursor, and hover it over `-b` in the cell below. \n",
    "\n",
    "(Proceed when you've done it.) As you can see, this option `-b`, or `--bam`, sets BAM as the output file format. `samtools view` produces the data in standard output, and `>` redirects it to a new file `sample.ban`. "
   ]
  },
  {
   "cell_type": "code",
   "execution_count": 1,
   "id": "35589bb5-4525-4854-8e7d-9a6f0d370376",
   "metadata": {},
   "outputs": [],
   "source": [
    "samtools view -b sample.sam > sample.bam"
   ]
  },
  {
   "cell_type": "markdown",
   "id": "9f4ea512-3ad7-4c60-96ed-8ffcb7aa6fea",
   "metadata": {},
   "source": [
    "`sample.bam` is a binary file so the `head` command gives us a kinf of junk information."
   ]
  },
  {
   "cell_type": "code",
   "execution_count": 13,
   "id": "34f24601-f696-4982-ae3e-30bf766de0d0",
   "metadata": {},
   "outputs": [
    {
     "name": "stdout",
     "output_type": "stream",
     "text": [
      "\u001f\u0004\u0000\u0000\u0000\u0000\u0000�\u0006\u0000BC\u0002\u0000�W]�\\W\u001d",
      "?�5if+UAAA�\">X�̜��u�\f",
      "�f7Y\u0017w6��&mj�xw���d��;Ν�dk\u0011\n",
      "RP��B�\u0010i�\u0007��I\u0014��b�j�>�\u001f�[\u0010��/\u001a-R��{�s��(�>$������?_��j�\u0018y\u000fB+�^�\\�^&5��q~9�#Q�=�܉�qw\u0010\u0005\u0013������.(T����ͩ�]J\u0014J3�\u0011Ι�\u0014�$J��)PX�v�\u0012���s\u0015ꤨ�9q�[�)�\u0011PƮ�P/E\u001d",
      "N��E4?Em��6\u0004T(�PB\t��*p\n"
     ]
    }
   ],
   "source": [
    "head -n 2 sample.bam"
   ]
  },
  {
   "cell_type": "markdown",
   "id": "f5550003-6377-4de5-8106-d0ca7d422b42",
   "metadata": {},
   "source": [
    "You can use `file` command to check a file type, anyway."
   ]
  },
  {
   "cell_type": "code",
   "execution_count": 14,
   "id": "6cdb33b3-88a8-4fcd-b9fd-487556231989",
   "metadata": {},
   "outputs": [
    {
     "name": "stdout",
     "output_type": "stream",
     "text": [
      "sample.bam: gzip compressed data, extra field\n"
     ]
    }
   ],
   "source": [
    "file sample.bam"
   ]
  },
  {
   "cell_type": "markdown",
   "id": "ce93e01e-5331-40ca-ab79-9b844d14c5b4",
   "metadata": {},
   "source": [
    "### Sorting and indexing a BAM file\n",
    "\n",
    "`igv` is a standard tool to visualize a BAM file. But requires a BAM in 'proper' form.\n",
    "\n",
    "https://software.broadinstitute.org/software/igv/BAM\n",
    "> IGV requires ... BAM files be sorted by position and indexed, ....\n",
    "\n",
    "So we'll 'sort' first, and then 'index' it using `samtools`."
   ]
  },
  {
   "cell_type": "code",
   "execution_count": 1,
   "id": "a115c31f-6900-47f5-ad43-6f6d1b3b00c9",
   "metadata": {},
   "outputs": [
    {
     "name": "stdout",
     "output_type": "stream",
     "text": [
      "[bam_sort_core] merging from 2 files and 1 in-memory blocks...\n"
     ]
    }
   ],
   "source": [
    "samtools sort sample.bam > sample.sorted.bam"
   ]
  },
  {
   "cell_type": "markdown",
   "id": "6ea9f2c1-81b2-43e3-91f8-87a5f7f384a9",
   "metadata": {},
   "source": [
    "Then we index the BAM file, which is to create an accompanying file with `.bam.bai` extension."
   ]
  },
  {
   "cell_type": "code",
   "execution_count": 2,
   "id": "8a5ad0bf-9442-49cf-b0e9-270fe169e69c",
   "metadata": {},
   "outputs": [],
   "source": [
    "samtools index sample.sorted.bam"
   ]
  },
  {
   "cell_type": "markdown",
   "id": "91a33d19-eca7-4738-9c36-be807decc346",
   "metadata": {},
   "source": [
    "#### Extract some BAM file information with `samtools view`"
   ]
  },
  {
   "cell_type": "markdown",
   "id": "180c3545-9dde-4790-a89b-d5b429309e1e",
   "metadata": {},
   "source": [
    "While graphical software like IGV is typically the way to visualize data, `samtools view` can also do the job. For example, you can peek alignments from 1.4 megabase to 1.5 megabase in chromosome 20 by   "
   ]
  },
  {
   "cell_type": "code",
   "execution_count": 2,
   "id": "9805bec6-1eb2-4a0f-89c0-933864639037",
   "metadata": {},
   "outputs": [
    {
     "name": "stdout",
     "output_type": "stream",
     "text": [
      "HWI-ST354R:351:C0UPMACXX:5:1316:9518:23495\t99\t20\t1424292\t60\t100M\t=\t1424436\t244\tGACTGCTGGGTATGCACAAGGGGGCAGGAGGGGCGATCCCCATGGGGCATGGCCACTGGCCATGGGAAACACAGGAGGGAGGCCAGGCAGCTGGCTGGGC\t@@CFFFFFGHCFHJIJJJJJJJJIJJJJJJJJJIHFFDDEDCDDDDDDDDDBDDCDDDDDDDDDCDDDDDDDDDDDDDDDBDDDDDDDDDDDDDBDDB?#\tMC:Z:100M\tMD:Z:11G88\tRG:Z:1719PC0017_51\tNM:i:1\tMQ:i:60\tAS:i:95\tXS:i:50\n",
      "HWI-ST354R:351:C0UPMACXX:6:1315:14068:89888\t99\t20\t1424343\t60\t100M\t=\t1424530\t287\tGCCACTGGCCATGGGAAACACAGGAGGGCGGCCAGGCAGCTGGCTGGGCGGTTATGTTAACCGCTGCAAGATGACAGCATTGAGCAGGTTGGCTTCCTTC\t??;DB?;?:CF;DBEBAFBBDHHG;EHG):?@;@HA=AAD>7B=;;3((95&))::@3(:3:;<BBBA((++:@4:+2<@AC@>ACCB############\tMC:Z:100M\tMD:Z:28A39C31\tRG:Z:1719PC0017_51\tNM:i:2\tMQ:i:60\tAS:i:90\tXS:i:41\n",
      "HWI-ST354R:351:C0UPMACXX:5:2313:13369:27714\t1187\t20\t1424373\t60\t100M\t=\t1424505\t174\tGCCAGGCAGCTGGCTGGGCGGTTATGTGAACCGCTGCACGATGACAGCATTGAGCAGGTTAGCTTCCTTCAGGGTCTGGCGCTCATCAGCCAGGTCTTTG\t:;8DD?:+A;A:+22CG+3<@###############################################################################\tMC:Z:58S42M\tMD:Z:27T32G19T12C6\tRG:Z:1719PC0017_51\tNM:i:4\tMQ:i:60\tAS:i:80\tXS:i:31\n",
      "HWI-ST354R:351:C0UPMACXX:5:2205:2739:43797\t163\t20\t1424384\t60\t100M\t=\t1424563\t279\tGGCTGGGCGGTTATGTTAACCGCTGCACGATGACAGCATTGAGCAGGTTGGCTTCCTTCAGGGTCTGGCTCTCATCAGCCAGCTCTTTGTTCGGGAAAGT\tBCCFFFFFHHFHGJJJJJJJJIJJJJJJJIJJJJJJIJJJJIJHHHHEDFDCEEEEDDDDDDD<CDDDDDDDDDEDDDDDDDDCDCDCDDDDBBB39AA#\tMC:Z:100M\tMD:Z:100\tRG:Z:1719PC0017_51\tNM:i:0\tMQ:i:60\tAS:i:100\tXS:i:48\n",
      "HWI-ST354R:351:C0UPMACXX:5:1316:9518:23495\t147\t20\t1424436\t60\t100M\t=\t1424292\t-244\tTTCCTTCAGGGTCTGGCTCTCATCAGCCAGCTCTTTGTTCGGGAAAGTAGTCATGAGGATAAAGCTGGTGGCAGCCATGGCTGGCCGGGCATCCACGATG\t><CAADDDDD@DDDBBCCDCDDDDDDDDDDCDEEEDFFHHJJJJJIIIJHIJJJJJHIJJJJIIIIJHJJIJJJJIIIJJIJIGHIJHHHHHFFFFFCCC\tMC:Z:100M\tMD:Z:100\tRG:Z:1719PC0017_51\tNM:i:0\tMQ:i:60\tAS:i:100\tXS:i:76\n"
     ]
    }
   ],
   "source": [
    "samtools view sample.sorted.bam 20:1.4e6-1.5e6 | head -n 5"
   ]
  },
  {
   "cell_type": "markdown",
   "id": "4e4834d5-e643-435f-a2c5-d0ceb843dcd2",
   "metadata": {},
   "source": [
    "And you can get number of alignments in the region by"
   ]
  },
  {
   "cell_type": "code",
   "execution_count": 4,
   "id": "0600cc67-f4c7-46dc-a931-444ff2fed5ca",
   "metadata": {},
   "outputs": [
    {
     "name": "stdout",
     "output_type": "stream",
     "text": [
      "338\n"
     ]
    }
   ],
   "source": [
    "samtools view -c sample.sorted.bam 20:1.4e6-1.5e6 "
   ]
  },
  {
   "cell_type": "markdown",
   "id": "a9d1751c-069c-4069-a781-f3de78b1041c",
   "metadata": {},
   "source": [
    " "
   ]
  },
  {
   "cell_type": "code",
   "execution_count": 1,
   "id": "a5b0d8d4-f387-4c20-b56e-5c613b179380",
   "metadata": {},
   "outputs": [
    {
     "name": "stdout",
     "output_type": "stream",
     "text": [
      "Error        :\tUnknown option '--version'\n",
      "Command line :\tSnpEff  --version \n",
      "\n",
      "snpEff version SnpEff 5.1d (build 2022-04-19 15:49), by Pablo Cingolani\n",
      "Usage: snpEff [eff] [options] genome_version [input_file]\n",
      "\n",
      "\n",
      "\tvariants_file                   : Default is STDIN\n",
      "\n",
      "\n",
      "\n",
      "Options:\n",
      "\t-chr <string>                   : Prepend 'string' to chromosome name (e.g. 'chr1' instead of '1'). Only on TXT output.\n",
      "\t-classic                        : Use old style annotations instead of Sequence Ontology and Hgvs.\n",
      "\t-csvStats <file>                : Create CSV summary file.\n",
      "\t-download                       : Download reference genome if not available. Default: true\n",
      "\t-i <format>                     : Input format [ vcf, bed ]. Default: VCF.\n",
      "\t-fileList                       : Input actually contains a list of files to process.\n",
      "\t-o <format>                     : Ouput format [ vcf, gatk, bed, bedAnn ]. Default: VCF.\n",
      "\t-s , -stats, -htmlStats         : Create HTML summary file.  Default is 'snpEff_summary.html'\n",
      "\t-noStats                        : Do not create stats (summary) file\n",
      "\n",
      "Results filter options:\n",
      "\t-fi , -filterInterval  <file>   : Only analyze changes that intersect with the intervals specified in this file (you may use this option many times)\n",
      "\t-no-downstream                  : Do not show DOWNSTREAM changes\n",
      "\t-no-intergenic                  : Do not show INTERGENIC changes\n",
      "\t-no-intron                      : Do not show INTRON changes\n",
      "\t-no-upstream                    : Do not show UPSTREAM changes\n",
      "\t-no-utr                         : Do not show 5_PRIME_UTR or 3_PRIME_UTR changes\n",
      "\t-no <effectType>                : Do not show 'EffectType'. This option can be used several times.\n",
      "\n",
      "Annotations options:\n",
      "\t-cancer                         : Perform 'cancer' comparisons (Somatic vs Germline). Default: false\n",
      "\t-cancerSamples <file>           : Two column TXT file defining 'oringinal \\t derived' samples.\n",
      "\t-fastaProt <file>               : Create an output file containing the resulting protein sequences.\n",
      "\t-formatEff                      : Use 'EFF' field compatible with older versions (instead of 'ANN').\n",
      "\t-geneId                         : Use gene ID instead of gene name (VCF output). Default: false\n",
      "\t-hgvs                           : Use HGVS annotations for amino acid sub-field. Default: true\n",
      "\t-hgvsOld                        : Use old HGVS notation. Default: false\n",
      "\t-hgvs1LetterAa                  : Use one letter Amino acid codes in HGVS notation. Default: false\n",
      "\t-hgvsTrId                       : Use transcript ID in HGVS notation. Default: false\n",
      "\t-lof                            : Add loss of function (LOF) and Nonsense mediated decay (NMD) tags.\n",
      "\t-noHgvs                         : Do not add HGVS annotations.\n",
      "\t-noLof                          : Do not add LOF and NMD annotations.\n",
      "\t-noShiftHgvs                    : Do not shift variants according to HGVS notation (most 3prime end).\n",
      "\t-oicr                           : Add OICR tag in VCF file. Default: false\n",
      "\t-sequenceOntology               : Use Sequence Ontology terms. Default: true\n",
      "\n",
      "Generic options:\n",
      "\t-c , -config                 : Specify config file\n",
      "\t-configOption name=value     : Override a config file option\n",
      "\t-d , -debug                  : Debug mode (very verbose).\n",
      "\t-dataDir <path>              : Override data_dir parameter from config file.\n",
      "\t-download                    : Download a SnpEff database, if not available locally. Default: true\n",
      "\t-nodownload                  : Do not download a SnpEff database, if not available locally.\n",
      "\t-h , -help                   : Show this help and exit\n",
      "\t-noLog                       : Do not report usage statistics to server\n",
      "\t-q , -quiet                  : Quiet mode (do not show any messages or errors)\n",
      "\t-v , -verbose                : Verbose mode\n",
      "\t-version                     : Show version number and exit\n",
      "\n",
      "Database options:\n",
      "\t-canon                       : Only use canonical transcripts.\n",
      "\t-canonList <file>            : Only use canonical transcripts, replace some transcripts using the 'gene_id \t transcript_id' entries in <file>.\n",
      "\t-interaction                 : Annotate using inteactions (requires interaciton database). Default: true\n",
      "\t-interval <file>             : Use a custom intervals in TXT/BED/BigBed/VCF/GFF file (you may use this option many times)\n",
      "\t-maxTSL <TSL_number>         : Only use transcripts having Transcript Support Level lower than <TSL_number>.\n",
      "\t-motif                       : Annotate using motifs (requires Motif database). Default: true\n",
      "\t-nextProt                    : Annotate using NextProt (requires NextProt database).\n",
      "\t-noGenome                    : Do not load any genomic database (e.g. annotate using custom files).\n",
      "\t-noExpandIUB                 : Disable IUB code expansion in input variants\n",
      "\t-noInteraction               : Disable inteaction annotations\n",
      "\t-noMotif                     : Disable motif annotations.\n",
      "\t-noNextProt                  : Disable NextProt annotations.\n",
      "\t-onlyReg                     : Only use regulation tracks.\n",
      "\t-onlyProtein                 : Only use protein coding transcripts. Default: false\n",
      "\t-onlyTr <file.txt>           : Only use the transcripts in this file. Format: One transcript ID per line.\n",
      "\t-reg <name>                  : Regulation track to use (this option can be used add several times).\n",
      "\t-ss , -spliceSiteSize <int>  : Set size for splice sites (donor and acceptor) in bases. Default: 2\n",
      "\t-spliceRegionExonSize <int>  : Set size for splice site region within exons. Default: 3 bases\n",
      "\t-spliceRegionIntronMin <int> : Set minimum number of bases for splice site region within intron. Default: 3 bases\n",
      "\t-spliceRegionIntronMax <int> : Set maximum number of bases for splice site region within intron. Default: 8 bases\n",
      "\t-strict                      : Only use 'validated' transcripts (i.e. sequence has been checked). Default: false\n",
      "\t-ud , -upDownStreamLen <int> : Set upstream downstream interval length (in bases)\n"
     ]
    },
    {
     "ename": "",
     "evalue": "255",
     "output_type": "error",
     "traceback": []
    }
   ],
   "source": [
    "samtools view"
   ]
  },
  {
   "cell_type": "code",
   "execution_count": null,
   "id": "600be10d-f2e7-45a6-b617-380a851cd82e",
   "metadata": {},
   "outputs": [],
   "source": []
  }
 ],
 "metadata": {
  "kernelspec": {
   "display_name": "Bash",
   "language": "bash",
   "name": "bash"
  },
  "language_info": {
   "codemirror_mode": "shell",
   "file_extension": ".sh",
   "mimetype": "text/x-sh",
   "name": "bash"
  }
 },
 "nbformat": 4,
 "nbformat_minor": 5
}
