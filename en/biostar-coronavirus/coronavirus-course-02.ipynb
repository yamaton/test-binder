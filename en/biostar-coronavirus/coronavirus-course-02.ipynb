{
 "cells": [
  {
   "cell_type": "markdown",
   "id": "d7cfc2b4-d7db-4f90-9827-0d09fa0ffb89",
   "metadata": {},
   "source": [
    "# Corona Virus Analysis: Data\n",
    "\n",
    "This document reproduces [\"Corona Virus Analysis\"](https://www.biostarhandbook.com/books/corona/index.html) from BioStar Handbook."
   ]
  },
  {
   "cell_type": "code",
   "execution_count": 1,
   "id": "c29410b8-5229-475c-8dd9-c59cf864adf1",
   "metadata": {},
   "outputs": [],
   "source": [
    "# We use preload because the output is large and that speeds up queries.\n",
    "bio taxon --preload 10239 > viruses.txt"
   ]
  },
  {
   "cell_type": "code",
   "execution_count": 2,
   "id": "15a0bc66-36f9-4e38-8c59-ca4a49aada9d",
   "metadata": {},
   "outputs": [
    {
     "name": "stdout",
     "output_type": "stream",
     "text": [
      "superkingdom,10239,Viruses\n",
      "  family,10472,Plasmaviridae\n",
      "    genus,10473,Plasmavirus\n",
      "      species,46014,Acholeplasma virus L2\n",
      "  family,10474,Fuselloviridae\n",
      "    genus,10475,Alphafusellovirus\n",
      "      species,174676,unidentified Fusellovirus\n",
      "      species,244589,Sulfolobus spindle-shaped virus 1\n",
      "      species,244590,Sulfolobus spindle-shaped virus 2\n",
      "      species,459290,Sulfolobus spindle-shaped virus 4\n"
     ]
    }
   ],
   "source": [
    "head viruses.txt"
   ]
  },
  {
   "cell_type": "code",
   "execution_count": 3,
   "id": "388caed5-bdfe-478e-a469-50d6cdf6e3ea",
   "metadata": {},
   "outputs": [
    {
     "name": "stdout",
     "output_type": "stream",
     "text": [
      "222345\n"
     ]
    }
   ],
   "source": [
    "# How many entries in the taxonomy\n",
    "cat viruses.txt | wc -l"
   ]
  },
  {
   "cell_type": "code",
   "execution_count": 4,
   "id": "4e5997c3-34ef-4ac7-a340-0d4d227b5ef9",
   "metadata": {},
   "outputs": [
    {
     "name": "stdout",
     "output_type": "stream",
     "text": [
      "131485\n"
     ]
    }
   ],
   "source": [
    "# How many match Influenza\n",
    "cat viruses.txt | grep Influenza | wc -l"
   ]
  },
  {
   "cell_type": "code",
   "execution_count": 5,
   "id": "cae65221-8450-4d7b-9030-d19b58a351e9",
   "metadata": {},
   "outputs": [
    {
     "name": "stdout",
     "output_type": "stream",
     "text": [
      "131484\tInfluenza\n",
      "19408\tNorovirus\n",
      "3535\tMarine\n",
      "2722\tHIV-1\n",
      "2343\tSapovirus\n",
      "2299\tHuman\n",
      "2180\tMycobacter\n",
      "1428\tEscherichi\n",
      "1276\tSiphovirid\n",
      "1192\tStreptococ\n"
     ]
    }
   ],
   "source": [
    "# The most common 10 characters starts in virus taxonomical names\n",
    "cat viruses.txt | cut -f 3 -d , | awk '{print substr($1, 1, 10)}'| bio uniq -c | head"
   ]
  },
  {
   "cell_type": "code",
   "execution_count": 6,
   "id": "e31bce84-12cc-47da-877d-e49560508515",
   "metadata": {},
   "outputs": [
    {
     "name": "stdout",
     "output_type": "stream",
     "text": [
      "199119\n"
     ]
    }
   ],
   "source": [
    "# How many names have the word virus?\n",
    "cat viruses.txt | grep virus | wc -l"
   ]
  },
  {
   "cell_type": "code",
   "execution_count": 7,
   "id": "461a909f-e53b-4ca3-acfb-2791211bf432",
   "metadata": {},
   "outputs": [
    {
     "name": "stdout",
     "output_type": "stream",
     "text": [
      "                    no rank,77028,Physalis severe mottle virus\n",
      "                    no rank,1003835,Severe fever with thrombocytopenia syndrome virus\n",
      "                  species,485724,Melon severe mosaic tospovirus\n",
      "                  species,2838135,Barleria severe mosaic virus\n",
      "                  species,421009,Tulip severe mosaic virus\n",
      "                      species,694009,Severe acute respiratory syndrome-related coronavirus\n",
      "                        no rank,2697049,Severe acute respiratory syndrome coronavirus 2\n",
      "                  species,12261,Cowpea severe mosaic virus\n",
      "                    no rank,31716,Cowpea severe mosaic virus (strain DG)\n",
      "                    species,2728245,Phaseolus vulgaris severe mosaic virus\n",
      "                species,12210,Pepper severe mosaic virus\n",
      "                  no rank,31734,Passionfruit woodiness virus (strain severe)\n",
      "                species,32620,Iris severe mosaic virus\n",
      "                  species,2583574,Passion fruit severe mottle virus\n",
      "                species,1796097,Pepper severe mottle virus\n",
      "                species,2558055,Parsley severe stunt associated virus\n",
      "                  no rank,268958,Beet severe curly top virus - Cfh\n",
      "                  no rank,268959,Beet severe curly top virus - Cfh [Beta]\n",
      "                  species,228580,Beet severe curly top virus\n",
      "                species,873160,Spinach severe curly top virus\n",
      "                  no rank,222077,African cassava mosaic virus-Uganda Severe\n",
      "                  no rank,223272,East African cassava mosaic virus-Uganda2 Severe\n",
      "                  no rank,223274,East African cassava mosaic virus-Uganda3 Severe\n",
      "                species,92963,Tomato severe leaf curl virus\n",
      "                  no rank,223361,Tomato severe leaf curl virus-[Guatemala 96-1]\n",
      "                  no rank,1086071,Tomato severe leaf curl virus - Huasteca\n",
      "                  no rank,1127769,Tomato severe leaf curl virus - SLP 3\n",
      "                species,158463,Tomato severe rugose virus\n",
      "                  no rank,223351,Tomato leaf curl New Delhi virus-Severe\n",
      "                    no rank,309385,Tomato leaf curl New Delhi virus-Severe[Jessore]\n",
      "                  species,172392,Tomato severe mosaic virus\n",
      "                  species,2558458,Papaya severe leaf curl virus\n",
      "                species,648801,Passionfruit severe leaf distortion virus\n",
      "                species,667119,Velvet bean severe mosaic virus\n",
      "                species,1915203,Common bean severe mosaic virus\n",
      "                species,2560813,Tomato severe leaf curl Kalakada virus\n",
      "                species,2712833,Tomato mosaic severe dwarf virus\n",
      "                species,1218727,French bean severe leaf curl virus\n"
     ]
    }
   ],
   "source": [
    "# How many viruses are named the same way as SARS2?\n",
    "cat viruses.txt | grep virus | grep -i severe"
   ]
  },
  {
   "cell_type": "markdown",
   "id": "90f27999-eeac-45e1-82bd-5eaa6ed4e3dc",
   "metadata": {},
   "source": [
    "Lineage of SARS2?"
   ]
  },
  {
   "cell_type": "code",
   "execution_count": 8,
   "id": "68267032-8f2b-4bca-9277-165c42716783",
   "metadata": {},
   "outputs": [
    {
     "name": "stdout",
     "output_type": "stream",
     "text": [
      "superkingdom,10239,Viruses\n",
      "  clade,2559587,Riboviria\n",
      "    kingdom,2732396,Orthornavirae\n",
      "      phylum,2732408,Pisuviricota\n",
      "        class,2732506,Pisoniviricetes\n",
      "          order,76804,Nidovirales\n",
      "            suborder,2499399,Cornidovirineae\n",
      "              family,11118,Coronaviridae\n",
      "                subfamily,2501931,Orthocoronavirinae\n",
      "                  genus,694002,Betacoronavirus\n",
      "                    subgenus,2509511,Sarbecovirus\n",
      "                      species,694009,Severe acute respiratory syndrome-related coronavirus\n",
      "                        no rank,2697049,Severe acute respiratory syndrome coronavirus 2\n"
     ]
    }
   ],
   "source": [
    "bio taxon 2697049 --lineage"
   ]
  },
  {
   "cell_type": "markdown",
   "id": "69f7db4a-8f48-4dc0-8d8e-b1ffbc42dd8a",
   "metadata": {},
   "source": [
    "----\n",
    "## Exploring viral taonomies"
   ]
  },
  {
   "cell_type": "code",
   "execution_count": null,
   "id": "7849ab18-5766-434b-8eaa-08b25ebbfdae",
   "metadata": {},
   "outputs": [],
   "source": []
  }
 ],
 "metadata": {
  "kernelspec": {
   "display_name": "Bash",
   "language": "bash",
   "name": "bash"
  },
  "language_info": {
   "codemirror_mode": "shell",
   "file_extension": ".sh",
   "mimetype": "text/x-sh",
   "name": "bash"
  }
 },
 "nbformat": 4,
 "nbformat_minor": 5
}
