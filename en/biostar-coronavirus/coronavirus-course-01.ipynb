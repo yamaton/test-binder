{
 "cells": [
  {
   "cell_type": "markdown",
   "id": "5cbe8c52-e98f-43cd-89c7-b103b68b57bd",
   "metadata": {},
   "source": [
    "# Corona Virus Analysis\n",
    "\n",
    "This document reproduces [\"Corona Virus Analysis\"](https://www.biostarhandbook.com/books/corona/index.html) from BioStar Handbook."
   ]
  },
  {
   "cell_type": "markdown",
   "id": "244550ef-16de-4a72-9478-1d7e129a6186",
   "metadata": {},
   "source": [
    "## 1. Install\n",
    "\n",
    "All the required bioinformatics tools are already available."
   ]
  },
  {
   "cell_type": "code",
   "execution_count": 4,
   "id": "9b4b45ba-22cc-42e1-94ef-7c3f558f82b9",
   "metadata": {},
   "outputs": [
    {
     "name": "stdout",
     "output_type": "stream",
     "text": [
      "# /home/jovyan/.bio/biodata.tar.gz: 100%|████| 203M/203M [00:05<00:00, 41.7MB/s]\n",
      "# extracting files\n",
      "# download completed.\n"
     ]
    }
   ],
   "source": [
    "# this loads data for `bio` tool\n",
    "bio --download"
   ]
  },
  {
   "cell_type": "markdown",
   "id": "8b5ae6d9-1d45-46ef-bee5-52a5a2d0f458",
   "metadata": {},
   "source": [
    "## 2. Discovery\n",
    "### How to discover a virus"
   ]
  },
  {
   "cell_type": "code",
   "execution_count": 1,
   "id": "9fda6570-616b-4439-b413-5ca4e8c6c9ec",
   "metadata": {
    "tags": []
   },
   "outputs": [
    {
     "name": "stdout",
     "output_type": "stream",
     "text": [
      "[\n",
      "    {\n",
      "        \"run_accession\": \"SRR10971381\",\n",
      "        \"sample_accession\": \"SAMN13922059\",\n",
      "        \"first_public\": \"2020-02-05\",\n",
      "        \"country\": \"China: Wuhan\",\n",
      "        \"sample_alias\": \"Human-BALF\",\n",
      "        \"fastq_bytes\": \"1160191847;1216048922\",\n",
      "        \"read_count\": \"28282964\",\n",
      "        \"library_name\": \"1\",\n",
      "        \"library_strategy\": \"RNA-Seq\",\n",
      "        \"library_source\": \"METATRANSCRIPTOMIC\",\n",
      "        \"library_layout\": \"PAIRED\",\n",
      "        \"instrument_platform\": \"ILLUMINA\",\n",
      "        \"instrument_model\": \"Illumina MiniSeq\",\n",
      "        \"study_title\": \"Complete genome of a novel coronavirus associated with severe human respiratory disease in Wuhan, China\",\n",
      "        \"fastq_ftp\": \"ftp.sra.ebi.ac.uk/vol1/fastq/SRR109/081/SRR10971381/SRR10971381_1.fastq.gz;ftp.sra.ebi.ac.uk/vol1/fastq/SRR109/081/SRR10971381/SRR10971381_2.fastq.gz\"\n",
      "    }\n",
      "]\n"
     ]
    }
   ],
   "source": [
    "bio search SRR10971381"
   ]
  },
  {
   "cell_type": "code",
   "execution_count": 4,
   "id": "f299fdc9-bd2b-4ebe-83fd-a8db2a481afa",
   "metadata": {},
   "outputs": [
    {
     "name": "stdout",
     "output_type": "stream",
     "text": [
      "Read 100000 spots for SRR10971381\n",
      "Written 100000 spots for SRR10971381\n"
     ]
    }
   ],
   "source": [
    "mkdir -p reads\n",
    "N=100000\n",
    "fastq-dump -X $N SRR10971381 --split-files --origfmt --outdir reads"
   ]
  },
  {
   "cell_type": "code",
   "execution_count": 5,
   "id": "306be9ae-ba35-43a4-b433-57ed018b0de6",
   "metadata": {},
   "outputs": [
    {
     "name": "stdout",
     "output_type": "stream",
     "text": [
      "file                       format  type  num_seqs     sum_len  min_len  avg_len  max_len\n",
      "reads/SRR10971381_1.fastq  FASTQ   DNA    100,000  14,192,913       35    141.9      151\n",
      "reads/SRR10971381_2.fastq  FASTQ   DNA    100,000  14,177,842       35    141.8      151\n"
     ]
    }
   ],
   "source": [
    "seqkit stats reads/SRR10971381*.fastq"
   ]
  },
  {
   "cell_type": "markdown",
   "id": "21bcd724-2ed1-4cd1-bfd3-ac3c06d66313",
   "metadata": {},
   "source": [
    "Compute coverage using Python. "
   ]
  },
  {
   "cell_type": "code",
   "execution_count": 8,
   "id": "f536f123-4237-43f0-b41b-74f7ee7c6b3f",
   "metadata": {},
   "outputs": [
    {
     "name": "stdout",
     "output_type": "stream",
     "text": [
      "945.6918333333333\n"
     ]
    }
   ],
   "source": [
    "python -c 'print((14192913 + 14177842) / 30000)'"
   ]
  },
  {
   "cell_type": "code",
   "execution_count": 9,
   "id": "fc3bfcec-0f74-4809-9609-d5fa97a69ae6",
   "metadata": {},
   "outputs": [
    {
     "name": "stdout",
     "output_type": "stream",
     "text": [
      "@1\n",
      "CAAAGTCAAGCTCCCTTCTGCCTTTACACTCTTCGAGCGATTTCCGTCCGCTCTGAGGGAACCTTTGGGCGCCTCCGTTACTCTTTTGGAGGCGACCGCCCCAGTCAAACTGCCCGCCTAAGACTGTCCGGCCGGTCNTTACTCGGCNCGT\n",
      "+1\n",
      "AAFFAF/FFFFFFFFAFFFFFFFFFFFFFFF/FFFFFFF/AFFFFFFFFFFFFAF/FFF//FF=FA/FFAFFFFFF/FF/FAFFF/AFFFAF6FFF//FFAFFAFFFFFFFFFFFFFFFFAFFFAA=A/FFFAFFFF#6AFF6F=FF#=FF\n",
      "cat: write error: Broken pipe\n"
     ]
    }
   ],
   "source": [
    "cat reads/SRR10971381_1.fastq | head -4"
   ]
  },
  {
   "cell_type": "code",
   "execution_count": 10,
   "id": "16a69abb-340b-401e-9dcc-9eb1040f4d64",
   "metadata": {},
   "outputs": [
    {
     "name": "stdout",
     "output_type": "stream",
     "text": [
      "Started analysis of SRR10971381_1.fastq\n",
      "Approx 5% complete for SRR10971381_1.fastq\n",
      "Approx 10% complete for SRR10971381_1.fastq\n",
      "Approx 15% complete for SRR10971381_1.fastq\n",
      "Approx 20% complete for SRR10971381_1.fastq\n",
      "Approx 25% complete for SRR10971381_1.fastq\n",
      "Approx 30% complete for SRR10971381_1.fastq\n",
      "Approx 35% complete for SRR10971381_1.fastq\n",
      "Approx 40% complete for SRR10971381_1.fastq\n",
      "Approx 45% complete for SRR10971381_1.fastq\n",
      "Approx 50% complete for SRR10971381_1.fastq\n",
      "Approx 55% complete for SRR10971381_1.fastq\n",
      "Approx 60% complete for SRR10971381_1.fastq\n",
      "Approx 65% complete for SRR10971381_1.fastq\n",
      "Approx 70% complete for SRR10971381_1.fastq\n",
      "Approx 75% complete for SRR10971381_1.fastq\n",
      "Approx 80% complete for SRR10971381_1.fastq\n",
      "Approx 85% complete for SRR10971381_1.fastq\n",
      "Approx 90% complete for SRR10971381_1.fastq\n",
      "Approx 95% complete for SRR10971381_1.fastq\n",
      "Approx 100% complete for SRR10971381_1.fastq\n",
      "Analysis complete for SRR10971381_1.fastq\n",
      "Started analysis of SRR10971381_2.fastq\n",
      "Approx 5% complete for SRR10971381_2.fastq\n",
      "Approx 10% complete for SRR10971381_2.fastq\n",
      "Approx 15% complete for SRR10971381_2.fastq\n",
      "Approx 20% complete for SRR10971381_2.fastq\n",
      "Approx 25% complete for SRR10971381_2.fastq\n",
      "Approx 30% complete for SRR10971381_2.fastq\n",
      "Approx 35% complete for SRR10971381_2.fastq\n",
      "Approx 40% complete for SRR10971381_2.fastq\n",
      "Approx 45% complete for SRR10971381_2.fastq\n",
      "Approx 50% complete for SRR10971381_2.fastq\n",
      "Approx 55% complete for SRR10971381_2.fastq\n",
      "Approx 60% complete for SRR10971381_2.fastq\n",
      "Approx 65% complete for SRR10971381_2.fastq\n",
      "Approx 70% complete for SRR10971381_2.fastq\n",
      "Approx 75% complete for SRR10971381_2.fastq\n",
      "Approx 80% complete for SRR10971381_2.fastq\n",
      "Approx 85% complete for SRR10971381_2.fastq\n",
      "Approx 90% complete for SRR10971381_2.fastq\n",
      "Approx 95% complete for SRR10971381_2.fastq\n",
      "Approx 100% complete for SRR10971381_2.fastq\n",
      "Analysis complete for SRR10971381_2.fastq\n"
     ]
    }
   ],
   "source": [
    "fastqc reads/SRR10971381*.fastq"
   ]
  },
  {
   "cell_type": "markdown",
   "id": "64acdf40-8df5-498c-9f6c-acd7f6ba73a7",
   "metadata": {},
   "source": [
    "To view a fastQC reports in HTML, double click the file at `./reads/SRR10971381_1_fastqc.html` from the file browser in the left⬅️. It will open a new tab."
   ]
  },
  {
   "cell_type": "markdown",
   "id": "846c8f35-46cd-4b2c-899e-95d3bc871c94",
   "metadata": {},
   "source": [
    "Run `trimmomatic` to correct errors."
   ]
  },
  {
   "cell_type": "code",
   "execution_count": 11,
   "id": "989aaf96-ba97-4756-b4c7-79754622299a",
   "metadata": {},
   "outputs": [
    {
     "name": "stdout",
     "output_type": "stream",
     "text": [
      "TrimmomaticPE: Started with arguments:\n",
      " reads/SRR10971381_1.fastq reads/SRR10971381_2.fastq -baseout reads/read.fq SLIDINGWINDOW:4:30\n",
      "Multiple cores found: Using 2 threads\n",
      "Using templated Output files: reads/read_1P.fq reads/read_1U.fq reads/read_2P.fq reads/read_2U.fq\n",
      "Quality encoding detected as phred33\n",
      "Input Read Pairs: 100000 Both Surviving: 18968 (18.97%) Forward Only Surviving: 28877 (28.88%) Reverse Only Surviving: 859 (0.86%) Dropped: 51296 (51.30%)\n",
      "TrimmomaticPE: Completed successfully\n"
     ]
    }
   ],
   "source": [
    "R1=reads/SRR10971381_1.fastq\n",
    "R2=reads/SRR10971381_2.fastq\n",
    "\n",
    "trimmomatic PE $R1 $R2 -baseout reads/read.fq SLIDINGWINDOW:4:30"
   ]
  },
  {
   "cell_type": "markdown",
   "id": "44f122d5-4542-4626-98d6-19cef9351b7e",
   "metadata": {},
   "source": [
    "The outputs are named `read_1P.fq` and `read_2P.fq` respectively. Run FastQC again against them."
   ]
  },
  {
   "cell_type": "code",
   "execution_count": 12,
   "id": "301d4ded-187d-43f1-8728-b8d5d7dff347",
   "metadata": {},
   "outputs": [
    {
     "name": "stdout",
     "output_type": "stream",
     "text": [
      "Started analysis of read_1P.fq\n",
      "Approx 5% complete for read_1P.fq\n",
      "Approx 10% complete for read_1P.fq\n",
      "Approx 15% complete for read_1P.fq\n",
      "Approx 20% complete for read_1P.fq\n",
      "Approx 25% complete for read_1P.fq\n",
      "Approx 30% complete for read_1P.fq\n",
      "Approx 35% complete for read_1P.fq\n",
      "Approx 40% complete for read_1P.fq\n",
      "Approx 45% complete for read_1P.fq\n",
      "Approx 50% complete for read_1P.fq\n",
      "Approx 55% complete for read_1P.fq\n",
      "Approx 60% complete for read_1P.fq\n",
      "Approx 65% complete for read_1P.fq\n",
      "Approx 70% complete for read_1P.fq\n",
      "Approx 75% complete for read_1P.fq\n",
      "Approx 80% complete for read_1P.fq\n",
      "Approx 85% complete for read_1P.fq\n",
      "Approx 95% complete for read_1P.fq\n",
      "Analysis complete for read_1P.fq\n",
      "Started analysis of read_1U.fq\n",
      "Approx 5% complete for read_1U.fq\n",
      "Approx 10% complete for read_1U.fq\n",
      "Approx 15% complete for read_1U.fq\n",
      "Approx 20% complete for read_1U.fq\n",
      "Approx 25% complete for read_1U.fq\n",
      "Approx 30% complete for read_1U.fq\n",
      "Approx 35% complete for read_1U.fq\n",
      "Approx 40% complete for read_1U.fq\n",
      "Approx 45% complete for read_1U.fq\n",
      "Approx 50% complete for read_1U.fq\n",
      "Approx 55% complete for read_1U.fq\n",
      "Approx 60% complete for read_1U.fq\n",
      "Approx 65% complete for read_1U.fq\n",
      "Approx 70% complete for read_1U.fq\n",
      "Approx 75% complete for read_1U.fq\n",
      "Approx 80% complete for read_1U.fq\n",
      "Approx 85% complete for read_1U.fq\n",
      "Approx 90% complete for read_1U.fq\n",
      "Approx 95% complete for read_1U.fq\n",
      "Analysis complete for read_1U.fq\n",
      "Started analysis of read_2P.fq\n",
      "Approx 5% complete for read_2P.fq\n",
      "Approx 15% complete for read_2P.fq\n",
      "Approx 20% complete for read_2P.fq\n",
      "Approx 25% complete for read_2P.fq\n",
      "Approx 30% complete for read_2P.fq\n",
      "Approx 35% complete for read_2P.fq\n",
      "Approx 40% complete for read_2P.fq\n",
      "Approx 45% complete for read_2P.fq\n",
      "Approx 50% complete for read_2P.fq\n",
      "Approx 55% complete for read_2P.fq\n",
      "Approx 60% complete for read_2P.fq\n",
      "Approx 65% complete for read_2P.fq\n",
      "Approx 70% complete for read_2P.fq\n",
      "Approx 75% complete for read_2P.fq\n",
      "Approx 80% complete for read_2P.fq\n",
      "Approx 85% complete for read_2P.fq\n",
      "Approx 90% complete for read_2P.fq\n",
      "Analysis complete for read_2P.fq\n",
      "Started analysis of read_2U.fq\n",
      "Analysis complete for read_2U.fq\n"
     ]
    }
   ],
   "source": [
    "fastqc reads/read_*.fq"
   ]
  },
  {
   "cell_type": "code",
   "execution_count": 13,
   "id": "1e802419-29ff-4a21-a5e2-28ff1501facf",
   "metadata": {},
   "outputs": [
    {
     "name": "stdout",
     "output_type": "stream",
     "text": [
      "rm: cannot remove 'out': No such file or directory\n",
      "2022-10-18 14:49:53 - MEGAHIT v1.2.9\n",
      "2022-10-18 14:49:53 - Using megahit_core with POPCNT and BMI2 support\n",
      "2022-10-18 14:49:53 - Convert reads to binary library\n",
      "2022-10-18 14:49:53 - b'INFO  sequence/io/sequence_lib.cpp  :   75 - Lib 0 (/home/jovyan/coronavirus/reads/read_1P.fq,/home/jovyan/coronavirus/reads/read_2P.fq): pe, 37936 reads, 151 max length'\n",
      "2022-10-18 14:49:53 - b'INFO  utils/utils.h                 :  152 - Real: 0.0309\\tuser: 0.0264\\tsys: 0.0038\\tmaxrss: 14028'\n",
      "2022-10-18 14:49:53 - k-max reset to: 141 \n",
      "2022-10-18 14:49:53 - Start assembly. Number of CPU threads 2 \n",
      "2022-10-18 14:49:53 - k list: 21,29,39,59,79,99,119,141 \n",
      "2022-10-18 14:49:53 - Memory used: 3700312473\n",
      "2022-10-18 14:49:53 - Extract solid (k+1)-mers for k = 21 \n",
      "2022-10-18 14:49:54 - Build graph for k = 21 \n",
      "2022-10-18 14:49:55 - Assemble contigs from SdBG for k = 21\n",
      "2022-10-18 14:49:55 - Local assembly for k = 21\n",
      "2022-10-18 14:49:55 - Extract iterative edges from k = 21 to 29 \n",
      "2022-10-18 14:49:55 - Build graph for k = 29 \n",
      "2022-10-18 14:49:55 - Assemble contigs from SdBG for k = 29\n",
      "2022-10-18 14:49:56 - Local assembly for k = 29\n",
      "2022-10-18 14:49:56 - Extract iterative edges from k = 29 to 39 \n",
      "2022-10-18 14:49:56 - Build graph for k = 39 \n",
      "2022-10-18 14:49:56 - Assemble contigs from SdBG for k = 39\n",
      "2022-10-18 14:49:57 - Local assembly for k = 39\n",
      "2022-10-18 14:49:57 - Extract iterative edges from k = 39 to 59 \n",
      "2022-10-18 14:49:57 - Build graph for k = 59 \n",
      "2022-10-18 14:49:57 - Assemble contigs from SdBG for k = 59\n",
      "2022-10-18 14:49:57 - Local assembly for k = 59\n",
      "2022-10-18 14:49:58 - Extract iterative edges from k = 59 to 79 \n",
      "2022-10-18 14:49:58 - Build graph for k = 79 \n",
      "2022-10-18 14:49:58 - Assemble contigs from SdBG for k = 79\n",
      "2022-10-18 14:49:58 - Local assembly for k = 79\n",
      "2022-10-18 14:49:58 - Extract iterative edges from k = 79 to 99 \n",
      "2022-10-18 14:49:58 - Build graph for k = 99 \n",
      "2022-10-18 14:49:58 - Assemble contigs from SdBG for k = 99\n",
      "2022-10-18 14:49:59 - Local assembly for k = 99\n",
      "2022-10-18 14:49:59 - Extract iterative edges from k = 99 to 119 \n",
      "2022-10-18 14:49:59 - Build graph for k = 119 \n",
      "2022-10-18 14:49:59 - Assemble contigs from SdBG for k = 119\n",
      "2022-10-18 14:49:59 - Local assembly for k = 119\n",
      "2022-10-18 14:49:59 - Extract iterative edges from k = 119 to 141 \n",
      "2022-10-18 14:49:59 - Build graph for k = 141 \n",
      "2022-10-18 14:50:00 - Assemble contigs from SdBG for k = 141\n",
      "2022-10-18 14:50:00 - Merging to output final contigs \n",
      "2022-10-18 14:50:00 - 43 contigs, total 28467 bp, min 302 bp, max 3096 bp, avg 662 bp, N50 753 bp\n",
      "2022-10-18 14:50:00 - ALL DONE. Time elapsed: 6.317677 seconds \n",
      "file                  format  type  num_seqs  sum_len  min_len  avg_len  max_len\n",
      "out/final.contigs.fa  FASTA   DNA         43   28,467      302      662    3,096\n"
     ]
    }
   ],
   "source": [
    "# Shortcuts to read names\n",
    "R1=reads/read_1P.fq\n",
    "R2=reads/read_2P.fq\n",
    "\n",
    "# remove output directory if exists\n",
    "rm -r out\n",
    "\n",
    "# Run the assembler\n",
    "megahit -1 \"$R1\" -2 \"$R2\" -o out\n",
    "\n",
    "# Generate statistics.\n",
    "seqkit stats out/final.contigs.fa\n"
   ]
  },
  {
   "cell_type": "markdown",
   "id": "cc12bc1d-d341-4ff6-a021-8a72720150af",
   "metadata": {},
   "source": [
    "#### Iterative improvement\n",
    "\n",
    "This subsection is skipped because it is just scaling up the sequence size `N` subsampled from `SRR10971381`."
   ]
  },
  {
   "cell_type": "code",
   "execution_count": null,
   "id": "301229c7-1560-43e2-8d07-131a7ca28445",
   "metadata": {},
   "outputs": [],
   "source": []
  }
 ],
 "metadata": {
  "kernelspec": {
   "display_name": "Bash",
   "language": "bash",
   "name": "bash"
  },
  "language_info": {
   "codemirror_mode": "shell",
   "file_extension": ".sh",
   "mimetype": "text/x-sh",
   "name": "bash"
  }
 },
 "nbformat": 4,
 "nbformat_minor": 5
}
