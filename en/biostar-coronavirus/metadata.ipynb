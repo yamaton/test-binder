{
 "cells": [
  {
   "cell_type": "markdown",
   "id": "9aef4af2-ef17-4883-bfaa-d191131d12e9",
   "metadata": {},
   "source": [
    "## Analyzing viral metadata\n",
    "\n",
    "https://www.biostarhandbook.com/books/corona/viral-metadata.html"
   ]
  },
  {
   "cell_type": "code",
   "execution_count": 1,
   "id": "76f4dbb8-d01d-4a95-9092-dc2c6f2e96de",
   "metadata": {},
   "outputs": [
    {
     "name": "stdout",
     "output_type": "stream",
     "text": [
      "accession,species,host,date,location,isolate,species_name\n",
      "NC_045512.2,2697049,9606,2019-12,Asia; China,Wuhan-Hu-1,Severe acute respiratory syndrome coronavirus 2\n",
      "ON455075.1,2697049,,2021-02-01,North America; USA: South Dakota,SARS-CoV-2/USA: South Dakota/USA/SD-SDAIHG-0814/2021,Severe acute respiratory syndrome coronavirus 2\n",
      "ON455074.1,2697049,,2021-02-01,North America; USA: South Dakota,SARS-CoV-2/USA: South Dakota/USA/SD-SDAIHG-0812/2021,Severe acute respiratory syndrome coronavirus 2\n",
      "ON455072.1,2697049,,2021-01-18,North America; USA: South Dakota,SARS-CoV-2/USA: South Dakota/USA/SD-SDAIHG-0803/2021,Severe acute respiratory syndrome coronavirus 2\n",
      "ON455069.1,2697049,,2021-01-20,North America; USA: South Dakota,SARS-CoV-2/USA: South Dakota/USA/SD-SDAIHG-0806/2021,Severe acute respiratory syndrome coronavirus 2\n",
      "ON455064.1,2697049,,2021-01-19,North America; USA: South Dakota,SARS-CoV-2/USA: South Dakota/USA/SD-SDAIHG-0782/2021,Severe acute respiratory syndrome coronavirus 2\n",
      "ON455060.1,2697049,,2021-01-31,North America; USA: South Dakota,SARS-CoV-2/USA: South Dakota/USA/SD-SDAIHG-0811/2021,Severe acute respiratory syndrome coronavirus 2\n",
      "ON455059.1,2697049,,2021-02-01,North America; USA: South Dakota,SARS-CoV-2/USA: South Dakota/USA/SD-SDAIHG-0810/2021,Severe acute respiratory syndrome coronavirus 2\n",
      "ON455057.1,2697049,,2021-01-19,North America; USA: South Dakota,SARS-CoV-2/USA: South Dakota/USA/SD-SDAIHG-0804/2021,Severe acute respiratory syndrome coronavirus 2\n"
     ]
    }
   ],
   "source": [
    "%%bash\n",
    "\n",
    "bio meta 2697049 -H | head"
   ]
  },
  {
   "cell_type": "code",
   "execution_count": 2,
   "id": "697a4fe0-1914-4372-9ed9-f7188150a1c9",
   "metadata": {
    "tags": []
   },
   "outputs": [],
   "source": [
    "import math  # noqa\n",
    "math.sin(3.3)"
   ]
  },
  {
   "cell_type": "code",
   "execution_count": null,
   "id": "121a07a8-6371-4fe9-9e6f-886036a19004",
   "metadata": {},
   "outputs": [],
   "source": []
  }
 ],
 "metadata": {
  "kernelspec": {
   "display_name": "Python 3 (ipykernel)",
   "language": "python",
   "name": "python3"
  },
  "language_info": {
   "codemirror_mode": {
    "name": "ipython",
    "version": 3
   },
   "file_extension": ".py",
   "mimetype": "text/x-python",
   "name": "python",
   "nbconvert_exporter": "python",
   "pygments_lexer": "ipython3",
   "version": "3.9.13"
  }
 },
 "nbformat": 4,
 "nbformat_minor": 5
}
