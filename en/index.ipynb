{
 "cells": [
  {
   "cell_type": "markdown",
   "id": "29370ebe-b192-4930-9ad0-8e1aca40d725",
   "metadata": {},
   "source": [
    "# Getting Started with Triton Notebook\n",
    "\n",
    "\n",
    "## Notebook walkthrough"
   ]
  },
  {
   "cell_type": "markdown",
   "id": "be6fa3ef-25c7-496a-8fec-5305e1188837",
   "metadata": {},
   "source": [
    "Cells with `In [ ]:` on their left can execute programs and commands. This present cell doesn't have such symbols hence it's not executable.\n",
    "\n",
    "To run a cell, select a cell and type Shift + Enter (⇧ + Return on macOS)."
   ]
  },
  {
   "cell_type": "markdown",
   "id": "0700f2dc-a862-4761-a285-725f49dd31bf",
   "metadata": {},
   "source": [
    "### Running commands"
   ]
  },
  {
   "cell_type": "code",
   "execution_count": 1,
   "id": "3627005f",
   "metadata": {},
   "outputs": [
    {
     "name": "stderr",
     "output_type": "stream",
     "text": [
      "  % Total    % Received % Xferd  Average Speed   Time    Time     Time  Current\n",
      "                                 Dload  Upload   Total   Spent    Left  Speed\n"
     ]
    },
    {
     "name": "stdout",
     "output_type": "stream",
     "text": [
      "Weather report: Ashburn, Virginia, United States\n",
      "\n",
      "  \u001b[38;5;226m    \\   /    \u001b[0m Sunny\n",
      "  \u001b[38;5;226m     .-.     \u001b[0m \u001b[38;5;118m+59\u001b[0m(\u001b[38;5;118m57\u001b[0m) °F\u001b[0m     \n",
      "  \u001b[38;5;226m  ― (   ) ―  \u001b[0m \u001b[1m↑\u001b[0m \u001b[38;5;226m8\u001b[0m mph\u001b[0m        \n",
      "  \u001b[38;5;226m     `-’     \u001b[0m 9 mi\u001b[0m           \n",
      "  \u001b[38;5;226m    /   \\    \u001b[0m 0.0 in\u001b[0m         \n",
      "                                                       ┌─────────────┐                                                       \n",
      "┌──────────────────────────────┬───────────────────────┤  Thu 20 Oct ├───────────────────────┬──────────────────────────────┐\n",
      "│            Morning           │             Noon      └──────┬──────┘     Evening           │             Night            │\n",
      "├──────────────────────────────┼──────────────────────────────┼──────────────────────────────┼──────────────────────────────┤\n",
      "│               Cloudy         │ \u001b[38;5;226m    \\   /    \u001b[0m Sunny          │ \u001b[38;5;226m    \\   /    \u001b[0m Sunny          │ \u001b[38;5;226m    \\   /    \u001b[0m Clear          │\n",
      "│ \u001b[38;5;250m     .--.    \u001b[0m \u001b[38;5;049m+35\u001b[0m(\u001b[38;5;050m32\u001b[0m) °F\u001b[0m     │ \u001b[38;5;226m     .-.     \u001b[0m \u001b[38;5;154m60\u001b[0m °F\u001b[0m          │ \u001b[38;5;226m     .-.     \u001b[0m \u001b[38;5;082m+53\u001b[0m(\u001b[38;5;082m51\u001b[0m) °F\u001b[0m     │ \u001b[38;5;226m     .-.     \u001b[0m \u001b[38;5;082m+50\u001b[0m(\u001b[38;5;046m46\u001b[0m) °F\u001b[0m     │\n",
      "│ \u001b[38;5;250m  .-(    ).  \u001b[0m \u001b[1m↑\u001b[0m \u001b[38;5;190m6\u001b[0m-\u001b[38;5;226m8\u001b[0m mph\u001b[0m      │ \u001b[38;5;226m  ― (   ) ―  \u001b[0m \u001b[1m↗\u001b[0m \u001b[38;5;220m9\u001b[0m-\u001b[38;5;220m11\u001b[0m mph\u001b[0m     │ \u001b[38;5;226m  ― (   ) ―  \u001b[0m \u001b[1m↑\u001b[0m \u001b[38;5;226m9\u001b[0m-\u001b[38;5;214m14\u001b[0m mph\u001b[0m     │ \u001b[38;5;226m  ― (   ) ―  \u001b[0m \u001b[1m→\u001b[0m \u001b[38;5;118m3\u001b[0m-\u001b[38;5;190m7\u001b[0m mph\u001b[0m      │\n",
      "│ \u001b[38;5;250m (___.__)__) \u001b[0m 6 mi\u001b[0m           │ \u001b[38;5;226m     `-’     \u001b[0m 6 mi\u001b[0m           │ \u001b[38;5;226m     `-’     \u001b[0m 6 mi\u001b[0m           │ \u001b[38;5;226m     `-’     \u001b[0m 6 mi\u001b[0m           │\n",
      "│               0.0 in | 0%\u001b[0m    │ \u001b[38;5;226m    /   \\    \u001b[0m 0.0 in | 0%\u001b[0m    │ \u001b[38;5;226m    /   \\    \u001b[0m 0.0 in | 0%\u001b[0m    │ \u001b[38;5;226m    /   \\    \u001b[0m 0.0 in | 0%\u001b[0m    │\n",
      "└──────────────────────────────┴──────────────────────────────┴──────────────────────────────┴──────────────────────────────┘\n",
      "                                                       ┌─────────────┐                                                       \n",
      "┌──────────────────────────────┬───────────────────────┤  Fri 21 Oct ├───────────────────────┬──────────────────────────────┐\n",
      "│            Morning           │             Noon      └──────┬──────┘     Evening           │             Night            │\n",
      "├──────────────────────────────┼──────────────────────────────┼──────────────────────────────┼──────────────────────────────┤\n",
      "│ \u001b[38;5;226m    \\   /    \u001b[0m Sunny          │ \u001b[38;5;226m    \\   /    \u001b[0m Sunny          │ \u001b[38;5;226m    \\   /    \u001b[0m Sunny          │ \u001b[38;5;226m    \\   /    \u001b[0m Clear          │\n",
      "│ \u001b[38;5;226m     .-.     \u001b[0m \u001b[38;5;047m42\u001b[0m °F\u001b[0m          │ \u001b[38;5;226m     .-.     \u001b[0m \u001b[38;5;154m60\u001b[0m °F\u001b[0m          │ \u001b[38;5;226m     .-.     \u001b[0m \u001b[38;5;154m60\u001b[0m °F\u001b[0m          │ \u001b[38;5;226m     .-.     \u001b[0m \u001b[38;5;046m+48\u001b[0m(\u001b[38;5;046m46\u001b[0m) °F\u001b[0m     │\n",
      "│ \u001b[38;5;226m  ― (   ) ―  \u001b[0m \u001b[1m→\u001b[0m \u001b[38;5;082m1\u001b[0m-\u001b[38;5;118m2\u001b[0m mph\u001b[0m      │ \u001b[38;5;226m  ― (   ) ―  \u001b[0m \u001b[1m↖\u001b[0m \u001b[38;5;118m3\u001b[0m mph\u001b[0m        │ \u001b[38;5;226m  ― (   ) ―  \u001b[0m \u001b[1m↑\u001b[0m \u001b[38;5;118m3\u001b[0m-\u001b[38;5;190m6\u001b[0m mph\u001b[0m      │ \u001b[38;5;226m  ― (   ) ―  \u001b[0m \u001b[1m↖\u001b[0m \u001b[38;5;154m5\u001b[0m-\u001b[38;5;220m11\u001b[0m mph\u001b[0m     │\n",
      "│ \u001b[38;5;226m     `-’     \u001b[0m 6 mi\u001b[0m           │ \u001b[38;5;226m     `-’     \u001b[0m 6 mi\u001b[0m           │ \u001b[38;5;226m     `-’     \u001b[0m 6 mi\u001b[0m           │ \u001b[38;5;226m     `-’     \u001b[0m 6 mi\u001b[0m           │\n",
      "│ \u001b[38;5;226m    /   \\    \u001b[0m 0.0 in | 0%\u001b[0m    │ \u001b[38;5;226m    /   \\    \u001b[0m 0.0 in | 0%\u001b[0m    │ \u001b[38;5;226m    /   \\    \u001b[0m 0.0 in | 0%\u001b[0m    │ \u001b[38;5;226m    /   \\    \u001b[0m 0.0 in | 0%\u001b[0m    │\n",
      "└──────────────────────────────┴──────────────────────────────┴──────────────────────────────┴──────────────────────────────┘\n",
      "                                                       ┌─────────────┐                                                       \n",
      "┌──────────────────────────────┬───────────────────────┤  Sat 22 Oct ├───────────────────────┬──────────────────────────────┐\n",
      "│            Morning           │             Noon      └──────┬──────┘     Evening           │             Night            │\n",
      "├──────────────────────────────┼──────────────────────────────┼──────────────────────────────┼──────────────────────────────┤\n",
      "│ \u001b[38;5;226m    \\   /    \u001b[0m Sunny          │ \u001b[38;5;226m    \\   /    \u001b[0m Sunny          │ \u001b[38;5;226m    \\   /    \u001b[0m Sunny          │ \u001b[38;5;226m    \\   /    \u001b[0m Clear          │\n",
      "│ \u001b[38;5;226m     .-.     \u001b[0m \u001b[38;5;046m48\u001b[0m °F\u001b[0m          │ \u001b[38;5;226m     .-.     \u001b[0m \u001b[38;5;154m64\u001b[0m °F\u001b[0m          │ \u001b[38;5;226m     .-.     \u001b[0m \u001b[38;5;154m62\u001b[0m °F\u001b[0m          │ \u001b[38;5;226m     .-.     \u001b[0m \u001b[38;5;082m+51\u001b[0m(\u001b[38;5;082m50\u001b[0m) °F\u001b[0m     │\n",
      "│ \u001b[38;5;226m  ― (   ) ―  \u001b[0m \u001b[1m↖\u001b[0m \u001b[38;5;118m2\u001b[0m-\u001b[38;5;118m3\u001b[0m mph\u001b[0m      │ \u001b[38;5;226m  ― (   ) ―  \u001b[0m \u001b[1m↑\u001b[0m \u001b[38;5;154m4\u001b[0m-\u001b[38;5;154m5\u001b[0m mph\u001b[0m      │ \u001b[38;5;226m  ― (   ) ―  \u001b[0m \u001b[1m←\u001b[0m \u001b[38;5;154m4\u001b[0m-\u001b[38;5;226m8\u001b[0m mph\u001b[0m      │ \u001b[38;5;226m  ― (   ) ―  \u001b[0m \u001b[1m←\u001b[0m \u001b[38;5;118m3\u001b[0m-\u001b[38;5;226m8\u001b[0m mph\u001b[0m      │\n",
      "│ \u001b[38;5;226m     `-’     \u001b[0m 6 mi\u001b[0m           │ \u001b[38;5;226m     `-’     \u001b[0m 6 mi\u001b[0m           │ \u001b[38;5;226m     `-’     \u001b[0m 6 mi\u001b[0m           │ \u001b[38;5;226m     `-’     \u001b[0m 6 mi\u001b[0m           │\n",
      "│ \u001b[38;5;226m    /   \\    \u001b[0m 0.0 in | 0%\u001b[0m    │ \u001b[38;5;226m    /   \\    \u001b[0m 0.0 in | 0%\u001b[0m    │ \u001b[38;5;226m    /   \\    \u001b[0m 0.0 in | 0%\u001b[0m    │ \u001b[38;5;226m    /   \\    \u001b[0m 0.0 in | 0%\u001b[0m    │\n",
      "└──────────────────────────────┴──────────────────────────────┴──────────────────────────────┴──────────────────────────────┘\n",
      "\n",
      "Follow \u001b[46m\u001b[30m@igor_chubin\u001b[0m for wttr.in updates\n"
     ]
    },
    {
     "name": "stderr",
     "output_type": "stream",
     "text": [
      "100  8574  100  8574    0     0   8192      0  0:00:01  0:00:01 --:--:--  8196\n"
     ]
    }
   ],
   "source": [
    "%%bash\n",
    "\n",
    "## Lines starting with '#' are considered as comments; they are ignored when commands are executed.\n",
    "## Following is the command displaying weather forcast.\n",
    "\n",
    "curl wttr.in"
   ]
  },
  {
   "cell_type": "code",
   "execution_count": null,
   "id": "5417945d-9857-4bb0-bea5-cd68b399ae01",
   "metadata": {},
   "outputs": [],
   "source": []
  },
  {
   "cell_type": "markdown",
   "id": "3c539183-a1ef-4835-9837-5f6f219e3e40",
   "metadata": {},
   "source": [
    "### Executing Python programs and shell commands"
   ]
  },
  {
   "cell_type": "markdown",
   "id": "e5b12d3d-d07c-4dcc-b0a9-4e9223d693d3",
   "metadata": {},
   "source": [
    "We'll download a picture of nonexistent person's face synthesized by an AI."
   ]
  },
  {
   "cell_type": "code",
   "execution_count": 2,
   "id": "a5791cfa-b183-4c52-8b82-1a0268d4fb56",
   "metadata": {
    "vscode": {
     "languageId": "shellscript"
    }
   },
   "outputs": [
    {
     "name": "stderr",
     "output_type": "stream",
     "text": [
      "--2022-10-20 20:27:31--  https://thispersondoesnotexist.com/image\n",
      "Resolving thispersondoesnotexist.com (thispersondoesnotexist.com)... 172.67.130.241, 104.21.3.164, 2606:4700:3032::6815:3a4, ...\n",
      "Connecting to thispersondoesnotexist.com (thispersondoesnotexist.com)|172.67.130.241|:443... connected.\n",
      "HTTP request sent, awaiting response... 200 OK\n",
      "Length: 456459 (446K) [image/jpeg]\n",
      "Saving to: ‘image.jpg’\n",
      "\n",
      "     0K .......... .......... .......... .......... .......... 11%  333K 1s\n",
      "    50K .......... .......... .......... .......... .......... 22%  338K 1s\n",
      "   100K .......... .......... .......... .......... .......... 33%  115M 1s\n",
      "   150K .......... .......... .......... .......... .......... 44% 46.4M 0s\n",
      "   200K .......... .......... .......... .......... .......... 56%  344K 0s\n",
      "   250K .......... .......... .......... .......... .......... 67% 95.0M 0s\n",
      "   300K .......... .......... .......... .......... .......... 78%  223M 0s\n",
      "   350K .......... .......... .......... .......... .......... 89%  193M 0s\n",
      "   400K .......... .......... .......... .......... .....     100%  452K=0.5s\n",
      "\n",
      "2022-10-20 20:27:32 (814 KB/s) - ‘image.jpg’ saved [456459/456459]\n",
      "\n"
     ]
    }
   ],
   "source": [
    "%%bash\n",
    "\n",
    "## Download an image of a synthesized face\n",
    "wget -O image.jpg https://thispersondoesnotexist.com/image"
   ]
  },
  {
   "cell_type": "code",
   "execution_count": null,
   "id": "fb71e46f-38a2-4298-88bd-eb311fbc9ddf",
   "metadata": {},
   "outputs": [],
   "source": [
    "import math\n",
    "math.atan(1.2, 1.6)\n"
   ]
  },
  {
   "cell_type": "code",
   "execution_count": null,
   "id": "7cc4e49d-b8c6-4f78-bb9c-a394c52d2cb4",
   "metadata": {},
   "outputs": [],
   "source": [
    "## Display the downloaded file with Python code\n",
    "\n",
    "import matplotlib.pyplot as plt\n",
    "import matplotlib.image as mpimg\n",
    "im = mpimg.imread(\"./image.jpg\")\n",
    "plt.imshow(im)"
   ]
  },
  {
   "cell_type": "markdown",
   "id": "8542294d-3398-4213-bf98-7c0d865d5d3a",
   "metadata": {},
   "source": [
    "### Running R"
   ]
  },
  {
   "cell_type": "markdown",
   "id": "17c9e020",
   "metadata": {},
   "source": [
    "This is just a demonstration of vector opration $(3 x + 1)$ using R."
   ]
  },
  {
   "cell_type": "code",
   "execution_count": null,
   "id": "96a7ee49-8b0c-4f41-91ac-385a3fa5adb7",
   "metadata": {},
   "outputs": [],
   "source": [
    "%%R\n",
    "\n",
    "vec <- 1:10\n",
    "vec * 3 + 1"
   ]
  },
  {
   "cell_type": "markdown",
   "id": "db75b7b9-4221-4ecb-b3dc-b12a82f88e13",
   "metadata": {},
   "source": [
    "## Triton Notebook Features\n",
    "\n",
    "\n",
    "### Display tooltips for shell commands\n",
    "\n",
    "Move the cursor to `-xvf` and hit **Control key** to activate a tooltip. Try the same on `tar` as well. This tooltips decode intimidating tar command."
   ]
  },
  {
   "cell_type": "code",
   "execution_count": null,
   "id": "076cc3e7",
   "metadata": {
    "vscode": {
     "languageId": "shellscript"
    }
   },
   "outputs": [],
   "source": [
    "%%bash\n",
    "\n",
    "tar -xvf somefile.tar.gz"
   ]
  },
  {
   "cell_type": "markdown",
   "id": "ba071fcd",
   "metadata": {},
   "source": [
    "Mandatory reference: https://xkcd.com/1168/\n",
    "\n",
    "![](https://imgs.xkcd.com/comics/tar_2x.png)"
   ]
  },
  {
   "cell_type": "markdown",
   "id": "d4ab9888",
   "metadata": {},
   "source": [
    "### Autocomplete\n",
    "\n",
    "Move the cursor right after `git a`, and hit **TAB key** to activate autocomplete."
   ]
  },
  {
   "cell_type": "code",
   "execution_count": null,
   "id": "ceb4be38",
   "metadata": {
    "vscode": {
     "languageId": "shellscript"
    }
   },
   "outputs": [],
   "source": [
    "%%bash\n",
    "\n",
    "git a"
   ]
  },
  {
   "cell_type": "markdown",
   "id": "63012bba",
   "metadata": {},
   "source": [
    "### Packed with bioinformatics tools\n",
    "\n",
    "Bioinformatics tools typically require cumbersome setups and switching between environments. In this notebook, however, you can just type commands: no more `conda activate myawesomeenv`.\n",
    "\n",
    "Here⬇️ is the list of available tools. Please ping me at [Telegram](https://t.me/yamaton) or [Twitter](https://twitter.com/phantomile) if you find some tools missing or not working for you.\n"
   ]
  },
  {
   "cell_type": "code",
   "execution_count": null,
   "id": "4968a3a7",
   "metadata": {
    "vscode": {
     "languageId": "shellscript"
    }
   },
   "outputs": [],
   "source": [
    "%%bash\n",
    "\n",
    "condax list --short"
   ]
  },
  {
   "cell_type": "code",
   "execution_count": 1,
   "id": "e22e55c4-2cc5-42a9-a46c-3a72894bb651",
   "metadata": {},
   "outputs": [
    {
     "ename": "SyntaxError",
     "evalue": "invalid syntax (665790953.py, line 1)",
     "output_type": "error",
     "traceback": [
      "\u001b[0;36m  Input \u001b[0;32mIn [1]\u001b[0;36m\u001b[0m\n\u001b[0;31m    echo hello\u001b[0m\n\u001b[0m         ^\u001b[0m\n\u001b[0;31mSyntaxError\u001b[0m\u001b[0;31m:\u001b[0m invalid syntax\n"
     ]
    }
   ],
   "source": [
    "echo hello"
   ]
  },
  {
   "cell_type": "code",
   "execution_count": null,
   "id": "1ccfbbc9-5d30-4798-afbf-c652577e58ec",
   "metadata": {},
   "outputs": [],
   "source": []
  }
 ],
 "metadata": {
  "interpreter": {
   "hash": "b84e109b045a092625b2c92e1e9fd866d76190a677d88b51d11192902177fa4e"
  },
  "kernelspec": {
   "display_name": "Python 3 (ipykernel)",
   "language": "python",
   "name": "python3"
  },
  "language_info": {
   "codemirror_mode": {
    "name": "ipython",
    "version": 3
   },
   "file_extension": ".py",
   "mimetype": "text/x-python",
   "name": "python",
   "nbconvert_exporter": "python",
   "pygments_lexer": "ipython3",
   "version": "3.9.13"
  }
 },
 "nbformat": 4,
 "nbformat_minor": 5
}
