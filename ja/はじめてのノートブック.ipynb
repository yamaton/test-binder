{
 "cells": [
  {
   "cell_type": "markdown",
   "id": "34dc0426-84ff-4959-aee7-38c1ea733822",
   "metadata": {},
   "source": [
    "## ノートブックって何がうれしいの？"
   ]
  },
  {
   "cell_type": "markdown",
   "id": "8666303b-1c25-4820-9d58-a53198a76336",
   "metadata": {
    "tags": []
   },
   "source": [
    "### ✏️ 楽々コマンド入力\n",
    "オートコンプリート機能で、楽に正しくコマンド入力ができます。\n",
    "\n",
    "![](https://media.githubusercontent.com/media/yamaton/test-binder/dev/binder/assets/autocomplete.gif)\n",
    "\n",
    "これでもう `--thread` と `--threads` を間違えてエラーになったりしません。\n",
    "\n",
    "\n",
    "### 🔍 コマンドの意味をポップアップ表示\n",
    "カーソルをコマンドの各部に合わせるとポップアップが現れます。\n",
    "\n",
    "![](https://media.githubusercontent.com/media/yamaton/test-binder/dev/binder/assets/hover.gif)\n",
    "\n",
    "Usage を確認するのにも便利です。\n",
    "`tar -xvf` のような呪文を解きほぐして意味が見えてくるはずです。\n",
    "\n",
    "\n",
    "### 🏃 そのままコマンド実行\n",
    "各種バイオインフォマティクスツールがプリインストール済みなので、セットアップの必要がありません。また実行環境を気にすることなく各コマンドを利用できます。\n",
    "\n",
    "\n",
    "\n",
    "**\\[備考\\]** 内部的には `micromamba run` を通じて各conda環境内でコマンド実行されます。そのため多くのコマンド入っていても依存の衝突の心配がありません。\n",
    "\n",
    "\n",
    "### 📁 ファイルブラウザ\n",
    "画面左にファイルブラウザを表示できるので、もう `ls` とタイプする必要はありません。\n",
    "\n",
    "\n",
    "対象を右クリックして **Copy Relative Path** を選択してからのペーストで、パスの入力間違いを防げます。\n",
    "\n",
    "<img src=\"https://raw.githubusercontent.com/yamaton/test-binder/dev/binder/assets/copy-relative-path.png\" alt=\"copy relative path\" width=\"50%\"/>\n",
    "\n",
    "\n",
    "### 🎨 各種テーマ\n",
    "メニューのSettings → Theme から各種テーマを選べます。\n",
    "\n",
    "<img src=\"https://user-images.githubusercontent.com/36528777/79721723-6927f680-8315-11ea-8a5b-e2c298eeed09.png\" alt=\"\" width=\"50%\"/>\n",
    "\n",
    "<img src=\"https://raw.githubusercontent.com/simicd/jupyterlab-tailwind-theme/main/style/images/jupyterlab-tailwind-notebook-example-light.png\" alt=\"\" width=\"50%\"/>\n",
    "\n",
    "<img src=\"https://raw.githubusercontent.com/simicd/jupyterlab-tailwind-theme/main/style/images/jupyterlab-tailwind-notebook-example-dark.png\" alt=\"\" width=\"50%\"/>\n",
    "\n",
    "\n",
    "### 💻 ターミナル機能も\n",
    "いざというときにはターミナルも利用できます。\n",
    "\n",
    "タブの隣にあるプラス➕のボタンを押して \"Terminal\" をクリックすることで起動できます。\n",
    "\n",
    "\n",
    "\n",
    "\n"
   ]
  },
  {
   "cell_type": "code",
   "execution_count": null,
   "id": "0db5859f-a0ee-4024-a9c3-e57df5ebb0b5",
   "metadata": {},
   "outputs": [],
   "source": []
  },
  {
   "cell_type": "code",
   "execution_count": null,
   "id": "46a18577-07c7-4fd9-b472-eb02d9bc9a12",
   "metadata": {},
   "outputs": [],
   "source": []
  },
  {
   "cell_type": "markdown",
   "id": "0700f2dc-a862-4761-a285-725f49dd31bf",
   "metadata": {},
   "source": [
    "## コマンドラインツールを動かしてみる\n",
    "\n",
    "次のセルにある `curl 'wttr.in` から始まるコマンドは、天気予報を出してくれます。\n",
    "試しに実行してみてください。**セルを選択して Shift + Enter** です。\n",
    "\n",
    "実行が終わったら「越中島」の部分を別の地名に変えてまた実行してみてください。"
   ]
  },
  {
   "cell_type": "code",
   "execution_count": null,
   "id": "3627005f",
   "metadata": {
    "vscode": {
     "languageId": "shellscript"
    }
   },
   "outputs": [],
   "source": [
    "curl 'wttr.in/越中島?m&lang=ja'"
   ]
  },
  {
   "cell_type": "code",
   "execution_count": null,
   "id": "5417945d-9857-4bb0-bea5-cd68b399ae01",
   "metadata": {},
   "outputs": [],
   "source": []
  },
  {
   "cell_type": "code",
   "execution_count": null,
   "id": "7a724860-5c27-436f-b733-a74daf089638",
   "metadata": {},
   "outputs": [],
   "source": []
  },
  {
   "cell_type": "markdown",
   "id": "3c539183-a1ef-4835-9837-5f6f219e3e40",
   "metadata": {},
   "source": [
    "## おもむろにバクテリアゲノムを de novo assembly してみる"
   ]
  },
  {
   "cell_type": "markdown",
   "id": "61e7bed0-3804-49eb-b16b-99dcc990fc39",
   "metadata": {},
   "source": [
    "ノートブックの使い勝手を確かめるべく、メルボルンの資料[^1]を雑に追いかけてバクテリアゲノムのショートリードデータの de novo assembly を行ってみます。\n",
    "\n",
    "Shift+Enter を連打して実行していただくのもよし、隣に新しくセルを作って写経していただくのもよしです。\n",
    "\n",
    "[^1]: https://www.melbournebioinformatics.org.au/tutorials/tutorials/assembly/assembly-protocol/\n",
    "\n"
   ]
  },
  {
   "cell_type": "markdown",
   "id": "5964ab1f-85e3-4565-ab71-cdf12f074822",
   "metadata": {},
   "source": [
    "### 0. データの準備\n",
    "\n",
    "資料と違い手元にデータが無いので、代わりに E. Coli の Illumina リード ([SRR030257](https://trace.ncbi.nlm.nih.gov/Traces/?view=run_browser&page_size=10&acc=SRR030257)) を使うことにします。\n",
    "\n",
    "SRAからダウンロードをするため `sra-tools` に含まれる `prefetch` と `fasterq-dump` のコマンドを使います。"
   ]
  },
  {
   "cell_type": "code",
   "execution_count": null,
   "id": "0c572e84-b28b-4f20-8653-efa308cc1b53",
   "metadata": {},
   "outputs": [],
   "source": [
    "prefetch SRR030257"
   ]
  },
  {
   "cell_type": "markdown",
   "id": "ebe6f5b8-39d8-41c2-9e63-224f68753716",
   "metadata": {},
   "source": [
    "画面左のファイルブラウザで `SRR030257` が作られたのが確認できるはずです（成功していれば。）\n",
    "\n",
    "`prefetch` コマンドがダウンロードしてくるのは `SRR030257.sra` というファイルなので、ここから FASTQ を取り出します。"
   ]
  },
  {
   "cell_type": "code",
   "execution_count": null,
   "id": "002f935a-a8da-4681-a8f6-f34ac6aa9d25",
   "metadata": {},
   "outputs": [],
   "source": [
    "fasterq-dump SRR030257"
   ]
  },
  {
   "cell_type": "markdown",
   "id": "c256b743-717e-40cd-ab1b-1cbd923e653f",
   "metadata": {
    "tags": []
   },
   "source": [
    "### 1. FASTQ データの確認\n",
    "\n",
    "`SRR030257_1.fastq`, `SRR030257_2.fastq` という2つのファイルができました。\n",
    "\n",
    "次のコマンドを実行して、リード数 \"3800180\", \"Paired\" と出ることを確認してください。\n",
    "]"
   ]
  },
  {
   "cell_type": "code",
   "execution_count": null,
   "id": "e903a603-c17c-4510-be6d-991a9764c4d5",
   "metadata": {},
   "outputs": [],
   "source": [
    "seqfu count SRR030257_*.fastq"
   ]
  },
  {
   "cell_type": "markdown",
   "id": "4475cbd4-7550-462c-ad06-0fa05910c31e",
   "metadata": {},
   "source": [
    "### 2. クオリティコントロール (QC)\n",
    "\n",
    "`fastqc` でリードの品質を眺めてみます。\n"
   ]
  },
  {
   "cell_type": "code",
   "execution_count": null,
   "id": "42011f36-6fba-4cf3-ad30-9866e502e48d",
   "metadata": {},
   "outputs": [],
   "source": [
    "fastqc SRR030257_*.fastq"
   ]
  },
  {
   "cell_type": "markdown",
   "id": "f4065873-3df9-4abb-95f7-c69f4caa073b",
   "metadata": {},
   "source": [
    "`fastqc` はレポートをHTMLで出してくれます。\n",
    "\n",
    "画面左のファイルブラウザで `SRR030257_1_fastqc.html` をダブルクリックしてみてください。同ファイル名で新しいタブが現れてレポートを確認できます。\n",
    "\n",
    "資料ではここで `trimmomatic` を使ってトリミングの指示が出ていますが、今回はトリミング無しで進めてみます。アダプターとか既に取り除かれてるようですし。\n"
   ]
  },
  {
   "cell_type": "markdown",
   "id": "58f6d001-3ad0-4115-9545-fd6dfb6397dd",
   "metadata": {},
   "source": [
    "### 3. アセンブリ"
   ]
  },
  {
   "cell_type": "code",
   "execution_count": null,
   "id": "eb086e47-8eac-4fa9-bcf5-2ac1997b10e1",
   "metadata": {},
   "outputs": [],
   "source": [
    "spades.py -1 \"SRR030257_1.fastq\" -2 \"SRR030257_2.fastq\" -o \"spades_output\" --threads 4"
   ]
  },
  {
   "cell_type": "code",
   "execution_count": null,
   "id": "4da87fa7-7174-4d30-9c32-fcc3fc40d0c8",
   "metadata": {},
   "outputs": [],
   "source": []
  },
  {
   "cell_type": "markdown",
   "id": "31220d4f-9cd9-4359-ae4a-6f2f6167db6d",
   "metadata": {},
   "source": [
    "### 4. draft contig の確認"
   ]
  },
  {
   "cell_type": "code",
   "execution_count": null,
   "id": "f58e8a30-fbba-4c80-86a3-014691a44ffd",
   "metadata": {},
   "outputs": [],
   "source": []
  },
  {
   "cell_type": "markdown",
   "id": "48e01a46",
   "metadata": {
    "tags": []
   },
   "source": [
    "## インストール済みパッケージ一覧\n",
    "\n",
    "Triton Notebook にはたくさんのバイオインフォマティックスのツールがインストール済みです。何か動かなかったり足りなかったりしたら [Telegram](https://t.me/yamaton) または [Twitter](https://twitter.com/phantomile) に投げてください。ツール名を並べてもらえばＯＫです。\n",
    "\n",
    "インストール済みツールを確認するにはこちら⬇️を実行。"
   ]
  },
  {
   "cell_type": "code",
   "execution_count": null,
   "id": "db75b7b9-4221-4ecb-b3dc-b12a82f88e13",
   "metadata": {},
   "outputs": [],
   "source": [
    "condax list --short"
   ]
  },
  {
   "cell_type": "code",
   "execution_count": null,
   "id": "573b9a3f-2553-4ccb-ad29-e32c12ffc7fd",
   "metadata": {},
   "outputs": [],
   "source": []
  }
 ],
 "metadata": {
  "kernelspec": {
   "display_name": "Bash",
   "language": "bash",
   "name": "bash"
  },
  "language_info": {
   "codemirror_mode": "shell",
   "file_extension": ".sh",
   "mimetype": "text/x-sh",
   "name": "bash"
  }
 },
 "nbformat": 4,
 "nbformat_minor": 5
}
