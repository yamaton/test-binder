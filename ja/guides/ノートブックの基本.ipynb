{
 "cells": [
  {
   "cell_type": "markdown",
   "id": "3568ff08-3f92-48af-bb8d-cf53c3461d95",
   "metadata": {},
   "source": [
    "## ノートブックの基本\n",
    "\n",
    "ノートブックを使うにあたって知っておくことは次のことです。\n",
    "\n",
    "0. Shift+Enter またはツールバーの▶️をクリックすることでセル単位で実行できること\n",
    "1. セルには２種類あって Markdown または Code のどちらかであること\n",
    "2. Codeセルの実行はカーネルによって行われること \n"
   ]
  },
  {
   "cell_type": "markdown",
   "id": "e507c67d-4a49-4fe6-8f42-72ec55705606",
   "metadata": {},
   "source": [
    "### 1. セルの種類について\n",
    "\n",
    "ノートブックにはいくつものセルが並ぶことになります。それぞれのセルが、文章用セルのMarkdownかプログラム実行用セルのCodeのどちらかになります。\n",
    "\n",
    "セルがCodeか否かはセル左側に `[ ]:` のようなカッコが出ているかで判定できますし、上にあるツールバーからも分かります。\n",
    "\n",
    "**\\[練習\\]** たとえばこのセルを選択した状態ではツールバーに Markdown と出ることを確認してください。\n",
    "\n",
    "なおセルの属性はツールバーからいつでも変更できます。"
   ]
  },
  {
   "cell_type": "markdown",
   "id": "00124a9b-0f7d-4538-9484-ee4d9a08d037",
   "metadata": {},
   "source": [
    "### 2. カーネルについて\n",
    "\n",
    "Codeセルを実行するとカーネルが処理を行ってくれます。ノートブックの新規作成時にどのカーネルを使うのか聞かれます。\n",
    "\n",
    "* Python コードを動かすばあいには、**Python 3 (ipykernel)** をカーネルとして選択してください。\n",
    "* コマンドラインプログラムだけを動かすばあいには、**Bash** をカーネルとして選択してください。\n",
    "\n",
    "通常はひとつのカーネルに結び付けて使いますが、カーネルの変更はいつでもツールバー右端から行えます。"
   ]
  },
  {
   "cell_type": "markdown",
   "id": "ce3c8e58-5f78-4a9d-a040-39d7f183214f",
   "metadata": {},
   "source": [
    "### 次のステップ\n",
    "\n",
    "「使いかたガイド」フォルダに詳細や用例があります。ご参照ください。\n"
   ]
  },
  {
   "cell_type": "code",
   "execution_count": null,
   "id": "b6518499-3a76-43af-a267-2834da154e02",
   "metadata": {},
   "outputs": [],
   "source": []
  }
 ],
 "metadata": {
  "kernelspec": {
   "display_name": "Python 3 (ipykernel)",
   "language": "python",
   "name": "python3"
  },
  "language_info": {
   "codemirror_mode": {
    "name": "ipython",
    "version": 3
   },
   "file_extension": ".py",
   "mimetype": "text/x-python",
   "name": "python",
   "nbconvert_exporter": "python",
   "pygments_lexer": "ipython3",
   "version": "3.10.6"
  }
 },
 "nbformat": 4,
 "nbformat_minor": 5
}
