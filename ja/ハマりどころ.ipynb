{
 "cells": [
  {
   "cell_type": "markdown",
   "id": "d6d95540-f286-4822-9260-9201b1ed9b23",
   "metadata": {},
   "source": [
    "## FAQs\n",
    "\n",
    "### いきなりセルが消えてしまった…\n",
    "\n",
    "**あせらずメニューから Edit → Undo してみてください。** セルを選択した状態で d をタイプするとセルが削除されるのが（おそらくの）原因です。\n",
    "\n",
    "\n",
    "\n",
    "### コマンドを実行すると `SyntaxError: invalid syntax` とエラーが出る\n",
    "\n",
    "ノートブック画面右上に \"Bash\" と出ていますか？ \"Python 3 (ipykernel)\" となっているときにはクリックしてカーネルをBashに変更してください。\n",
    "\n",
    "\n",
    "\n",
    "\n",
    "\n",
    "### ログアウトはどうしたら？\n",
    "\n",
    "メニューの File → Log Out からできます。ですがログアウトしなくてもノートブック環境は３０分放置されると自動終了される設定になっています。\n",
    "\n",
    "\n",
    "### ファイルのアップロードはどうしたら？\n",
    "\n",
    "ファイルブラウザの上にある、上向き矢印アイコン⬆️をクリックすると File Upload ウィンドウ開いてお手元のPCのファイルをアップロードできます。\n",
    "\n",
    "\n",
    "### ファイルのダウンロードはどうしたら？\n",
    "\n",
    "ファイルブラウザで対象を右クリックすると Download を選択できます。\n",
    "\n",
    "\n",
    "### 環境の確認は？\n",
    "インストール済みのソフトウェアをざっと確認するためには `condax list` を使います。\n",
    "\n",
    "```shell\n",
    "condax list\n",
    "```\n",
    "\n",
    "\n",
    "### 環境のエクスポートは？\n",
    "\n",
    "`condax` 環境をエクスポートすることで、他のコンピュータでも同じ環境を再現できます。\n",
    "\n",
    "\n",
    "```shell\n",
    "condax export\n",
    "tar -cvf condax_exported.tar.gz condax_exported\n",
    "```\n",
    "\n",
    "`condax_exported` ディレクトリの中には [conda標準の環境YAMLファイル](https://docs.conda.io/projects/conda/en/latest/user-guide/tasks/manage-environments.html#updating-an-environment) が複数入っています。１ファイルにつき１環境です。 `conda env create --file <filename.yaml>` より環境を再現できます。\n",
    "\n",
    "\n",
    "または `condax` (管理人によるフォーク版のみ動作します) を[インストール](https://github.com/yamaton/condax#how-to-install-and-setup-condax)したうえで  `condax install condax_exported` とすることで一気に環境の再構築をすることもできます。\n",
    "\n",
    "\n"
   ]
  },
  {
   "cell_type": "markdown",
   "id": "1cb77387-77ec-47a3-8f87-b294e24220c0",
   "metadata": {},
   "source": [
    "## 不具合・要望がありましたら\n",
    "\n",
    "管理人 <yamato.matsuoka@tritionlab.io> または https://t.me/yamaton まで連絡お願いします。"
   ]
  },
  {
   "cell_type": "code",
   "execution_count": null,
   "id": "99fd55ce-da6d-4ea5-b792-5d3455f9db83",
   "metadata": {},
   "outputs": [],
   "source": []
  },
  {
   "cell_type": "code",
   "execution_count": null,
   "id": "442550c4-da25-47a6-8696-924cd6780801",
   "metadata": {},
   "outputs": [],
   "source": []
  }
 ],
 "metadata": {
  "kernelspec": {
   "display_name": "Bash",
   "language": "bash",
   "name": "bash"
  },
  "language_info": {
   "codemirror_mode": "shell",
   "file_extension": ".sh",
   "mimetype": "text/x-sh",
   "name": "bash"
  }
 },
 "nbformat": 4,
 "nbformat_minor": 5
}
