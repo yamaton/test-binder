{
 "cells": [
  {
   "cell_type": "markdown",
   "id": "b8ec26e9-a388-4997-ac61-d5d6a63161a8",
   "metadata": {},
   "source": [
    "## おもむろにバクテリアゲノムを de novo assembly してみる"
   ]
  },
  {
   "cell_type": "markdown",
   "id": "7d235948-727d-463b-9495-7bf14db42d80",
   "metadata": {},
   "source": [
    "ノートブックの使い勝手を確かめるべく、メルボルンの資料[^1]を雑に追いかけてバクテリアゲノムのショートリードデータの de novo assembly を行ってみます。\n",
    "\n",
    "Shift+Enter を連打して実行していただくのもよし、隣に新しくセルを作って写経していただくのもよしです。\n",
    "\n",
    "[^1]: https://www.melbournebioinformatics.org.au/tutorials/tutorials/assembly/assembly-protocol/\n",
    "\n"
   ]
  },
  {
   "cell_type": "markdown",
   "id": "df55fadd-9deb-4c71-8184-82e8d39a3424",
   "metadata": {},
   "source": [
    "### 0. データの準備\n",
    "\n",
    "資料と違い手元にデータが無いので、代わりに E. Coli の Illumina リード ([SRR030257](https://trace.ncbi.nlm.nih.gov/Traces/?view=run_browser&page_size=10&acc=SRR030257)) を使うことにします。\n",
    "\n",
    "SRAからダウンロードをするため `sra-tools` に含まれる `prefetch` と `fasterq-dump` のコマンドを使います。"
   ]
  },
  {
   "cell_type": "code",
   "execution_count": null,
   "id": "00b2de66-f2a6-4ad5-9519-6d8e253f0767",
   "metadata": {},
   "outputs": [],
   "source": [
    "prefetch SRR030257"
   ]
  },
  {
   "cell_type": "markdown",
   "id": "b90e9616-5b5d-405b-af77-6a68f83068cb",
   "metadata": {},
   "source": [
    "画面左のファイルブラウザで `SRR030257` が作られたのが確認できるはずです（成功していれば。）\n",
    "\n",
    "`prefetch` コマンドがダウンロードしてくるのは `SRR030257.sra` というファイルなので、ここから FASTQ を取り出します。"
   ]
  },
  {
   "cell_type": "code",
   "execution_count": null,
   "id": "0deb8d8f-9554-4b85-af9c-775340dc2cbf",
   "metadata": {},
   "outputs": [],
   "source": [
    "fasterq-dump SRR030257"
   ]
  },
  {
   "cell_type": "markdown",
   "id": "4f197186-8c3f-4909-a563-c1796ccfed4c",
   "metadata": {
    "tags": []
   },
   "source": [
    "### 1. FASTQ データの確認\n",
    "\n",
    "`SRR030257_1.fastq`, `SRR030257_2.fastq` という2つのファイルができました。\n",
    "\n",
    "次のコマンドを実行して、リード数 \"3800180\", \"Paired\" と出ることを確認してください。"
   ]
  },
  {
   "cell_type": "code",
   "execution_count": null,
   "id": "cc9bfd3c-7ac8-40a4-a24c-483006ca405f",
   "metadata": {},
   "outputs": [],
   "source": [
    "seqfu count SRR030257_*.fastq"
   ]
  },
  {
   "cell_type": "markdown",
   "id": "500f5edc-1e3b-402c-a69f-e0979e791987",
   "metadata": {},
   "source": [
    "### 2. クオリティコントロール (QC)\n",
    "\n",
    "`fastqc` でリードの品質を眺めてみます。\n"
   ]
  },
  {
   "cell_type": "code",
   "execution_count": null,
   "id": "06bc4168-c5ab-46a5-b473-7a8d14a0deed",
   "metadata": {},
   "outputs": [],
   "source": [
    "fastqc SRR030257_*.fastq"
   ]
  },
  {
   "cell_type": "markdown",
   "id": "7d8238c8-7c7c-4f06-9e08-913b740279f3",
   "metadata": {},
   "source": [
    "`fastqc` はレポートをHTMLで出してくれます。\n",
    "\n",
    "画面左のファイルブラウザで `SRR030257_1_fastqc.html` をダブルクリックしてみてください。同ファイル名で新しいタブが現れてレポートを確認できます。\n",
    "\n",
    "資料ではここで `trimmomatic` を使ってトリミングの指示が出ていますが、今回はトリミング無しで進めてみます。アダプターとか既に取り除かれてるようですし。\n"
   ]
  },
  {
   "cell_type": "markdown",
   "id": "1de980d6-fbeb-4c21-8d53-2c2ea08f03ef",
   "metadata": {},
   "source": [
    "### 3. アセンブリ\n",
    "Spades でアセンブリします。**時間がかかるのでしばらく放置する覚悟でお願いします。**"
   ]
  },
  {
   "cell_type": "code",
   "execution_count": null,
   "id": "eb477d61-1bff-4569-9cfc-47f858623ba4",
   "metadata": {},
   "outputs": [],
   "source": [
    "spades.py -1 \"SRR030257_1.fastq\" -2 \"SRR030257_2.fastq\" -o \"spades_output\" --threads 4"
   ]
  },
  {
   "cell_type": "code",
   "execution_count": null,
   "id": "1661f68a-acde-4a00-a7d8-2fa3bb2cc158",
   "metadata": {},
   "outputs": [],
   "source": []
  },
  {
   "cell_type": "markdown",
   "id": "bb1da9e0-74cd-4589-840a-296ec46e1f90",
   "metadata": {},
   "source": [
    "### 4. draft contig の確認\n",
    "\n",
    "（ここは quast? ）"
   ]
  },
  {
   "cell_type": "code",
   "execution_count": null,
   "id": "d4e59366-d494-4382-815f-889dedcde4bf",
   "metadata": {},
   "outputs": [],
   "source": []
  }
 ],
 "metadata": {
  "kernelspec": {
   "display_name": "Bash",
   "language": "bash",
   "name": "bash"
  },
  "language_info": {
   "codemirror_mode": "shell",
   "file_extension": ".sh",
   "mimetype": "text/x-sh",
   "name": "bash"
  }
 },
 "nbformat": 4,
 "nbformat_minor": 5
}
