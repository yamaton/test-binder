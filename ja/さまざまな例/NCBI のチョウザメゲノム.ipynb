{
 "cells": [
  {
   "cell_type": "markdown",
   "id": "1cd38e56-b78f-48cb-a18f-164982207340",
   "metadata": {},
   "source": [
    "### NCBI のチョウザメゲノムを探ってみる\n",
    "\n",
    "NCBI にはどのようなチョウザメ (acipenser) のゲノム情報が登録されているのか調べてみます。\n",
    "\n",
    "同時に [NCBI Datasets](https://ncbiinsights.ncbi.nlm.nih.gov/2022/10/12/ncbi-datasets-command-line-tools/) の `datasets` の挙動を調べていきます。JSONデータの加工には `jq` を使います。\n",
    "\n",
    "まずは `datasets --help` を頼りに次のコマンドを入れてみます。"
   ]
  },
  {
   "cell_type": "code",
   "execution_count": 1,
   "id": "b8c65a87-59c8-41a0-a446-9f68f9d6cbc2",
   "metadata": {
    "collapsed": true,
    "jupyter": {
     "outputs_hidden": true
    },
    "tags": []
   },
   "outputs": [
    {
     "name": "stdout",
     "output_type": "stream",
     "text": [
      "{\"reports\": [{\"accession\":\"GCA_024762115.1\",\"assembly_info\":{\"assembly_level\":\"Contig\",\"assembly_name\":\"AG_genome\",\"assembly_status\":\"current\",\"assembly_type\":\"haploid\",\"bioproject_lineage\":[{\"bioprojects\":[{\"accession\":\"PRJNA851573\",\"title\":\"Acipenser gueldenstaedtii Genome sequencing and assembly\"}]}],\"biosample\":{\"accession\":\"SAMN29232907\",\"attributes\":[{\"name\":\"isolate\",\"value\":\"M9\"},{\"name\":\"collection_date\",\"value\":\"2018\"},{\"name\":\"depth\",\"value\":\"0\"},{\"name\":\"env_broad_scale\",\"value\":\"Artificial pool\"},{\"name\":\"env_local_scale\",\"value\":\"Dan Fish Farm\"},{\"name\":\"env_medium\",\"value\":\"Artificial pool\"},{\"name\":\"geo_loc_name\",\"value\":\"Israel: Upper Galilee, Dan Fish Farm\"},{\"name\":\"isol_growth_condt\",\"value\":\"https://doi.org/10.1111/age.13188\"},{\"name\":\"lat_lon\",\"value\":\"33.2355 N 35.6570 E\"},{\"name\":\"sex\",\"value\":\"male\"},{\"name\":\"age\",\"value\":\"4 years old\"}],\"bioprojects\":[{\"accession\":\"PRJNA851573\"}],\"description\":{\"comment\":\"Keywords: GSC:MIxS;MIGS:5.0\",\"organism\":{\"organism_name\":\"Acipenser gueldenstaedtii\",\"tax_id\":7902},\"title\":\"MIGS Eukaryotic sample from male Acipenser gueldenstaedtii (Russian sturgeon)\"},\"last_updated\":\"2022-07-11T15:04:19.365\",\"models\":[\"MIGS.eu\",\"MIGS/MIMS/MIMARKS.water\"],\"owner\":{\"contacts\":[{}],\"name\":\"Ben-Gurion University of the Negev\"},\"package\":\"MIGS.eu.water.5.0\",\"publication_date\":\"2022-07-01T00:00:00.000\",\"sample_ids\":[{\"label\":\"Sample name\",\"value\":\"M9\"},{\"db\":\"SRA\",\"value\":\"SRS13689927\"}],\"status\":{\"status\":\"live\",\"when\":\"2022-07-01T00:58:26.570\"},\"submission_date\":\"2022-06-22T05:01:05.206\"},\"blast_url\":\"https://blast.ncbi.nlm.nih.gov/Blast.cgi?PAGE_TYPE=BlastSearch\\u0026PROG_DEF=blastn\\u0026BLAST_SPEC=GDH_GCA_024762115.1\",\"refseq_category\":\"representative genome\",\"sequencing_tech\":\"BGISEQ-500\",\"submission_date\":\"2022-08-29\",\"submitter\":\"Ben-Gurion University of the Negev\"},\"assembly_stats\":{\"contig_l50\":471066,\"contig_n50\":1043,\"gc_count\":\"939290298\",\"gc_percent\":39,\"number_of_component_sequences\":3393603,\"number_of_contigs\":3393603,\"total_sequence_length\":\"2389722506\",\"total_ungapped_length\":\"2389722506\"},\"current_accession\":\"GCA_024762115.1\",\"organism\":{\"common_name\":\"Russian sturgeon\",\"infraspecific_names\":{\"isolate\":\"M9\",\"sex\":\"male\"},\"organism_name\":\"Acipenser gueldenstaedtii\",\"tax_id\":7902},\"source_database\":\"SOURCE_DATABASE_GENBANK\",\"wgs_info\":{\"master_wgs_url\":\"https://www.ncbi.nlm.nih.gov/nuccore/JANDEF000000000.1\",\"wgs_contigs_url\":\"https://www.ncbi.nlm.nih.gov/Traces/wgs/JANDEF01\",\"wgs_project_accession\":\"JANDEF01\"}},{\"accession\":\"GCA_013184475.1\",\"assembly_info\":{\"assembly_level\":\"Contig\",\"assembly_name\":\"ASM1318447v1\",\"assembly_status\":\"current\",\"assembly_type\":\"haploid\",\"bioproject_lineage\":[{\"bioprojects\":[{\"accession\":\"PRJNA564091\",\"title\":\"Acipenser oxyrinchus oxyrinchus genomic DNA sequence reads\"}]}],\"biosample\":{\"accession\":\"SAMN14251471\",\"attributes\":[{\"name\":\"ecotype\",\"value\":\"Atlantic Coast\"},{\"name\":\"age\",\"value\":\"Adult and juveniles, precise age unknown\"},{\"name\":\"sex\",\"value\":\"pooled male and female\"},{\"name\":\"tissue\",\"value\":\"fin clip, barbel, muscle\"},{\"name\":\"Biosamples used in assembly\",\"value\":\"SAMN12702089 SAMN12702090 SAMN12702091 SAMN12702092 SAMN12702093 SAMN12702094 SAMN12702095 SAMN12702096 SAMN12702097 SAMN12702098 SAMN12702099 SAMN12702100 SAMN12702101 SAMN12702102 SAMN12702103 SAMN12702104 SAMN12702105 SAMN12702106 SAMN12702107 SAMN12702108 SAMN12702109 SAMN12702110 SAMN12702111 SAMN12702112 SAMN12702113 SAMN12702114 SAMN12702115 SAMN12702116 SAMN12702117 SAMN12702118 SAMN12702119 SAMN12702120 SAMN12702121 SAMN12702122 SAMN12702123 SAMN12702124 SAMN12702125 SAMN12702126 SAMN12702127 SAMN12702128 SAMN12702129 SAMN12702130 SAMN12702131 SAMN12702132 SAMN12702133 SAMN12702134 SAMN12702135 SAMN12702136 SAMN12702137 SAMN12702138 SAMN12702139 SAMN12702140 SAMN12702141 SAMN12702142 SAMN12702143 SAMN12702144 SAMN12702145 SAMN12702146 SAMN12702147 SAMN12702148 SAMN12702149 SAMN12702150 SAMN12702151 SAMN12702152 SAMN12702153 SAMN12702154 SAMN12702155 SAMN12702156 SAMN12702157 SAMN12702158 SAMN12702159\"},{\"name\":\"sub_species\",\"value\":\"oxyrinchus\"}],\"bioprojects\":[{\"accession\":\"PRJNA564091\"}],\"description\":{\"organism\":{\"organism_name\":\"Acipenser oxyrinchus oxyrinchus\",\"tax_id\":40147},\"title\":\"Model organism or animal sample from Acipenser oxyrinchus oxyrinchus\"},\"last_updated\":\"2020-02-28T17:46:05.173\",\"models\":[\"Model organism or animal\"],\"owner\":{\"contacts\":[{}],\"name\":\"US Geological Survey\"},\"package\":\"Model.organism.animal.1.0\",\"publication_date\":\"2020-02-28T00:00:00.000\",\"sample_ids\":[{\"label\":\"Sample name\",\"value\":\"Acipenser_oxyrinchus_oxyrinchus_denovo_assembly\"}],\"status\":{\"status\":\"live\",\"when\":\"2020-02-28T17:46:05.173\"},\"submission_date\":\"2020-02-28T17:46:05.173\"},\"blast_url\":\"https://blast.ncbi.nlm.nih.gov/Blast.cgi?PAGE_TYPE=BlastSearch\\u0026PROG_DEF=blastn\\u0026BLAST_SPEC=GDH_GCA_013184475.1\",\"refseq_category\":\"representative genome\",\"sequencing_tech\":\"Illumina NextSeq\",\"submission_date\":\"2020-05-28\",\"submitter\":\"USGS Leetown Science Center\"},\"assembly_stats\":{\"contig_l50\":256786,\"contig_n50\":1104,\"gc_count\":\"379273446\",\"gc_percent\":38,\"number_of_component_sequences\":1317395,\"number_of_contigs\":1317395,\"total_sequence_length\":\"991502287\",\"total_ungapped_length\":\"991502287\"},\"current_accession\":\"GCA_013184475.1\",\"organism\":{\"infraspecific_names\":{\"ecotype\":\"Atlantic Coast\",\"sex\":\"pooled male and female\"},\"organism_name\":\"Acipenser oxyrinchus oxyrinchus\",\"tax_id\":40147},\"source_database\":\"SOURCE_DATABASE_GENBANK\",\"wgs_info\":{\"master_wgs_url\":\"https://www.ncbi.nlm.nih.gov/nuccore/JABEPO000000000.1\",\"wgs_contigs_url\":\"https://www.ncbi.nlm.nih.gov/Traces/wgs/JABEPO01\",\"wgs_project_accession\":\"JABEPO01\"}},{\"accession\":\"GCF_010645085.1\",\"annotation_info\":{\"busco\":{\"busco_lineage\":\"actinopterygii_odb10\",\"busco_ver\":\"4.0.2\",\"complete\":0.96236265,\"duplicated\":0.65384614,\"fragmented\":0.007967033,\"missing\":0.02967033,\"single_copy\":0.30851647,\"total_count\":\"3640\"},\"method\":\"Best-placed RefSeq; Gnomon\",\"name\":\"NCBI Annotation Release 101\",\"pipeline\":\"NCBI eukaryotic genome annotation pipeline\",\"provider\":\"NCBI RefSeq\",\"release_date\":\"2020-05-27\",\"release_version\":\"101\",\"report_url\":\"https://www.ncbi.nlm.nih.gov/genome/annotation_euk/Acipenser_ruthenus/101/\",\"software_version\":\"8.4\",\"stats\":{\"gene_counts\":{\"non_coding\":8043,\"other\":117,\"protein_coding\":36033,\"pseudogene\":2000,\"total\":46193}},\"status\":\"Full annotation\"},\"assembly_info\":{\"assembly_level\":\"Chromosome\",\"assembly_name\":\"ASM1064508v1\",\"assembly_status\":\"current\",\"assembly_type\":\"haploid\",\"bioproject_lineage\":[{\"bioprojects\":[{\"accession\":\"PRJNA561280\",\"title\":\"Acipenser ruthenus (Sterlet ) Genome sequencing and assembly\"}]}],\"biosample\":{\"accession\":\"SAMN12612932\",\"attributes\":[{\"name\":\"isolate\",\"value\":\"Gen_M01\"},{\"name\":\"tissue\",\"value\":\"testis, blood\"},{\"name\":\"collection_date\",\"value\":\"2018\"},{\"name\":\"depth\",\"value\":\"Water depth \\u003e 1m\"},{\"name\":\"env_broad_scale\",\"value\":\"Leibniz Institute of Freshwater Ecology and Inland fisheries (IGB)\"},{\"name\":\"env_local_scale\",\"value\":\"Leibniz Institute of Freshwater Ecology and Inland fisheries (IGB)\"},{\"name\":\"env_medium\",\"value\":\"water\"},{\"name\":\"geo_loc_name\",\"value\":\"Germany:IGB\"},{\"name\":\"isol_growth_condt\",\"value\":\"https://www.igb-berlin.de/en\"},{\"name\":\"lat_lon\",\"value\":\"52.448940 N 13.648750 E\"}],\"bioprojects\":[{\"accession\":\"PRJNA561280\"}],\"description\":{\"comment\":\"Keywords: GSC:MIxS;MIGS:5.0\",\"organism\":{\"organism_name\":\"Acipenser ruthenus\",\"tax_id\":7906},\"title\":\"MIGS Eukaryotic sample from Acipenser ruthenus (Sterlet)\"},\"last_updated\":\"2020-02-16T12:38:09.933\",\"models\":[\"MIGS.eu\",\"MIGS/MIMS/MIMARKS.water\"],\"owner\":{\"contacts\":[{}],\"name\":\"University of Wuerzburg\"},\"package\":\"MIGS.eu.water.5.0\",\"publication_date\":\"2020-02-16T12:38:09.933\",\"sample_ids\":[{\"label\":\"Sample name\",\"value\":\"testis and blood from a sterlet\"},{\"db\":\"SRA\",\"value\":\"SRS5440724\"}],\"status\":{\"status\":\"live\",\"when\":\"2020-02-16T12:38:09.933\"},\"submission_date\":\"2019-08-21T05:16:04.937\"},\"blast_url\":\"https://blast.ncbi.nlm.nih.gov/Blast.cgi?PAGE_TYPE=BlastSearch\\u0026PROG_DEF=blastn\\u0026BLAST_SPEC=GDH_GCF_010645085.1\",\"paired_assembly\":{\"accession\":\"GCA_010645085.1\",\"status\":\"current\"},\"refseq_category\":\"representative genome\",\"sequencing_tech\":\"Illumina NovaSeq; PacBio; Hi-C\",\"submission_date\":\"2020-02-19\",\"submitter\":\"University of Wuerzburg\"},\"assembly_stats\":{\"contig_l50\":837,\"contig_n50\":601142,\"gc_count\":\"727231742\",\"gc_percent\":39.5,\"number_of_component_sequences\":3403,\"number_of_contigs\":9674,\"number_of_scaffolds\":3403,\"scaffold_l50\":12,\"scaffold_n50\":42361471,\"total_number_of_chromosomes\":60,\"total_sequence_length\":\"1830484458\",\"total_ungapped_length\":\"1829230258\"},\"current_accession\":\"GCF_010645085.1\",\"organelle_info\":[{\"assembly_name\":\"ASM1064508v1\",\"description\":\"Mitochondrion\",\"submitter\":\"University of Wuerzburg\"}],\"organism\":{\"common_name\":\"sterlet\",\"infraspecific_names\":{\"isolate\":\"Gen_M01\"},\"organism_name\":\"Acipenser ruthenus\",\"tax_id\":7906},\"paired_accession\":\"GCA_010645085.1\",\"source_database\":\"SOURCE_DATABASE_REFSEQ\",\"wgs_info\":{\"master_wgs_url\":\"https://www.ncbi.nlm.nih.gov/nuccore/VTUV00000000.1\",\"wgs_contigs_url\":\"https://www.ncbi.nlm.nih.gov/Traces/wgs/VTUV01\",\"wgs_project_accession\":\"VTUV01\"}},{\"accession\":\"GCF_902713435.1\",\"annotation_info\":{\"busco\":{\"busco_lineage\":\"actinopterygii_odb10\",\"busco_ver\":\"4.0.2\",\"complete\":0.9739011,\"duplicated\":0.5815934,\"fragmented\":0.0041208793,\"missing\":0.021978023,\"single_copy\":0.3923077,\"total_count\":\"3640\"},\"method\":\"Best-placed RefSeq; Gnomon\",\"name\":\"NCBI Annotation Release 100\",\"pipeline\":\"NCBI eukaryotic genome annotation pipeline\",\"provider\":\"NCBI RefSeq\",\"release_date\":\"2020-04-27\",\"release_version\":\"100\",\"report_url\":\"https://www.ncbi.nlm.nih.gov/genome/annotation_euk/Acipenser_ruthenus/100/\",\"software_version\":\"8.4\",\"stats\":{\"gene_counts\":{\"non_coding\":7805,\"other\":132,\"protein_coding\":32449,\"pseudogene\":1310,\"total\":41696}},\"status\":\"Full annotation\"},\"assembly_info\":{\"assembly_level\":\"Scaffold\",\"assembly_name\":\"fAciRut3.1 paternal haplotype\",\"assembly_status\":\"retired\",\"assembly_type\":\"haploid\",\"bioproject_lineage\":[{\"bioprojects\":[{\"accession\":\"PRJEB35913\",\"parent_accessions\":[\"PRJEB35914\"],\"title\":\"Acipenser ruthenus (sterlet) genome assembly, fAciRut3 paternal haplotype\"},{\"accession\":\"PRJEB35914\",\"parent_accessions\":[\"PRJNA489243\"],\"title\":\"Acipenser ruthenus (sterlet)\"},{\"accession\":\"PRJNA489243\",\"parent_accessions\":[\"PRJNA533106\"],\"title\":\"Vertebrate Genomes Project\"},{\"accession\":\"PRJNA533106\",\"title\":\"Earth BioGenome Project (EBP)\"}]}],\"biosample\":{\"accession\":\"SAMEA5572864\",\"attributes\":[{\"name\":\"env_medium\",\"value\":\"individual\"},{\"name\":\"sample_name\",\"value\":\"fAciRut3\"},{\"name\":\"Submission description\",\"value\":\"The Vertebrate Genomes Project aims to build reference quality genome assemblies for hundreds to thousands of vertebrate species.\"},{\"name\":\"Submission identifier\",\"value\":\"GSB-2754\"},{\"name\":\"Submission title\",\"value\":\"VGP - Vertebrate Genomes Project\"},{\"name\":\"common name\",\"value\":\"sterlet\"},{\"name\":\"date received\",\"value\":\"2018-06-19\"},{\"name\":\"family\",\"value\":\"Acipenseridae\"},{\"name\":\"order\",\"value\":\"Acipenseriformes\"},{\"name\":\"project\",\"value\":\"VGP\"},{\"name\":\"provider\",\"value\":\"C. Baker/M. Psenicka\"},{\"name\":\"tissue storage\",\"value\":\"flash_frozen\"}],\"description\":{\"organism\":{\"organism_name\":\"Acipenser ruthenus\",\"tax_id\":7906},\"title\":\"Sample from Acipenser ruthenus\"},\"last_updated\":\"2019-12-20T15:06:17.343\",\"models\":[\"Generic\"],\"owner\":{\"name\":\"EBI\"},\"package\":\"Generic.1.0\",\"publication_date\":\"2017-01-30T00:00:00.000\",\"sample_ids\":[{\"db\":\"SRA\",\"value\":\"ERS4354975\"}],\"status\":{\"status\":\"live\",\"when\":\"2019-02-15T10:22:00.363\"},\"submission_date\":\"2019-02-15T10:22:00.363\"},\"blast_url\":\"https://blast.ncbi.nlm.nih.gov/Blast.cgi?PAGE_TYPE=BlastSearch\\u0026PROG_DEF=blastn\\u0026BLAST_SPEC=GDH_GCF_902713435.1\",\"comments\":\"The assembly fAciRut3.1 is based on 149x PacBio Sequel II data, 64x 10X Genomics Chromium data, BioNano data and 72x Dovetail Hi-C data generated at the Wellcome Sanger Institute. The assembly process included the following sequence of steps: segregation of PacBio reads representing the two haplotypes using trioCanu and k-mers from the Illumina-sequenced parents (maternal: SAMEA5572860, and paternal: SAMEA5572861), separate assembly of each haplotype using Falcon, polishing with Arrow from the binned reads, retained duplication removal with purge_dups, 10X based scaffolding with scaff10x, BioNano hybrid-scaffolding, further Arrow polishing, and two rounds of FreeBayes Illumina polishing. Finally, the assembly was analysed and manually improved using gEVAL. Due to the partial tetraploid and duplicated nature of this genome, the assignment of scaffolds to chromosome level was ambiguous and therefore omitted. Future updates will address this.\",\"paired_assembly\":{\"accession\":\"GCA_902713435.1\",\"status\":\"previous\"},\"submission_date\":\"2020-01-08\",\"submitter\":\"SC\"},\"assembly_stats\":{\"contig_l50\":45,\"contig_n50\":11500722,\"number_of_component_sequences\":224,\"number_of_contigs\":646,\"number_of_scaffolds\":224,\"scaffold_l50\":11,\"scaffold_n50\":42536799,\"total_sequence_length\":\"1663879616\",\"total_ungapped_length\":\"1663796031\"},\"current_accession\":\"GCF_902713435.1\",\"organelle_info\":[{\"assembly_name\":\"fAciRut3.1 paternal haplotype\",\"description\":\"Mitochondrion\",\"submitter\":\"SC\"}],\"organism\":{\"common_name\":\"sterlet\",\"organism_name\":\"Acipenser ruthenus\",\"tax_id\":7906},\"paired_accession\":\"GCA_902713435.1\",\"source_database\":\"SOURCE_DATABASE_REFSEQ\",\"wgs_info\":{\"master_wgs_url\":\"https://www.ncbi.nlm.nih.gov/nuccore/CACTIF000000000.1\",\"wgs_contigs_url\":\"https://www.ncbi.nlm.nih.gov/Traces/wgs/CACTIF01\",\"wgs_project_accession\":\"CACTIF01\"}},{\"accession\":\"GCA_004119895.1\",\"annotation_info\":{\"name\":\"Annotation submitted by Yangtze River Fisheries Research Institute, Chinese Academy of Fishery Sciences\",\"provider\":\"Yangtze River Fisheries Research Institute, Chinese Academy of Fishery Sciences\",\"release_date\":\"2019-01-30\",\"stats\":{\"gene_counts\":{\"protein_coding\":22184,\"total\":22184}}},\"assembly_info\":{\"assembly_level\":\"Scaffold\",\"assembly_name\":\"ASM411989v1\",\"assembly_status\":\"current\",\"assembly_type\":\"haploid\",\"bioproject_lineage\":[{\"bioprojects\":[{\"accession\":\"PRJNA491785\",\"title\":\"Acipenser ruthenus Genome sequencing and assembly\"}]}],\"biosample\":{\"accession\":\"SAMN10088814\",\"attributes\":[{\"name\":\"isolate\",\"value\":\"WHYD16114868_AA\"},{\"name\":\"age\",\"value\":\"2.5years\"},{\"name\":\"sex\",\"value\":\"not determined\"},{\"name\":\"tissue\",\"value\":\"blood\"}],\"bioprojects\":[{\"accession\":\"PRJNA491785\"}],\"description\":{\"organism\":{\"organism_name\":\"Acipenser ruthenus\",\"tax_id\":7906},\"title\":\"Model organism or animal sample from Acipenser ruthenus\"},\"last_updated\":\"2018-12-27T01:31:46.903\",\"models\":[\"Model organism or animal\"],\"owner\":{\"contacts\":[{}],\"name\":\"Yangtze River Fisheries Research Institute, Chinese Academy of Fishery Sciences\"},\"package\":\"Model.organism.animal.1.0\",\"publication_date\":\"2018-09-18T00:00:00.000\",\"sample_ids\":[{\"label\":\"Sample name\",\"value\":\"Acipenser ruthenus blood genome\"},{\"db\":\"SRA\",\"value\":\"SRS4188773\"}],\"status\":{\"status\":\"live\",\"when\":\"2018-09-18T23:45:04.672\"},\"submission_date\":\"2018-09-18T23:45:04.673\"},\"blast_url\":\"https://blast.ncbi.nlm.nih.gov/Blast.cgi?PAGE_TYPE=BlastSearch\\u0026PROG_DEF=blastn\\u0026BLAST_SPEC=GDH_GCA_004119895.1\",\"sequencing_tech\":\"Illumina HiSeq\",\"submission_date\":\"2019-01-30\",\"submitter\":\"Yangtze River Fisheries Research Institute, Chinese Academy of Fishery Sciences\"},\"assembly_stats\":{\"contig_l50\":16582,\"contig_n50\":24377,\"gc_count\":\"596567374\",\"gc_percent\":39,\"number_of_component_sequences\":215913,\"number_of_contigs\":446905,\"number_of_scaffolds\":215913,\"scaffold_l50\":1560,\"scaffold_n50\":219750,\"total_sequence_length\":\"1732545901\",\"total_ungapped_length\":\"1523832837\"},\"current_accession\":\"GCA_004119895.1\",\"organism\":{\"common_name\":\"sterlet\",\"infraspecific_names\":{\"isolate\":\"WHYD16114868_AA\"},\"organism_name\":\"Acipenser ruthenus\",\"tax_id\":7906},\"source_database\":\"SOURCE_DATABASE_GENBANK\",\"wgs_info\":{\"master_wgs_url\":\"https://www.ncbi.nlm.nih.gov/nuccore/SCEB00000000.1\",\"wgs_contigs_url\":\"https://www.ncbi.nlm.nih.gov/Traces/wgs/SCEB01\",\"wgs_project_accession\":\"SCEB01\"}},{\"accession\":\"GCA_010645085.1\",\"assembly_info\":{\"assembly_level\":\"Chromosome\",\"assembly_name\":\"ASM1064508v1\",\"assembly_status\":\"current\",\"assembly_type\":\"haploid\",\"bioproject_lineage\":[{\"bioprojects\":[{\"accession\":\"PRJNA561280\",\"title\":\"Acipenser ruthenus (Sterlet ) Genome sequencing and assembly\"}]}],\"biosample\":{\"accession\":\"SAMN12612932\",\"attributes\":[{\"name\":\"isolate\",\"value\":\"Gen_M01\"},{\"name\":\"tissue\",\"value\":\"testis, blood\"},{\"name\":\"collection_date\",\"value\":\"2018\"},{\"name\":\"depth\",\"value\":\"Water depth \\u003e 1m\"},{\"name\":\"env_broad_scale\",\"value\":\"Leibniz Institute of Freshwater Ecology and Inland fisheries (IGB)\"},{\"name\":\"env_local_scale\",\"value\":\"Leibniz Institute of Freshwater Ecology and Inland fisheries (IGB)\"},{\"name\":\"env_medium\",\"value\":\"water\"},{\"name\":\"geo_loc_name\",\"value\":\"Germany:IGB\"},{\"name\":\"isol_growth_condt\",\"value\":\"https://www.igb-berlin.de/en\"},{\"name\":\"lat_lon\",\"value\":\"52.448940 N 13.648750 E\"}],\"bioprojects\":[{\"accession\":\"PRJNA561280\"}],\"description\":{\"comment\":\"Keywords: GSC:MIxS;MIGS:5.0\",\"organism\":{\"organism_name\":\"Acipenser ruthenus\",\"tax_id\":7906},\"title\":\"MIGS Eukaryotic sample from Acipenser ruthenus (Sterlet)\"},\"last_updated\":\"2020-02-16T12:38:09.933\",\"models\":[\"MIGS.eu\",\"MIGS/MIMS/MIMARKS.water\"],\"owner\":{\"contacts\":[{}],\"name\":\"University of Wuerzburg\"},\"package\":\"MIGS.eu.water.5.0\",\"publication_date\":\"2020-02-16T12:38:09.933\",\"sample_ids\":[{\"label\":\"Sample name\",\"value\":\"testis and blood from a sterlet\"},{\"db\":\"SRA\",\"value\":\"SRS5440724\"}],\"status\":{\"status\":\"live\",\"when\":\"2020-02-16T12:38:09.933\"},\"submission_date\":\"2019-08-21T05:16:04.937\"},\"blast_url\":\"https://blast.ncbi.nlm.nih.gov/Blast.cgi?PAGE_TYPE=BlastSearch\\u0026PROG_DEF=blastn\\u0026BLAST_SPEC=GDH_GCA_010645085.1\",\"paired_assembly\":{\"accession\":\"GCF_010645085.1\",\"annotation_name\":\"NCBI Annotation Release 101\",\"status\":\"current\"},\"sequencing_tech\":\"Illumina NovaSeq; PacBio; Hi-C\",\"submission_date\":\"2020-02-19\",\"submitter\":\"University of Wuerzburg\"},\"assembly_stats\":{\"contig_l50\":837,\"contig_n50\":601142,\"gc_count\":\"727231742\",\"gc_percent\":39.5,\"number_of_component_sequences\":3403,\"number_of_contigs\":9674,\"number_of_scaffolds\":3403,\"scaffold_l50\":12,\"scaffold_n50\":42361471,\"total_number_of_chromosomes\":60,\"total_sequence_length\":\"1830484458\",\"total_ungapped_length\":\"1829230258\"},\"current_accession\":\"GCA_010645085.1\",\"organism\":{\"common_name\":\"sterlet\",\"infraspecific_names\":{\"isolate\":\"Gen_M01\"},\"organism_name\":\"Acipenser ruthenus\",\"tax_id\":7906},\"paired_accession\":\"GCF_010645085.1\",\"source_database\":\"SOURCE_DATABASE_GENBANK\",\"wgs_info\":{\"master_wgs_url\":\"https://www.ncbi.nlm.nih.gov/nuccore/VTUV00000000.1\",\"wgs_contigs_url\":\"https://www.ncbi.nlm.nih.gov/Traces/wgs/VTUV01\",\"wgs_project_accession\":\"VTUV01\"}},{\"accession\":\"GCA_902713425.2\",\"assembly_info\":{\"assembly_level\":\"Chromosome\",\"assembly_name\":\"fAciRut3.2 maternal haplotype\",\"assembly_status\":\"current\",\"assembly_type\":\"haploid\",\"bioproject_lineage\":[{\"bioprojects\":[{\"accession\":\"PRJEB35912\",\"parent_accessions\":[\"PRJEB35914\"],\"title\":\"Acipenser ruthenus (sterlet) genome assembly, fAciRut3 maternal haplotype\"},{\"accession\":\"PRJEB35914\",\"parent_accessions\":[\"PRJNA489243\"],\"title\":\"Acipenser ruthenus (sterlet)\"},{\"accession\":\"PRJNA489243\",\"parent_accessions\":[\"PRJNA533106\"],\"title\":\"Vertebrate Genomes Project\"},{\"accession\":\"PRJNA533106\",\"title\":\"Earth BioGenome Project (EBP)\"}]}],\"biosample\":{\"accession\":\"SAMEA5572864\",\"attributes\":[{\"name\":\"env_medium\",\"value\":\"individual\"},{\"name\":\"sample_name\",\"value\":\"fAciRut3\"},{\"name\":\"Submission description\",\"value\":\"The Vertebrate Genomes Project aims to build reference quality genome assemblies for hundreds to thousands of vertebrate species.\"},{\"name\":\"Submission identifier\",\"value\":\"GSB-2754\"},{\"name\":\"Submission title\",\"value\":\"VGP - Vertebrate Genomes Project\"},{\"name\":\"common name\",\"value\":\"sterlet\"},{\"name\":\"date received\",\"value\":\"2018-06-19\"},{\"name\":\"family\",\"value\":\"Acipenseridae\"},{\"name\":\"order\",\"value\":\"Acipenseriformes\"},{\"name\":\"project\",\"value\":\"VGP\"},{\"name\":\"provider\",\"value\":\"C. Baker/M. Psenicka\"},{\"name\":\"tissue storage\",\"value\":\"flash_frozen\"}],\"description\":{\"organism\":{\"organism_name\":\"Acipenser ruthenus\",\"tax_id\":7906},\"title\":\"Sample from Acipenser ruthenus\"},\"last_updated\":\"2019-12-20T15:06:17.343\",\"models\":[\"Generic\"],\"owner\":{\"name\":\"EBI\"},\"package\":\"Generic.1.0\",\"publication_date\":\"2017-01-30T00:00:00.000\",\"sample_ids\":[{\"db\":\"SRA\",\"value\":\"ERS4354975\"}],\"status\":{\"status\":\"live\",\"when\":\"2019-02-15T10:22:00.363\"},\"submission_date\":\"2019-02-15T10:22:00.363\"},\"blast_url\":\"https://blast.ncbi.nlm.nih.gov/Blast.cgi?PAGE_TYPE=BlastSearch\\u0026PROG_DEF=blastn\\u0026BLAST_SPEC=GDH_GCA_902713425.2\",\"comments\":\"The assembly fAciRut3.2 is based on 61x PacBio data and Dovetail Hi-C data generated by the Darwin Tree of Life Project\\n(https://www.darwintreeoflife.org/). The assembly process included the following sequence of steps: HiFi reads were trio-binned using trioCanu with k-mers from the Illumina-sequenced parents; haplotype-specific HiFi reads were assembled separately using Hifiasm; segregation of HiC reads using Canu's 'splitHaplotype' script and k-mers from the Illumina-sequenced parents; for each haplotype assembly, haplotype-specific and unclassified HiC reads were combined to construct scaffolds using pins. The mitochondrial genome was assembled using MitoHifi. Finally, the assembly was analysed and manually improved using gEVAL. Chromosome-scale scaffolds confirmed by the Hi-C data have been named in order of size.\",\"submission_date\":\"2022-02-02\",\"submitter\":\"Wellcome Sanger Institute\"},\"assembly_stats\":{\"contig_l50\":65,\"contig_n50\":8776027,\"gc_count\":\"761993643\",\"gc_percent\":40,\"number_of_component_sequences\":1730,\"number_of_contigs\":2163,\"number_of_scaffolds\":1730,\"scaffold_l50\":12,\"scaffold_n50\":42723358,\"total_number_of_chromosomes\":60,\"total_sequence_length\":\"1899794300\",\"total_ungapped_length\":\"1899708000\"},\"current_accession\":\"GCA_902713425.2\",\"organelle_info\":[{\"assembly_name\":\"fAciRut3.2 maternal haplotype\",\"description\":\"Mitochondrion\",\"submitter\":\"Wellcome Sanger Institute\"}],\"organism\":{\"common_name\":\"sterlet\",\"organism_name\":\"Acipenser ruthenus\",\"tax_id\":7906},\"source_database\":\"SOURCE_DATABASE_GENBANK\",\"wgs_info\":{\"master_wgs_url\":\"https://www.ncbi.nlm.nih.gov/nuccore/CACTIG000000000.2\",\"wgs_contigs_url\":\"https://www.ncbi.nlm.nih.gov/Traces/wgs/CACTIG02\",\"wgs_project_accession\":\"CACTIG02\"}},{\"accession\":\"GCA_902713435.1\",\"assembly_info\":{\"assembly_level\":\"Scaffold\",\"assembly_name\":\"fAciRut3.1 paternal haplotype\",\"assembly_status\":\"previous\",\"assembly_type\":\"haploid\",\"bioproject_lineage\":[{\"bioprojects\":[{\"accession\":\"PRJEB35913\",\"parent_accessions\":[\"PRJEB35914\"],\"title\":\"Acipenser ruthenus (sterlet) genome assembly, fAciRut3 paternal haplotype\"},{\"accession\":\"PRJEB35914\",\"parent_accessions\":[\"PRJNA489243\"],\"title\":\"Acipenser ruthenus (sterlet)\"},{\"accession\":\"PRJNA489243\",\"parent_accessions\":[\"PRJNA533106\"],\"title\":\"Vertebrate Genomes Project\"},{\"accession\":\"PRJNA533106\",\"title\":\"Earth BioGenome Project (EBP)\"}]}],\"biosample\":{\"accession\":\"SAMEA5572864\",\"attributes\":[{\"name\":\"env_medium\",\"value\":\"individual\"},{\"name\":\"sample_name\",\"value\":\"fAciRut3\"},{\"name\":\"Submission description\",\"value\":\"The Vertebrate Genomes Project aims to build reference quality genome assemblies for hundreds to thousands of vertebrate species.\"},{\"name\":\"Submission identifier\",\"value\":\"GSB-2754\"},{\"name\":\"Submission title\",\"value\":\"VGP - Vertebrate Genomes Project\"},{\"name\":\"common name\",\"value\":\"sterlet\"},{\"name\":\"date received\",\"value\":\"2018-06-19\"},{\"name\":\"family\",\"value\":\"Acipenseridae\"},{\"name\":\"order\",\"value\":\"Acipenseriformes\"},{\"name\":\"project\",\"value\":\"VGP\"},{\"name\":\"provider\",\"value\":\"C. Baker/M. Psenicka\"},{\"name\":\"tissue storage\",\"value\":\"flash_frozen\"}],\"description\":{\"organism\":{\"organism_name\":\"Acipenser ruthenus\",\"tax_id\":7906},\"title\":\"Sample from Acipenser ruthenus\"},\"last_updated\":\"2019-12-20T15:06:17.343\",\"models\":[\"Generic\"],\"owner\":{\"name\":\"EBI\"},\"package\":\"Generic.1.0\",\"publication_date\":\"2017-01-30T00:00:00.000\",\"sample_ids\":[{\"db\":\"SRA\",\"value\":\"ERS4354975\"}],\"status\":{\"status\":\"live\",\"when\":\"2019-02-15T10:22:00.363\"},\"submission_date\":\"2019-02-15T10:22:00.363\"},\"blast_url\":\"https://blast.ncbi.nlm.nih.gov/Blast.cgi?PAGE_TYPE=BlastSearch\\u0026PROG_DEF=blastn\\u0026BLAST_SPEC=GDH_GCA_902713435.1\",\"comments\":\"The assembly fAciRut3.1 is based on 149x PacBio Sequel II data, 64x 10X Genomics Chromium data, BioNano data and 72x Dovetail Hi-C data generated at the Wellcome Sanger Institute. The assembly process included the following sequence of steps: segregation of PacBio reads representing the two haplotypes using trioCanu and k-mers from the Illumina-sequenced parents (maternal: SAMEA5572860, and paternal: SAMEA5572861), separate assembly of each haplotype using Falcon, polishing with Arrow from the binned reads, retained duplication removal with purge_dups, 10X based scaffolding with scaff10x, BioNano hybrid-scaffolding, further Arrow polishing, and two rounds of FreeBayes Illumina polishing. Finally, the assembly was analysed and manually improved using gEVAL. Due to the partial tetraploid and duplicated nature of this genome, the assignment of scaffolds to chromosome level was ambiguous and therefore omitted. Future updates will address this.\",\"paired_assembly\":{\"accession\":\"GCF_902713435.1\",\"annotation_name\":\"NCBI Annotation Release 100\",\"status\":\"retired\"},\"submission_date\":\"2020-01-08\",\"submitter\":\"SC\"},\"assembly_stats\":{\"contig_l50\":45,\"contig_n50\":11500722,\"gc_count\":\"658845392\",\"gc_percent\":39.5,\"number_of_component_sequences\":224,\"number_of_contigs\":646,\"number_of_scaffolds\":224,\"scaffold_l50\":11,\"scaffold_n50\":42536799,\"total_sequence_length\":\"1663879616\",\"total_ungapped_length\":\"1663796031\"},\"current_accession\":\"GCA_902713435.2\",\"organism\":{\"common_name\":\"sterlet\",\"organism_name\":\"Acipenser ruthenus\",\"tax_id\":7906},\"paired_accession\":\"GCF_902713435.1\",\"source_database\":\"SOURCE_DATABASE_GENBANK\",\"wgs_info\":{\"master_wgs_url\":\"https://www.ncbi.nlm.nih.gov/nuccore/CACTIF000000000.1\",\"wgs_contigs_url\":\"https://www.ncbi.nlm.nih.gov/Traces/wgs/CACTIF01\",\"wgs_project_accession\":\"CACTIF01\"}},{\"accession\":\"GCA_902713435.2\",\"assembly_info\":{\"assembly_level\":\"Chromosome\",\"assembly_name\":\"fAciRut3.2 paternal haplotype\",\"assembly_status\":\"current\",\"assembly_type\":\"haploid\",\"bioproject_lineage\":[{\"bioprojects\":[{\"accession\":\"PRJEB35913\",\"parent_accessions\":[\"PRJEB35914\"],\"title\":\"Acipenser ruthenus (sterlet) genome assembly, fAciRut3 paternal haplotype\"},{\"accession\":\"PRJEB35914\",\"parent_accessions\":[\"PRJNA489243\"],\"title\":\"Acipenser ruthenus (sterlet)\"},{\"accession\":\"PRJNA489243\",\"parent_accessions\":[\"PRJNA533106\"],\"title\":\"Vertebrate Genomes Project\"},{\"accession\":\"PRJNA533106\",\"title\":\"Earth BioGenome Project (EBP)\"}]}],\"biosample\":{\"accession\":\"SAMEA5572864\",\"attributes\":[{\"name\":\"env_medium\",\"value\":\"individual\"},{\"name\":\"sample_name\",\"value\":\"fAciRut3\"},{\"name\":\"Submission description\",\"value\":\"The Vertebrate Genomes Project aims to build reference quality genome assemblies for hundreds to thousands of vertebrate species.\"},{\"name\":\"Submission identifier\",\"value\":\"GSB-2754\"},{\"name\":\"Submission title\",\"value\":\"VGP - Vertebrate Genomes Project\"},{\"name\":\"common name\",\"value\":\"sterlet\"},{\"name\":\"date received\",\"value\":\"2018-06-19\"},{\"name\":\"family\",\"value\":\"Acipenseridae\"},{\"name\":\"order\",\"value\":\"Acipenseriformes\"},{\"name\":\"project\",\"value\":\"VGP\"},{\"name\":\"provider\",\"value\":\"C. Baker/M. Psenicka\"},{\"name\":\"tissue storage\",\"value\":\"flash_frozen\"}],\"description\":{\"organism\":{\"organism_name\":\"Acipenser ruthenus\",\"tax_id\":7906},\"title\":\"Sample from Acipenser ruthenus\"},\"last_updated\":\"2019-12-20T15:06:17.343\",\"models\":[\"Generic\"],\"owner\":{\"name\":\"EBI\"},\"package\":\"Generic.1.0\",\"publication_date\":\"2017-01-30T00:00:00.000\",\"sample_ids\":[{\"db\":\"SRA\",\"value\":\"ERS4354975\"}],\"status\":{\"status\":\"live\",\"when\":\"2019-02-15T10:22:00.363\"},\"submission_date\":\"2019-02-15T10:22:00.363\"},\"blast_url\":\"https://blast.ncbi.nlm.nih.gov/Blast.cgi?PAGE_TYPE=BlastSearch\\u0026PROG_DEF=blastn\\u0026BLAST_SPEC=GDH_GCA_902713435.2\",\"comments\":\"The assembly fAciRut3.2 paternal haplotype is based on 61x PacBio data and Dovetail Hi-C data generated by the Darwin Tree of Life Project (https://www.darwintreeoflife.org/). The assembly process included the following sequence of steps: HiFi reads were trio-binned using trioCanu with k-mers from the Illumina-sequenced parents; haplotype-specific HiFi reads were assembled separately using Hifiasm; segregation of HiC reads using Canu's 'splitHaplotype' script and k-mers from the Illumina-sequenced parents; for each haplotype assembly, haplotype-specific and unclassified HiC reads were combined to construct scaffolds using pins. The mitochondrial genome was assembled using MitoHifi. Finally, the assembly was analysed and manually improved using gEVAL. Chromosome-scale scaffolds confirmed by the Hi-C data have been named in order of size.\",\"submission_date\":\"2022-02-01\",\"submitter\":\"Wellcome Sanger Institute\"},\"assembly_stats\":{\"contig_l50\":68,\"contig_n50\":8948077,\"gc_count\":\"754774718\",\"gc_percent\":40,\"number_of_component_sequences\":1517,\"number_of_contigs\":1992,\"number_of_scaffolds\":1517,\"scaffold_l50\":12,\"scaffold_n50\":42286699,\"total_number_of_chromosomes\":60,\"total_sequence_length\":\"1882648115\",\"total_ungapped_length\":\"1882553115\"},\"current_accession\":\"GCA_902713435.2\",\"organism\":{\"common_name\":\"sterlet\",\"organism_name\":\"Acipenser ruthenus\",\"tax_id\":7906},\"source_database\":\"SOURCE_DATABASE_GENBANK\",\"wgs_info\":{\"master_wgs_url\":\"https://www.ncbi.nlm.nih.gov/nuccore/CACTIF000000000.2\",\"wgs_contigs_url\":\"https://www.ncbi.nlm.nih.gov/Traces/wgs/CACTIF02\",\"wgs_project_accession\":\"CACTIF02\"}},{\"accession\":\"GCA_020113195.1\",\"assembly_info\":{\"assembly_level\":\"Scaffold\",\"assembly_name\":\"MU_Atrans_1.0\",\"assembly_status\":\"current\",\"assembly_type\":\"haploid\",\"bioproject_lineage\":[{\"bioprojects\":[{\"accession\":\"PRJNA755998\",\"title\":\"Acipenser transmontanus strain:batch67_ind68 Genome sequencing and assembly\"}]}],\"biosample\":{\"accession\":\"SAMN20849129\",\"attributes\":[{\"name\":\"strain\",\"value\":\"batch67_ind68\"},{\"name\":\"age\",\"value\":\"Juvenile\"},{\"name\":\"dev_stage\",\"value\":\"Juvenile\"},{\"name\":\"sex\",\"value\":\"not determined\"},{\"name\":\"tissue\",\"value\":\"whole individual\"},{\"name\":\"geo_loc_name\",\"value\":\"Canada: Vancouver, Fraser River basin\"},{\"name\":\"Sample Comment\",\"value\":\"Reduced ploidy individual (confirmed by microsatellite genotyping)\"}],\"bioprojects\":[{\"accession\":\"PRJNA755998\"}],\"description\":{\"comment\":\"Fisheries and Oceans Canada partnered with CanSeq150 and the International Centre for Sturgeon Studies at Vancouver Island University (VIU) to assemble a genome for white sturgeon thought to be from the Fraser River basin population (broodstock sourced from VIU). To reduce the complexity of the assembly, a treatment of male gametes with UV, heat, and/ or pressure was conducted on gametes before and during fertilization of eggs in an attempt to produce doubled-haploid white sturgeon juveniles, thus reducing the total number of different haplotypes circulating in the offspring to be sequenced.\",\"organism\":{\"organism_name\":\"Acipenser transmontanus\",\"tax_id\":7904},\"title\":\"Model organism or animal sample from Acipenser transmontanus\"},\"last_updated\":\"2021-09-17T16:12:57.944\",\"models\":[\"Model organism or animal\"],\"owner\":{\"contacts\":[{}],\"name\":\"McGill University\"},\"package\":\"Model.organism.animal.1.0\",\"publication_date\":\"2021-08-18T00:00:00.000\",\"sample_ids\":[{\"label\":\"Sample name\",\"value\":\"batch67_ind68\"}],\"status\":{\"status\":\"live\",\"when\":\"2021-08-18T13:53:04.553\"},\"submission_date\":\"2021-08-18T13:53:04.550\"},\"blast_url\":\"https://blast.ncbi.nlm.nih.gov/Blast.cgi?PAGE_TYPE=BlastSearch\\u0026PROG_DEF=blastn\\u0026BLAST_SPEC=GDH_GCA_020113195.1\",\"refseq_category\":\"representative genome\",\"sequencing_tech\":\"Illumina HiSeq\",\"submission_date\":\"2021-09-23\",\"submitter\":\"canseq150\"},\"assembly_stats\":{\"contig_l50\":86845,\"contig_n50\":2596,\"gc_count\":\"328972837\",\"gc_percent\":38,\"number_of_component_sequences\":359947,\"number_of_contigs\":366122,\"number_of_scaffolds\":359947,\"scaffold_l50\":80667,\"scaffold_n50\":2601,\"total_sequence_length\":\"860366165\",\"total_ungapped_length\":\"859798566\"},\"current_accession\":\"GCA_020113195.1\",\"organism\":{\"common_name\":\"white sturgeon\",\"infraspecific_names\":{\"strain\":\"batch67_ind68\"},\"organism_name\":\"Acipenser transmontanus\",\"tax_id\":7904},\"source_database\":\"SOURCE_DATABASE_GENBANK\",\"wgs_info\":{\"master_wgs_url\":\"https://www.ncbi.nlm.nih.gov/nuccore/JAIUCX000000000.1\",\"wgs_contigs_url\":\"https://www.ncbi.nlm.nih.gov/Traces/wgs/JAIUCX01\",\"wgs_project_accession\":\"JAIUCX01\"}}],\"total_count\": 10}\n"
     ]
    }
   ],
   "source": [
    "datasets summary genome taxon 'acipenser'"
   ]
  },
  {
   "cell_type": "markdown",
   "id": "ef6aa61d-5f01-43e7-9ace-abe197ffb587",
   "metadata": {},
   "source": [
    "早速大量のデータが並んで訳が分かりません。`jq` を使って keys だけを見てみます。"
   ]
  },
  {
   "cell_type": "code",
   "execution_count": 2,
   "id": "23e568a1-cb32-48f6-8904-d0dda796029b",
   "metadata": {},
   "outputs": [
    {
     "name": "stdout",
     "output_type": "stream",
     "text": [
      "\u001b[1;39m[\n",
      "  \u001b[0;32m\"reports\"\u001b[0m\u001b[1;39m,\n",
      "  \u001b[0;32m\"total_count\"\u001b[0m\u001b[1;39m\n",
      "\u001b[1;39m]\u001b[0m\n"
     ]
    }
   ],
   "source": [
    "datasets summary genome taxon 'acipenser' | \n",
    "  jq 'keys'"
   ]
  },
  {
   "cell_type": "markdown",
   "id": "54925654-79dc-4147-a012-14cbbca12da1",
   "metadata": {},
   "source": [
    "これでトップレベルには2つのキーしかないことが分かりました。`total_count` キーの値を出してみます。"
   ]
  },
  {
   "cell_type": "code",
   "execution_count": 3,
   "id": "876c6757-4f4e-47c6-bce2-8849d050ecef",
   "metadata": {},
   "outputs": [
    {
     "name": "stdout",
     "output_type": "stream",
     "text": [
      "\u001b[0;39m10\u001b[0m\n"
     ]
    }
   ],
   "source": [
    "datasets summary genome taxon 'acipenser' | \n",
    "  jq '.total_count'"
   ]
  },
  {
   "cell_type": "markdown",
   "id": "6d8fd621-4b4b-40ad-a1be-41bfe775c594",
   "metadata": {},
   "source": [
    "また `reports` の種類 も見てみます。"
   ]
  },
  {
   "cell_type": "code",
   "execution_count": 4,
   "id": "9e44d06a-bfb8-4c9b-859d-57f4ad2d4376",
   "metadata": {},
   "outputs": [
    {
     "name": "stdout",
     "output_type": "stream",
     "text": [
      "\u001b[0;32m\"array\"\u001b[0m\n"
     ]
    }
   ],
   "source": [
    "datasets summary genome taxon 'acipenser' | \n",
    "  jq '.reports | type'"
   ]
  },
  {
   "cell_type": "markdown",
   "id": "aae135ef-5855-46ec-b05d-e2d2ea8368f3",
   "metadata": {},
   "source": [
    "…以上より、`reports` は値としてリストを持っていて `total_counts` にその要素数が入っていることが判明しました。\n",
    "\n",
    "では `reports` リストの先頭要素のキーを見てみます。"
   ]
  },
  {
   "cell_type": "code",
   "execution_count": 5,
   "id": "a7f5907d-0073-4e6c-ac3a-5c558148fd5e",
   "metadata": {},
   "outputs": [
    {
     "name": "stdout",
     "output_type": "stream",
     "text": [
      "\u001b[1;39m[\n",
      "  \u001b[0;32m\"accession\"\u001b[0m\u001b[1;39m,\n",
      "  \u001b[0;32m\"assembly_info\"\u001b[0m\u001b[1;39m,\n",
      "  \u001b[0;32m\"assembly_stats\"\u001b[0m\u001b[1;39m,\n",
      "  \u001b[0;32m\"current_accession\"\u001b[0m\u001b[1;39m,\n",
      "  \u001b[0;32m\"organism\"\u001b[0m\u001b[1;39m,\n",
      "  \u001b[0;32m\"source_database\"\u001b[0m\u001b[1;39m,\n",
      "  \u001b[0;32m\"wgs_info\"\u001b[0m\u001b[1;39m\n",
      "\u001b[1;39m]\u001b[0m\n"
     ]
    }
   ],
   "source": [
    "datasets summary genome taxon 'acipenser' | \n",
    "  jq '.reports[0] | keys'"
   ]
  },
  {
   "cell_type": "markdown",
   "id": "4e61e1b8-6a2a-4d13-b283-3e6ff59a2d32",
   "metadata": {},
   "source": [
    "更に深掘りして organism の部分を見てみます。"
   ]
  },
  {
   "cell_type": "code",
   "execution_count": 6,
   "id": "94c37f7b-0631-4b04-af49-3ad58b1363ec",
   "metadata": {},
   "outputs": [
    {
     "name": "stdout",
     "output_type": "stream",
     "text": [
      "\u001b[1;39m{\n",
      "  \u001b[0m\u001b[34;1m\"common_name\"\u001b[0m\u001b[1;39m: \u001b[0m\u001b[0;32m\"Russian sturgeon\"\u001b[0m\u001b[1;39m,\n",
      "  \u001b[0m\u001b[34;1m\"infraspecific_names\"\u001b[0m\u001b[1;39m: \u001b[0m\u001b[1;39m{\n",
      "    \u001b[0m\u001b[34;1m\"isolate\"\u001b[0m\u001b[1;39m: \u001b[0m\u001b[0;32m\"M9\"\u001b[0m\u001b[1;39m,\n",
      "    \u001b[0m\u001b[34;1m\"sex\"\u001b[0m\u001b[1;39m: \u001b[0m\u001b[0;32m\"male\"\u001b[0m\u001b[1;39m\n",
      "  \u001b[1;39m}\u001b[0m\u001b[1;39m,\n",
      "  \u001b[0m\u001b[34;1m\"organism_name\"\u001b[0m\u001b[1;39m: \u001b[0m\u001b[0;32m\"Acipenser gueldenstaedtii\"\u001b[0m\u001b[1;39m,\n",
      "  \u001b[0m\u001b[34;1m\"tax_id\"\u001b[0m\u001b[1;39m: \u001b[0m\u001b[0;39m7902\u001b[0m\u001b[1;39m\n",
      "\u001b[1;39m}\u001b[0m\n"
     ]
    }
   ],
   "source": [
    "datasets summary genome taxon 'acipenser' | \n",
    "  jq '.reports[0] | .organism'"
   ]
  },
  {
   "cell_type": "markdown",
   "id": "50b38fc3-9cd7-43cf-a1b9-ec19f48810e3",
   "metadata": {},
   "source": [
    "これでだいたいの構造が分かりました。\n",
    "\n",
    "そこで `reports` の全エントリから `tax_id`, `common_name`, `organism_name`, `accession` を抽出してみます。"
   ]
  },
  {
   "cell_type": "code",
   "execution_count": 7,
   "id": "825068f4-5717-4608-8361-a261925fbba6",
   "metadata": {
    "tags": []
   },
   "outputs": [
    {
     "name": "stdout",
     "output_type": "stream",
     "text": [
      "\u001b[1;39m[\n",
      "  \u001b[0;39m7902\u001b[0m\u001b[1;39m,\n",
      "  \u001b[0;32m\"Russian sturgeon\"\u001b[0m\u001b[1;39m,\n",
      "  \u001b[0;32m\"Acipenser gueldenstaedtii\"\u001b[0m\u001b[1;39m,\n",
      "  \u001b[0;32m\"GCA_024762115.1\"\u001b[0m\u001b[1;39m\n",
      "\u001b[1;39m]\u001b[0m\n",
      "\u001b[1;39m[\n",
      "  \u001b[0;39m40147\u001b[0m\u001b[1;39m,\n",
      "  \u001b[1;30mnull\u001b[0m\u001b[1;39m,\n",
      "  \u001b[0;32m\"Acipenser oxyrinchus oxyrinchus\"\u001b[0m\u001b[1;39m,\n",
      "  \u001b[0;32m\"GCA_013184475.1\"\u001b[0m\u001b[1;39m\n",
      "\u001b[1;39m]\u001b[0m\n",
      "\u001b[1;39m[\n",
      "  \u001b[0;39m7906\u001b[0m\u001b[1;39m,\n",
      "  \u001b[0;32m\"sterlet\"\u001b[0m\u001b[1;39m,\n",
      "  \u001b[0;32m\"Acipenser ruthenus\"\u001b[0m\u001b[1;39m,\n",
      "  \u001b[0;32m\"GCF_010645085.1\"\u001b[0m\u001b[1;39m\n",
      "\u001b[1;39m]\u001b[0m\n",
      "\u001b[1;39m[\n",
      "  \u001b[0;39m7906\u001b[0m\u001b[1;39m,\n",
      "  \u001b[0;32m\"sterlet\"\u001b[0m\u001b[1;39m,\n",
      "  \u001b[0;32m\"Acipenser ruthenus\"\u001b[0m\u001b[1;39m,\n",
      "  \u001b[0;32m\"GCF_902713435.1\"\u001b[0m\u001b[1;39m\n",
      "\u001b[1;39m]\u001b[0m\n",
      "\u001b[1;39m[\n",
      "  \u001b[0;39m7906\u001b[0m\u001b[1;39m,\n",
      "  \u001b[0;32m\"sterlet\"\u001b[0m\u001b[1;39m,\n",
      "  \u001b[0;32m\"Acipenser ruthenus\"\u001b[0m\u001b[1;39m,\n",
      "  \u001b[0;32m\"GCA_004119895.1\"\u001b[0m\u001b[1;39m\n",
      "\u001b[1;39m]\u001b[0m\n",
      "\u001b[1;39m[\n",
      "  \u001b[0;39m7906\u001b[0m\u001b[1;39m,\n",
      "  \u001b[0;32m\"sterlet\"\u001b[0m\u001b[1;39m,\n",
      "  \u001b[0;32m\"Acipenser ruthenus\"\u001b[0m\u001b[1;39m,\n",
      "  \u001b[0;32m\"GCA_010645085.1\"\u001b[0m\u001b[1;39m\n",
      "\u001b[1;39m]\u001b[0m\n",
      "\u001b[1;39m[\n",
      "  \u001b[0;39m7906\u001b[0m\u001b[1;39m,\n",
      "  \u001b[0;32m\"sterlet\"\u001b[0m\u001b[1;39m,\n",
      "  \u001b[0;32m\"Acipenser ruthenus\"\u001b[0m\u001b[1;39m,\n",
      "  \u001b[0;32m\"GCA_902713425.2\"\u001b[0m\u001b[1;39m\n",
      "\u001b[1;39m]\u001b[0m\n",
      "\u001b[1;39m[\n",
      "  \u001b[0;39m7906\u001b[0m\u001b[1;39m,\n",
      "  \u001b[0;32m\"sterlet\"\u001b[0m\u001b[1;39m,\n",
      "  \u001b[0;32m\"Acipenser ruthenus\"\u001b[0m\u001b[1;39m,\n",
      "  \u001b[0;32m\"GCA_902713435.1\"\u001b[0m\u001b[1;39m\n",
      "\u001b[1;39m]\u001b[0m\n",
      "\u001b[1;39m[\n",
      "  \u001b[0;39m7906\u001b[0m\u001b[1;39m,\n",
      "  \u001b[0;32m\"sterlet\"\u001b[0m\u001b[1;39m,\n",
      "  \u001b[0;32m\"Acipenser ruthenus\"\u001b[0m\u001b[1;39m,\n",
      "  \u001b[0;32m\"GCA_902713435.2\"\u001b[0m\u001b[1;39m\n",
      "\u001b[1;39m]\u001b[0m\n",
      "\u001b[1;39m[\n",
      "  \u001b[0;39m7904\u001b[0m\u001b[1;39m,\n",
      "  \u001b[0;32m\"white sturgeon\"\u001b[0m\u001b[1;39m,\n",
      "  \u001b[0;32m\"Acipenser transmontanus\"\u001b[0m\u001b[1;39m,\n",
      "  \u001b[0;32m\"GCA_020113195.1\"\u001b[0m\u001b[1;39m\n",
      "\u001b[1;39m]\u001b[0m\n"
     ]
    }
   ],
   "source": [
    "datasets summary genome taxon 'acipenser' | \n",
    "  jq '.reports[] | [ .organism.tax_id, .organism.common_name, .organism.organism_name, .accession ]'"
   ]
  },
  {
   "cell_type": "markdown",
   "id": "6aa78e0e-2118-4091-ac40-404be8b3f976",
   "metadata": {},
   "source": [
    "まだ長くて見づらいので表形式にしてみます。\n",
    "\n",
    "ここで `sed 's/\\\\\"//g'` は `\\\"` の除去、`sed 's/\"//g'` は `\"` の除去です。\n",
    "\n",
    "`xsv table` は表形式に加工してくれます。"
   ]
  },
  {
   "cell_type": "code",
   "execution_count": 1,
   "id": "54ccf793-7710-4bb5-b83f-e036884cd9e0",
   "metadata": {
    "tags": []
   },
   "outputs": [
    {
     "name": "stdout",
     "output_type": "stream",
     "text": [
      "7902   Russian sturgeon  Acipenser gueldenstaedtii        GCA_024762115.1\n",
      "40147                    Acipenser oxyrinchus oxyrinchus  GCA_013184475.1\n",
      "7906   sterlet           Acipenser ruthenus               GCF_010645085.1\n",
      "7906   sterlet           Acipenser ruthenus               GCF_902713435.1\n",
      "7906   sterlet           Acipenser ruthenus               GCA_004119895.1\n",
      "7906   sterlet           Acipenser ruthenus               GCA_010645085.1\n",
      "7906   sterlet           Acipenser ruthenus               GCA_902713425.2\n",
      "7906   sterlet           Acipenser ruthenus               GCA_902713435.1\n",
      "7906   sterlet           Acipenser ruthenus               GCA_902713435.2\n",
      "7904   white sturgeon    Acipenser transmontanus          GCA_020113195.1\n"
     ]
    }
   ],
   "source": [
    " datasets summary genome taxon 'acipenser' | \n",
    "   jq '.reports[] | [ .organism.tax_id, .organism.common_name, .organism.organism_name, .accession ] | @csv' | \n",
    "   sed 's/\\\\\"//g' | \n",
    "   sed 's/\"//g' | \n",
    "   xsv table"
   ]
  },
  {
   "cell_type": "markdown",
   "id": "887a3001-c349-4d18-bbc6-6a88dc4b4225",
   "metadata": {},
   "source": [
    "結果、（2022年時点では）チョウザメゲノムは Sterletばかりであること、`GCF_` から始まる RefSeq のデータは2件しかないことが分かりました。\n",
    "\n",
    "ではアセンブリレベルが complete のものはどれほどあるのでしょう。"
   ]
  },
  {
   "cell_type": "code",
   "execution_count": 2,
   "id": "343e5cc8-627c-4b6f-b193-401ef0389b79",
   "metadata": {},
   "outputs": [
    {
     "name": "stdout",
     "output_type": "stream",
     "text": [
      "{\"total_count\": 0}\n"
     ]
    }
   ],
   "source": [
    " datasets summary genome taxon 'acipenser' --assembly-level complete"
   ]
  },
  {
   "cell_type": "markdown",
   "id": "4e9b6881-acba-4465-b927-07b5dad9fad4",
   "metadata": {},
   "source": [
    "…皆無でした。"
   ]
  },
  {
   "cell_type": "code",
   "execution_count": null,
   "id": "d1c64631-1a2b-4a88-9bb8-aea8f3d5b595",
   "metadata": {},
   "outputs": [],
   "source": []
  },
  {
   "cell_type": "markdown",
   "id": "e8971a70-4ebe-4fd8-bf3b-57b605e51058",
   "metadata": {},
   "source": [
    "### `jq` での JSONデータの抽出・加工\n",
    "\n",
    "`jq` を学ぶには自分で動かして試せる Sandbox.Bio の [JSON wrangling with jq](https://sandbox.bio/tutorials?id=jq-intro) が便利です。\n"
   ]
  },
  {
   "cell_type": "code",
   "execution_count": null,
   "id": "5a824d12-ce07-4b4a-8c60-73d50c48e22c",
   "metadata": {},
   "outputs": [],
   "source": []
  }
 ],
 "metadata": {
  "kernelspec": {
   "display_name": "Bash",
   "language": "bash",
   "name": "bash"
  },
  "language_info": {
   "codemirror_mode": "shell",
   "file_extension": ".sh",
   "mimetype": "text/x-sh",
   "name": "bash"
  }
 },
 "nbformat": 4,
 "nbformat_minor": 5
}
