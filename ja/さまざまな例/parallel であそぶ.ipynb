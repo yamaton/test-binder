{
 "cells": [
  {
   "cell_type": "markdown",
   "id": "8462f3e6-36f1-47f4-8d69-3cdc6b8c533f",
   "metadata": {},
   "source": [
    "[`parallel`](https://www.gnu.org/software/parallel/) はなんでも並列処理をしてくれる優れものです。またループの代替としても使えます。"
   ]
  },
  {
   "cell_type": "markdown",
   "id": "037ff0d7-8efc-4d0d-bd82-47e6f6362624",
   "metadata": {},
   "source": [
    "要素をコマンドラインで並べるには `:::` を使います。複数並べると[デカルト積](https://ja.wikipedia.org/wiki/%E7%9B%B4%E7%A9%8D%E9%9B%86%E5%90%88)が得られます。\n",
    "\n",
    "次の例では `foo`, `bar` の２要素と `x`, `y`, `z` の3要素の組み合わせがすべて作られます。\n",
    "\n",
    "（並列作業をしているので `--keep-order` を付けないと順番が乱れます。）"
   ]
  },
  {
   "cell_type": "code",
   "execution_count": 5,
   "id": "67a49d10-4ed3-4e56-a325-84af8f07f856",
   "metadata": {},
   "outputs": [
    {
     "name": "stdout",
     "output_type": "stream",
     "text": [
      "foo---x\n",
      "foo---y\n",
      "foo---z\n",
      "bar---x\n",
      "bar---y\n",
      "bar---z\n"
     ]
    }
   ],
   "source": [
    "parallel --keep-order 'echo {1}---{2}' ::: foo bar  ::: x y z "
   ]
  },
  {
   "cell_type": "markdown",
   "id": "f4ba9b98-b79a-47cb-813d-2ae8741301f7",
   "metadata": {},
   "source": [
    "２つの集合からペアを作り出す、いわゆる [zip](https://ja.wikipedia.org/wiki/%E9%AB%98%E9%9A%8E%E9%96%A2%E6%95%B0#zip) をつくるには `:::+` を使います。\n",
    "\n",
    "次の例では `foo`, `bar`, `buzz` の３要素と `x`, `y`, `z` の３要素が登場順にペアを作ります。"
   ]
  },
  {
   "cell_type": "code",
   "execution_count": 8,
   "id": "d18423d5-2656-473b-a1f7-e52c39e76ec7",
   "metadata": {},
   "outputs": [
    {
     "name": "stdout",
     "output_type": "stream",
     "text": [
      "foo---x\n",
      "bar---y\n",
      "buzz---z\n"
     ]
    }
   ],
   "source": [
    "parallel --keep-order 'echo {1}---{2}' ::: foo bar buzz :::+ x y z "
   ]
  },
  {
   "cell_type": "markdown",
   "id": "539e9ea0-2646-4494-aed7-4f8c0a51412c",
   "metadata": {},
   "source": [
    "\n",
    "上で見た処理を、ファイル中の各行を要素として行うばあいには `::::` を使います。"
   ]
  },
  {
   "cell_type": "code",
   "execution_count": 3,
   "id": "0b28385e-1985-4e88-83dd-b9ec23cde9c6",
   "metadata": {},
   "outputs": [
    {
     "name": "stdout",
     "output_type": "stream",
     "text": [
      "foo---x\n",
      "bar---y\n",
      "buzz---z\n"
     ]
    }
   ],
   "source": [
    "echo \"foo\" > names.txt\n",
    "echo \"bar\" >> names.txt\n",
    "echo \"buzz\" >> names.txt\n",
    "\n",
    "parallel --keep-order 'echo {1}---{2}' :::: names.txt :::+ x y z"
   ]
  },
  {
   "cell_type": "markdown",
   "id": "30835ffd-14e9-462e-afc1-3b33fdaa6cfe",
   "metadata": {},
   "source": [
    "入力ファイル名から拡張子を取り除く記法など bash標準よりもシンプルです。ここでは標準入力を要素としています。"
   ]
  },
  {
   "cell_type": "code",
   "execution_count": 8,
   "id": "95b52752-bd71-4b84-9be5-9a8e2410f9bd",
   "metadata": {},
   "outputs": [
    {
     "name": "stdout",
     "output_type": "stream",
     "text": [
      "NCBI データ サーチ\n",
      "NCBI データ Taxonomy編\n",
      "parallel であそぶ\n"
     ]
    }
   ],
   "source": [
    "ls *.ipynb | parallel --keep-order 'echo {.}'"
   ]
  },
  {
   "cell_type": "code",
   "execution_count": null,
   "id": "ee186f78-50ea-4a6a-9fc6-a8b5dc9b553d",
   "metadata": {},
   "outputs": [],
   "source": []
  }
 ],
 "metadata": {
  "kernelspec": {
   "display_name": "Bash",
   "language": "bash",
   "name": "bash"
  },
  "language_info": {
   "codemirror_mode": "shell",
   "file_extension": ".sh",
   "mimetype": "text/x-sh",
   "name": "bash"
  }
 },
 "nbformat": 4,
 "nbformat_minor": 5
}
