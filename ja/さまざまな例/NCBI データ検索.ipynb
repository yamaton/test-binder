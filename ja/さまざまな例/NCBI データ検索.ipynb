{
 "cells": [
  {
   "cell_type": "markdown",
   "id": "e0ecd1a8-2aa8-4612-8ae4-1837954b45bb",
   "metadata": {},
   "source": [
    "## NCBI データの検索\n",
    "\n",
    "NCBI の出している [Entrez Direct](https://www.ncbi.nlm.nih.gov/books/NBK179288/) を使っていきます。以下の `einfo`, `esearch`, `esummary`, `xtract` はすべて Entrez Direct に含まれるコマンドです。\n"
   ]
  },
  {
   "cell_type": "markdown",
   "id": "2d25aa7d-10c4-4b2b-a070-72c94d287cdd",
   "metadata": {},
   "source": [
    "### NCBIで利用可能なデータベースの一覧"
   ]
  },
  {
   "cell_type": "code",
   "execution_count": 1,
   "id": "d6d44719-52d1-46f6-a95c-d290592f82f7",
   "metadata": {},
   "outputs": [
    {
     "name": "stdout",
     "output_type": "stream",
     "text": [
      "annotinfo\n",
      "assembly\n",
      "biocollections\n",
      "bioproject\n",
      "biosample\n",
      "blastdbinfo\n",
      "books\n",
      "cdd\n",
      "clinvar\n",
      "dbvar\n",
      "gap\n",
      "gapplus\n",
      "gds\n",
      "gene\n",
      "genome\n",
      "geoprofiles\n",
      "grasp\n",
      "gtr\n",
      "homologene\n",
      "ipg\n",
      "medgen\n",
      "mesh\n",
      "nlmcatalog\n",
      "nuccore\n",
      "nucleotide\n",
      "omim\n",
      "orgtrack\n",
      "pcassay\n",
      "pccompound\n",
      "pcsubstance\n",
      "pmc\n",
      "popset\n",
      "protein\n",
      "proteinclusters\n",
      "protfam\n",
      "pubmed\n",
      "seqannot\n",
      "snp\n",
      "sra\n",
      "structure\n",
      "taxonomy\n"
     ]
    }
   ],
   "source": [
    "einfo -dbs"
   ]
  },
  {
   "cell_type": "markdown",
   "id": "f7d9d5db-9bd9-42e3-a54b-e1d034a9b825",
   "metadata": {},
   "source": [
    "#### "
   ]
  },
  {
   "cell_type": "code",
   "execution_count": 3,
   "id": "56c4369a-e5b2-4ebd-bfad-e1d67820a4ad",
   "metadata": {},
   "outputs": [
    {
     "name": "stdout",
     "output_type": "stream",
     "text": [
      "annotinfo\n",
      "assembly\n",
      "biocollections\n",
      "bioproject\n",
      "biosample\n",
      "blastdbinfo\n",
      "books\n",
      "cdd\n",
      "clinvar\n",
      "dbvar\n",
      "gap\n",
      "gapplus\n",
      "gds\n",
      "gene\n",
      "genome\n",
      "geoprofiles\n",
      "grasp\n",
      "gtr\n",
      "homologene\n",
      "ipg\n",
      "medgen\n",
      "mesh\n",
      "nlmcatalog\n",
      "nuccore\n",
      "nucleotide\n",
      "omim\n",
      "orgtrack\n",
      "pcassay\n",
      "pccompound\n",
      "pcsubstance\n",
      "pmc\n",
      "popset\n",
      "protein\n",
      "proteinclusters\n",
      "protfam\n",
      "pubmed\n",
      "seqannot\n",
      "snp\n",
      "sra\n",
      "structure\n",
      "taxonomy\n"
     ]
    }
   ],
   "source": [
    "datasets summary genome "
   ]
  },
  {
   "cell_type": "code",
   "execution_count": null,
   "id": "cb7633a4-36b2-4fbc-b386-9dd087c845ab",
   "metadata": {},
   "outputs": [],
   "source": [
    "esearch -db pubmed -query \"selective serotonin reuptake inhibitor\" | efetch -format docsum -mode json | jq ."
   ]
  },
  {
   "cell_type": "code",
   "execution_count": null,
   "id": "d4a0439d-2949-43e0-88f6-9b1a8d027022",
   "metadata": {},
   "outputs": [],
   "source": []
  }
 ],
 "metadata": {
  "kernelspec": {
   "display_name": "Bash",
   "language": "bash",
   "name": "bash"
  },
  "language_info": {
   "codemirror_mode": "shell",
   "file_extension": ".sh",
   "mimetype": "text/x-sh",
   "name": "bash"
  }
 },
 "nbformat": 4,
 "nbformat_minor": 5
}
