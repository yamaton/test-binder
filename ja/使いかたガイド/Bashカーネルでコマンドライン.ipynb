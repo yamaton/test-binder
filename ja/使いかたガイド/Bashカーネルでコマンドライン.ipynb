{
 "cells": [
  {
   "cell_type": "markdown",
   "id": "4cddf0c9-b5f0-4b0c-870e-62a8fb847f09",
   "metadata": {},
   "source": [
    "Bash カーネルではシェルスクリプトやターミナルに入れるコマンドライン入力を実行できます。\n",
    "\n",
    "画面右上が Bash となっていることを確認してください。\n",
    "\n",
    "「はじめてのノートブック」ではこの Bash カーネルが選択されていました。"
   ]
  },
  {
   "cell_type": "markdown",
   "id": "2f9c3bae-11b1-47a9-8228-1fd4fa2b8fbe",
   "metadata": {},
   "source": [
    "### Bash カーネルの注意点\n",
    "\n",
    "* ターミナル入力の代わりとしても使えます。\n",
    "* `%` や `%%` から始まるマジックコマンドは Pythonカーネル限定のため利用できません。\n",
    "* Pythonカーネルの `%%bash` と違い、変数はセル間で共有されます。\n",
    "* Named pipes (FIFOs) まわりの挙動があやしいです。（Terminalでもおなじ）\n"
   ]
  },
  {
   "cell_type": "code",
   "execution_count": 1,
   "id": "4514dec9-586c-4be8-b220-4ecaad3e7ef5",
   "metadata": {},
   "outputs": [],
   "source": [
    "keke=\"baba\""
   ]
  },
  {
   "cell_type": "code",
   "execution_count": 2,
   "id": "60582889-c0f7-4def-a2aa-b4272347d588",
   "metadata": {},
   "outputs": [
    {
     "name": "stdout",
     "output_type": "stream",
     "text": [
      "baba is you\n"
     ]
    }
   ],
   "source": [
    "echo \"$keke is you\""
   ]
  },
  {
   "cell_type": "code",
   "execution_count": null,
   "id": "38130580-0d63-4f4d-8b0a-5710a3cb802e",
   "metadata": {},
   "outputs": [],
   "source": []
  }
 ],
 "metadata": {
  "kernelspec": {
   "display_name": "Bash",
   "language": "bash",
   "name": "bash"
  },
  "language_info": {
   "codemirror_mode": "shell",
   "file_extension": ".sh",
   "mimetype": "text/x-sh",
   "name": "bash"
  }
 },
 "nbformat": 4,
 "nbformat_minor": 5
}
