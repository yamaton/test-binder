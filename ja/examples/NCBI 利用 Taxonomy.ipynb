{
 "cells": [
  {
   "cell_type": "markdown",
   "id": "fabceafc-026b-42fb-8fe9-c7459d4b36bb",
   "metadata": {},
   "source": [
    "## NCBI データを利用してみる（Taxonomy編）\n",
    "\n",
    "NCBI の出している [Entrez Direct](https://www.ncbi.nlm.nih.gov/books/NBK179288/) を使っていきます。以下の `esearch`, `esummary`, `xtract` はすべて Entrez Direct に含まれるコマンドです。\n"
   ]
  },
  {
   "cell_type": "markdown",
   "id": "4b75faf9-7c98-4403-bb91-a5568a86df3f",
   "metadata": {},
   "source": [
    "#### 学名から Taxon ID を得る（多少のタイポを許してもらいつつ）"
   ]
  },
  {
   "cell_type": "code",
   "execution_count": 1,
   "id": "3697f2dc-cf7d-4114-b773-65f22fe22d45",
   "metadata": {},
   "outputs": [
    {
     "name": "stdout",
     "output_type": "stream",
     "text": [
      "86377\n"
     ]
    }
   ],
   "source": [
    "name=\"Teeniura lymna\"\n",
    "esearch -db taxonomy -spell -query \"$name\" |\n",
    "  esummary | \n",
    "  xtract -pattern DocumentSummary -element TaxId"
   ]
  },
  {
   "cell_type": "markdown",
   "id": "6ba55df1-693b-4f13-aec5-65e37ccaa2bf",
   "metadata": {},
   "source": [
    "#### Taxon ID から学名を得る\n",
    "\n"
   ]
  },
  {
   "cell_type": "code",
   "execution_count": 2,
   "id": "3d19735c-1293-471a-8bb3-b7423bd13f0e",
   "metadata": {},
   "outputs": [
    {
     "name": "stdout",
     "output_type": "stream",
     "text": [
      "9606\tHomo sapiens\n"
     ]
    }
   ],
   "source": [
    "taxid=9606\n",
    "esummary -db taxonomy -id \"$taxid\" | \n",
    "  xtract -pattern DocumentSummary -element TaxId ScientificName"
   ]
  },
  {
   "cell_type": "markdown",
   "id": "20b2965c-cdfe-4d34-af11-35435b9cd740",
   "metadata": {},
   "source": [
    "#### Taxon ID から情報をJSONで得る"
   ]
  },
  {
   "cell_type": "code",
   "execution_count": 2,
   "id": "decbe673-bbb0-47cd-8318-6bf3a3f8b026",
   "metadata": {},
   "outputs": [
    {
     "name": "stdout",
     "output_type": "stream",
     "text": [
      "\u001b[1;39m{\n",
      "  \u001b[0m\u001b[34;1m\"header\"\u001b[0m\u001b[1;39m: \u001b[0m\u001b[1;39m{\n",
      "    \u001b[0m\u001b[34;1m\"type\"\u001b[0m\u001b[1;39m: \u001b[0m\u001b[0;32m\"esummary\"\u001b[0m\u001b[1;39m,\n",
      "    \u001b[0m\u001b[34;1m\"version\"\u001b[0m\u001b[1;39m: \u001b[0m\u001b[0;32m\"0.3\"\u001b[0m\u001b[1;39m\n",
      "  \u001b[1;39m}\u001b[0m\u001b[1;39m,\n",
      "  \u001b[0m\u001b[34;1m\"result\"\u001b[0m\u001b[1;39m: \u001b[0m\u001b[1;39m{\n",
      "    \u001b[0m\u001b[34;1m\"uids\"\u001b[0m\u001b[1;39m: \u001b[0m\u001b[1;39m[\n",
      "      \u001b[0;32m\"9606\"\u001b[0m\u001b[1;39m\n",
      "    \u001b[1;39m]\u001b[0m\u001b[1;39m,\n",
      "    \u001b[0m\u001b[34;1m\"9606\"\u001b[0m\u001b[1;39m: \u001b[0m\u001b[1;39m{\n",
      "      \u001b[0m\u001b[34;1m\"uid\"\u001b[0m\u001b[1;39m: \u001b[0m\u001b[0;32m\"9606\"\u001b[0m\u001b[1;39m,\n",
      "      \u001b[0m\u001b[34;1m\"status\"\u001b[0m\u001b[1;39m: \u001b[0m\u001b[0;32m\"active\"\u001b[0m\u001b[1;39m,\n",
      "      \u001b[0m\u001b[34;1m\"rank\"\u001b[0m\u001b[1;39m: \u001b[0m\u001b[0;32m\"species\"\u001b[0m\u001b[1;39m,\n",
      "      \u001b[0m\u001b[34;1m\"division\"\u001b[0m\u001b[1;39m: \u001b[0m\u001b[0;32m\"primates\"\u001b[0m\u001b[1;39m,\n",
      "      \u001b[0m\u001b[34;1m\"scientificname\"\u001b[0m\u001b[1;39m: \u001b[0m\u001b[0;32m\"Homo sapiens\"\u001b[0m\u001b[1;39m,\n",
      "      \u001b[0m\u001b[34;1m\"commonname\"\u001b[0m\u001b[1;39m: \u001b[0m\u001b[0;32m\"human\"\u001b[0m\u001b[1;39m,\n",
      "      \u001b[0m\u001b[34;1m\"taxid\"\u001b[0m\u001b[1;39m: \u001b[0m\u001b[0;39m9606\u001b[0m\u001b[1;39m,\n",
      "      \u001b[0m\u001b[34;1m\"akataxid\"\u001b[0m\u001b[1;39m: \u001b[0m\u001b[0;32m\"\"\u001b[0m\u001b[1;39m,\n",
      "      \u001b[0m\u001b[34;1m\"genus\"\u001b[0m\u001b[1;39m: \u001b[0m\u001b[0;32m\"Homo\"\u001b[0m\u001b[1;39m,\n",
      "      \u001b[0m\u001b[34;1m\"species\"\u001b[0m\u001b[1;39m: \u001b[0m\u001b[0;32m\"sapiens\"\u001b[0m\u001b[1;39m,\n",
      "      \u001b[0m\u001b[34;1m\"subsp\"\u001b[0m\u001b[1;39m: \u001b[0m\u001b[0;32m\"\"\u001b[0m\u001b[1;39m,\n",
      "      \u001b[0m\u001b[34;1m\"modificationdate\"\u001b[0m\u001b[1;39m: \u001b[0m\u001b[0;32m\"2021/09/24 00:00\"\u001b[0m\u001b[1;39m,\n",
      "      \u001b[0m\u001b[34;1m\"genbankdivision\"\u001b[0m\u001b[1;39m: \u001b[0m\u001b[0;32m\"Primates\"\u001b[0m\u001b[1;39m\n",
      "    \u001b[1;39m}\u001b[0m\u001b[1;39m\n",
      "  \u001b[1;39m}\u001b[0m\u001b[1;39m\n",
      "\u001b[1;39m}\u001b[0m\n"
     ]
    }
   ],
   "source": [
    "taxid=9606\n",
    "esummary -db taxonomy -id \"$taxid\" -mode json | \n",
    "  jq ."
   ]
  }
 ],
 "metadata": {
  "kernelspec": {
   "display_name": "Bash",
   "language": "bash",
   "name": "bash"
  },
  "language_info": {
   "codemirror_mode": "shell",
   "file_extension": ".sh",
   "mimetype": "text/x-sh",
   "name": "bash"
  }
 },
 "nbformat": 4,
 "nbformat_minor": 5
}
