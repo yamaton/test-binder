{
 "cells": [
  {
   "cell_type": "markdown",
   "id": "29370ebe-b192-4930-9ad0-8e1aca40d725",
   "metadata": {},
   "source": [
    "# ノートブックのつかいかた"
   ]
  },
  {
   "cell_type": "markdown",
   "id": "be6fa3ef-25c7-496a-8fec-5305e1188837",
   "metadata": {},
   "source": [
    "### セルについて\n",
    "\n",
    "ノートブックは、セルと呼ばれる入力フォームでできています。セルにはコード用と文章用の２種類があります。\n",
    "\n",
    "いまこの文が入っているセルは文章用セルです。文章用セルでは ⬆️のツールバーに Markdown と出ます。\n",
    "\n",
    "コード用セルを選択しているときには ⬆️のツールバーに Code と出ます。セルの左側に `[]:` という表記も現れます。\n",
    "\n",
    "セルを実行するには、セルを選択した状態で Shift+Enter (macOS では ⇧ + Return) をタイプします。"
   ]
  },
  {
   "cell_type": "markdown",
   "id": "0700f2dc-a862-4761-a285-725f49dd31bf",
   "metadata": {},
   "source": [
    "### コマンドラインツールを動かしてみる\n",
    "\n",
    "**\\[重要\\]** コード用セルの行頭に `%%bash` と書くとコマンドラインツールを実行できるようになります。\n",
    "\n",
    "試しに ⬇️のコマンドを実行してみてください。セルをクリックして選択してから Shift + Enter です。"
   ]
  },
  {
   "cell_type": "code",
   "execution_count": null,
   "id": "3627005f",
   "metadata": {
    "vscode": {
     "languageId": "shellscript"
    }
   },
   "outputs": [],
   "source": [
    "%%bash\n",
    "\n",
    "## %%bash 環境では #の後ろはコメントとして実行時に無視されます。\n",
    "## これは天気予報をウェブから取得するコマンドです\n",
    "\n",
    "curl 'wttr.in/越中島?m&lang=ja'"
   ]
  },
  {
   "cell_type": "code",
   "execution_count": null,
   "id": "5417945d-9857-4bb0-bea5-cd68b399ae01",
   "metadata": {},
   "outputs": [],
   "source": []
  },
  {
   "cell_type": "markdown",
   "id": "3c539183-a1ef-4835-9837-5f6f219e3e40",
   "metadata": {},
   "source": [
    "### Python とシェルコマンドをうごかしてみる"
   ]
  },
  {
   "cell_type": "markdown",
   "id": "e5b12d3d-d07c-4dcc-b0a9-4e9223d693d3",
   "metadata": {},
   "source": [
    "コマンドラインとPythonを両方使って、写真をダウンロードして表示する操作をしてみます。\n",
    "\n",
    "（なお [thispersondoesnotexist.com](https://thispersondoesnotexist.com/image) の提供する画像はAIで作られたものです。）\n",
    "\n",
    "⬇️にあるセル２つを実行してみてください。"
   ]
  },
  {
   "cell_type": "code",
   "execution_count": null,
   "id": "a5791cfa-b183-4c52-8b82-1a0268d4fb56",
   "metadata": {
    "vscode": {
     "languageId": "shellscript"
    }
   },
   "outputs": [],
   "source": [
    "%%bash\n",
    "\n",
    "## 画像をダウンロードして `image.jpg` として保存します\n",
    "wget -O image.jpg https://thispersondoesnotexist.com/image"
   ]
  },
  {
   "cell_type": "code",
   "execution_count": null,
   "id": "7cc4e49d-b8c6-4f78-bb9c-a394c52d2cb4",
   "metadata": {},
   "outputs": [],
   "source": [
    "## 上でダウンロードした画像を表示します\n",
    "## Python で matplotlib を利用したプログラムです\n",
    "\n",
    "import matplotlib.pyplot as plt\n",
    "import matplotlib.image as mpimg\n",
    "im = mpimg.imread(\"./image.jpg\")\n",
    "plt.imshow(im)"
   ]
  },
  {
   "cell_type": "markdown",
   "id": "8542294d-3398-4213-bf98-7c0d865d5d3a",
   "metadata": {},
   "source": [
    "### Rをうごかす\n",
    "\n",
    "セルの行頭に `%%R` と書くことで R のコードを実行することもできます。"
   ]
  },
  {
   "cell_type": "code",
   "execution_count": null,
   "id": "96a7ee49-8b0c-4f41-91ac-385a3fa5adb7",
   "metadata": {},
   "outputs": [],
   "source": [
    "%%R\n",
    "\n",
    "vec <- 1:10\n",
    "vec * 3 + 1"
   ]
  },
  {
   "cell_type": "markdown",
   "id": "c37ef8b9",
   "metadata": {},
   "source": [
    "### コマンド入力支援機能\n",
    "\n",
    "`%%bash` 環境では Tab キーを押すことで補完ができます。下の `git c` の後ろにカーソルを置いてタブキーを押してみてください。"
   ]
  },
  {
   "cell_type": "code",
   "execution_count": null,
   "id": "dfee6895",
   "metadata": {
    "vscode": {
     "languageId": "shellscript"
    }
   },
   "outputs": [],
   "source": [
    "%%bash\n",
    "\n",
    "git c"
   ]
  },
  {
   "cell_type": "markdown",
   "id": "b5f1a8fd",
   "metadata": {},
   "source": []
  },
  {
   "cell_type": "markdown",
   "id": "48e01a46",
   "metadata": {},
   "source": [
    "### バイオインフォマティックス向けツール\n",
    "\n",
    "Triton Notebook にはたくさんのバイオインフォマティックスのツールがインストール済みです。何か動かなかったり足りなかったりしたら [Telegram](https://t.me/yamaton) または [Twitter](https://twitter.com/phantomile) に投げてください。ツール名を並べてもらえばＯＫです。\n",
    "\n",
    "インストール済みツールを確認するにはこちら⬇️を実行。"
   ]
  },
  {
   "cell_type": "code",
   "execution_count": null,
   "id": "db75b7b9-4221-4ecb-b3dc-b12a82f88e13",
   "metadata": {},
   "outputs": [],
   "source": [
    "%%bash\n",
    "\n",
    "condax list --short"
   ]
  }
 ],
 "metadata": {
  "kernelspec": {
   "display_name": "Python 3 (ipykernel)",
   "language": "python",
   "name": "python3"
  },
  "language_info": {
   "codemirror_mode": {
    "name": "ipython",
    "version": 3
   },
   "file_extension": ".py",
   "mimetype": "text/x-python",
   "name": "python",
   "nbconvert_exporter": "python",
   "pygments_lexer": "ipython3",
   "version": "3.9.10"
  }
 },
 "nbformat": 4,
 "nbformat_minor": 5
}
