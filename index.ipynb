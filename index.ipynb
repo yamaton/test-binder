{
 "cells": [
  {
   "cell_type": "markdown",
   "id": "29370ebe-b192-4930-9ad0-8e1aca40d725",
   "metadata": {},
   "source": [
    "# Getting Started with Triton Notebook\n",
    "\n",
    "## Notebook walkthrough"
   ]
  },
  {
   "cell_type": "markdown",
   "id": "be6fa3ef-25c7-496a-8fec-5305e1188837",
   "metadata": {},
   "source": [
    "Cells with `In [ ]:` on their left can execute programs and commands. This present cell doesn't have such symbols hence it's not executable.\n",
    "\n",
    "To run a cell, select a cell and type Shift + Enter (⇧ + Return on macOS)."
   ]
  },
  {
   "cell_type": "markdown",
   "id": "0700f2dc-a862-4761-a285-725f49dd31bf",
   "metadata": {},
   "source": [
    "### Running commands"
   ]
  },
  {
   "cell_type": "code",
   "execution_count": null,
   "id": "3627005f",
   "metadata": {},
   "outputs": [],
   "source": [
    "%%bash\n",
    "\n",
    "## Lines starting with '#' are considered as comments; they are ignored when commands are executed.\n",
    "## Following is the command displaying weather forcast.\n",
    "\n",
    "curl wttr.in"
   ]
  },
  {
   "cell_type": "code",
   "execution_count": null,
   "id": "5417945d-9857-4bb0-bea5-cd68b399ae01",
   "metadata": {},
   "outputs": [],
   "source": []
  },
  {
   "cell_type": "markdown",
   "id": "3c539183-a1ef-4835-9837-5f6f219e3e40",
   "metadata": {},
   "source": [
    "### Executing Python programs and shell commands"
   ]
  },
  {
   "cell_type": "markdown",
   "id": "e5b12d3d-d07c-4dcc-b0a9-4e9223d693d3",
   "metadata": {},
   "source": [
    "We'll download a picture of nonexistent person's face synthesized by an AI."
   ]
  },
  {
   "cell_type": "code",
   "execution_count": null,
   "id": "a5791cfa-b183-4c52-8b82-1a0268d4fb56",
   "metadata": {
    "vscode": {
     "languageId": "shellscript"
    }
   },
   "outputs": [],
   "source": [
    "%%bash\n",
    "\n",
    "## Download an image of a synthesized face\n",
    "wget -O image.jpg https://thispersondoesnotexist.com/image"
   ]
  },
  {
   "cell_type": "code",
   "execution_count": null,
   "id": "7cc4e49d-b8c6-4f78-bb9c-a394c52d2cb4",
   "metadata": {},
   "outputs": [],
   "source": [
    "## Display the downloaded file with Python code\n",
    "\n",
    "import matplotlib.pyplot as plt\n",
    "import matplotlib.image as mpimg\n",
    "im = mpimg.imread(\"./image.jpg\")\n",
    "plt.imshow(im)"
   ]
  },
  {
   "cell_type": "markdown",
   "id": "8542294d-3398-4213-bf98-7c0d865d5d3a",
   "metadata": {},
   "source": [
    "### Running R"
   ]
  },
  {
   "cell_type": "markdown",
   "id": "17c9e020",
   "metadata": {},
   "source": [
    "This is just a demonstration of vector opration $(3 x + 1)$ using R."
   ]
  },
  {
   "cell_type": "code",
   "execution_count": null,
   "id": "96a7ee49-8b0c-4f41-91ac-385a3fa5adb7",
   "metadata": {},
   "outputs": [],
   "source": [
    "%%R\n",
    "\n",
    "vec <- 1:10\n",
    "vec * 3 + 1"
   ]
  },
  {
   "cell_type": "markdown",
   "id": "db75b7b9-4221-4ecb-b3dc-b12a82f88e13",
   "metadata": {},
   "source": [
    "## Triton Notebook Features\n",
    "\n",
    "\n",
    "### Display tooltips for shell commands\n",
    "\n",
    "Move the cursor to `-xvf` and hit **Control key** to activate a tooltip. Try the same on `tar` as well. This tooltips decode intimidating tar command."
   ]
  },
  {
   "cell_type": "code",
   "execution_count": null,
   "id": "076cc3e7",
   "metadata": {
    "vscode": {
     "languageId": "shellscript"
    }
   },
   "outputs": [],
   "source": [
    "%%bash\n",
    "\n",
    "tar -xvf somefile.tar.gz"
   ]
  },
  {
   "cell_type": "markdown",
   "id": "ba071fcd",
   "metadata": {},
   "source": [
    "Mandatory reference: https://xkcd.com/1168/\n",
    "\n",
    "![](https://imgs.xkcd.com/comics/tar_2x.png)"
   ]
  },
  {
   "cell_type": "markdown",
   "id": "d4ab9888",
   "metadata": {},
   "source": [
    "### Autocomplete\n",
    "\n",
    "Move the cursor right after `git a`, and hit **TAB key** to activate autocomplete."
   ]
  },
  {
   "cell_type": "code",
   "execution_count": null,
   "id": "ceb4be38",
   "metadata": {
    "vscode": {
     "languageId": "shellscript"
    }
   },
   "outputs": [],
   "source": [
    "%%bash\n",
    "\n",
    "git a"
   ]
  },
  {
   "cell_type": "markdown",
   "id": "63012bba",
   "metadata": {},
   "source": [
    "### Packed with bioinformatics tools\n",
    "\n",
    "Bioinformatics tools typically require cumbersome setups and switching between environments. In this notebook, however, you can just type commands: no more `conda activate myawesomeenv`.\n",
    "\n",
    "Here⬇️ is the list of available tools. Please ping me at [Telegram](https://t.me/yamaton) or [Twitter](https://twitter.com/phantomile) if you find some tools missing or not working for you.\n"
   ]
  },
  {
   "cell_type": "code",
   "execution_count": null,
   "id": "4968a3a7",
   "metadata": {
    "vscode": {
     "languageId": "shellscript"
    }
   },
   "outputs": [],
   "source": [
    "%%bash\n",
    "\n",
    "condax list --short"
   ]
  }
 ],
 "metadata": {
  "interpreter": {
   "hash": "b84e109b045a092625b2c92e1e9fd866d76190a677d88b51d11192902177fa4e"
  },
  "kernelspec": {
   "display_name": "Python 3.10.4 ('base')",
   "language": "python",
   "name": "python3"
  },
  "language_info": {
   "codemirror_mode": {
    "name": "ipython",
    "version": 3
   },
   "file_extension": ".py",
   "mimetype": "text/x-python",
   "name": "python",
   "nbconvert_exporter": "python",
   "pygments_lexer": "ipython3",
   "version": "3.10.4"
  }
 },
 "nbformat": 4,
 "nbformat_minor": 5
}
