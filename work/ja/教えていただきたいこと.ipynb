{
 "cells": [
  {
   "cell_type": "markdown",
   "id": "91bf9d4c-620d-4d18-ba4c-da5afe935458",
   "metadata": {},
   "source": [
    "当サイトのご利用ありがとうございます。\n",
    "\n",
    "使いやすいバイオインフォ環境を目指して日々改良を重ねていますが、どちら方面に重きを置くのが良いかで迷っています。\n",
    "\n",
    "こちらのアンケートにご記入いただけると、今後の開発の方向性の参考になり非常にありがたいです。よろしくお願いします。\n",
    "\n",
    "⬇️⬇️⬇️\n",
    "\n",
    "Google Forms というアンケートページに飛びます。\n",
    "\n",
    "https://forms.gle/jBpyi8DJzHguxyLx5\n",
    "\n"
   ]
  },
  {
   "cell_type": "code",
   "execution_count": null,
   "id": "e1ea2f66-76f8-4600-a47d-6f69c029193b",
   "metadata": {},
   "outputs": [],
   "source": []
  }
 ],
 "metadata": {
  "kernelspec": {
   "display_name": "Python 3 (ipykernel)",
   "language": "python",
   "name": "python3"
  },
  "language_info": {
   "codemirror_mode": {
    "name": "ipython",
    "version": 3
   },
   "file_extension": ".py",
   "mimetype": "text/x-python",
   "name": "python",
   "nbconvert_exporter": "python",
   "pygments_lexer": "ipython3",
   "version": "3.10.6"
  }
 },
 "nbformat": 4,
 "nbformat_minor": 5
}
