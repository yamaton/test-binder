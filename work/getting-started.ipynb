{
 "cells": [
  {
   "cell_type": "markdown",
   "id": "29370ebe-b192-4930-9ad0-8e1aca40d725",
   "metadata": {},
   "source": [
    "# Getting Started\n",
    "\n",
    "**[NOTE]** This notebook runs **Bash kernel** with IDE-like tools bioinformatics workflow development.\n",
    "\n",
    "## How to execute programs"
   ]
  },
  {
   "cell_type": "markdown",
   "id": "be6fa3ef-25c7-496a-8fec-5305e1188837",
   "metadata": {},
   "source": [
    "Cells with `In [ ]:` on their left can execute programs and commands. This present cell doesn't have such symbols hence it's not executable.\n",
    "\n",
    "To run a cell, select a cell and type Shift + Enter (⇧ + Return on macOS)."
   ]
  },
  {
   "cell_type": "markdown",
   "id": "0700f2dc-a862-4761-a285-725f49dd31bf",
   "metadata": {},
   "source": [
    "## Running commands\n",
    "\n",
    "### Weather forcast\n",
    "\n",
    "This command fetches and displays weather forcast for Atlanta, GA."
   ]
  },
  {
   "cell_type": "code",
   "execution_count": 7,
   "id": "3627005f",
   "metadata": {
    "vscode": {
     "languageId": "shellscript"
    }
   },
   "outputs": [
    {
     "name": "stdout",
     "output_type": "stream",
     "text": [
      "Weather report: Atlanta, GA\n",
      "\n",
      "  \u001b[38;5;226m    \\   /    \u001b[0m Clear\n",
      "  \u001b[38;5;226m     .-.     \u001b[0m \u001b[38;5;154m62\u001b[0m °F\u001b[0m          \n",
      "  \u001b[38;5;226m  ― (   ) ―  \u001b[0m \u001b[1m↑\u001b[0m \u001b[38;5;154m5\u001b[0m mph\u001b[0m        \n",
      "  \u001b[38;5;226m     `-’     \u001b[0m 9 mi\u001b[0m           \n",
      "  \u001b[38;5;226m    /   \\    \u001b[0m 0.0 in\u001b[0m         \n",
      "                                                       ┌─────────────┐                                                       \n",
      "┌──────────────────────────────┬───────────────────────┤  Tue 07 Feb ├───────────────────────┬──────────────────────────────┐\n",
      "│            Morning           │             Noon      └──────┬──────┘     Evening           │             Night            │\n",
      "├──────────────────────────────┼──────────────────────────────┼──────────────────────────────┼──────────────────────────────┤\n",
      "│ \u001b[38;5;226m    \\   /    \u001b[0m Sunny          │ \u001b[38;5;226m    \\   /    \u001b[0m Sunny          │ \u001b[38;5;226m   \\  /\u001b[0m       Partly cloudy  │               Overcast       │\n",
      "│ \u001b[38;5;226m     .-.     \u001b[0m \u001b[38;5;048m+39\u001b[0m(\u001b[38;5;049m35\u001b[0m) °F\u001b[0m     │ \u001b[38;5;226m     .-.     \u001b[0m \u001b[38;5;082m51\u001b[0m °F\u001b[0m          │ \u001b[38;5;226m _ /\"\"\u001b[38;5;250m.-.    \u001b[0m \u001b[38;5;154m62\u001b[0m °F\u001b[0m          │ \u001b[38;5;240;1m     .--.    \u001b[0m \u001b[38;5;118m59\u001b[0m °F\u001b[0m          │\n",
      "│ \u001b[38;5;226m  ― (   ) ―  \u001b[0m \u001b[1m↖\u001b[0m \u001b[38;5;118m3\u001b[0m-\u001b[38;5;226m8\u001b[0m mph\u001b[0m      │ \u001b[38;5;226m  ― (   ) ―  \u001b[0m \u001b[1m↖\u001b[0m \u001b[38;5;154m4\u001b[0m-\u001b[38;5;190m6\u001b[0m mph\u001b[0m      │ \u001b[38;5;226m   \\_\u001b[38;5;250m(   ).  \u001b[0m \u001b[1m↑\u001b[0m \u001b[38;5;190m6\u001b[0m-\u001b[38;5;226m8\u001b[0m mph\u001b[0m      │ \u001b[38;5;240;1m  .-(    ).  \u001b[0m \u001b[1m↖\u001b[0m \u001b[38;5;154m4\u001b[0m-\u001b[38;5;226m8\u001b[0m mph\u001b[0m      │\n",
      "│ \u001b[38;5;226m     `-’     \u001b[0m 6 mi\u001b[0m           │ \u001b[38;5;226m     `-’     \u001b[0m 6 mi\u001b[0m           │ \u001b[38;5;226m   /\u001b[38;5;250m(___(__) \u001b[0m 6 mi\u001b[0m           │ \u001b[38;5;240;1m (___.__)__) \u001b[0m 6 mi\u001b[0m           │\n",
      "│ \u001b[38;5;226m    /   \\    \u001b[0m 0.0 in | 0%\u001b[0m    │ \u001b[38;5;226m    /   \\    \u001b[0m 0.0 in | 0%\u001b[0m    │               0.0 in | 0%\u001b[0m    │               0.0 in | 0%\u001b[0m    │\n",
      "└──────────────────────────────┴──────────────────────────────┴──────────────────────────────┴──────────────────────────────┘\n",
      "                                                       ┌─────────────┐                                                       \n",
      "┌──────────────────────────────┬───────────────────────┤  Wed 08 Feb ├───────────────────────┬──────────────────────────────┐\n",
      "│            Morning           │             Noon      └──────┬──────┘     Evening           │             Night            │\n",
      "├──────────────────────────────┼──────────────────────────────┼──────────────────────────────┼──────────────────────────────┤\n",
      "│ \u001b[38;5;226m   \\  /\u001b[0m       Partly cloudy  │               Overcast       │ \u001b[38;5;226m   \\  /\u001b[0m       Partly cloudy  │               Overcast       │\n",
      "│ \u001b[38;5;226m _ /\"\"\u001b[38;5;250m.-.    \u001b[0m \u001b[38;5;082m53\u001b[0m °F\u001b[0m          │ \u001b[38;5;240;1m     .--.    \u001b[0m \u001b[38;5;154m60\u001b[0m °F\u001b[0m          │ \u001b[38;5;226m _ /\"\"\u001b[38;5;250m.-.    \u001b[0m \u001b[38;5;190m68\u001b[0m °F\u001b[0m          │ \u001b[38;5;240;1m     .--.    \u001b[0m \u001b[38;5;154m62\u001b[0m °F\u001b[0m          │\n",
      "│ \u001b[38;5;226m   \\_\u001b[38;5;250m(   ).  \u001b[0m \u001b[1m↖\u001b[0m \u001b[38;5;118m3\u001b[0m-\u001b[38;5;154m5\u001b[0m mph\u001b[0m      │ \u001b[38;5;240;1m  .-(    ).  \u001b[0m \u001b[1m↖\u001b[0m \u001b[38;5;154m4\u001b[0m-\u001b[38;5;154m5\u001b[0m mph\u001b[0m      │ \u001b[38;5;226m   \\_\u001b[38;5;250m(   ).  \u001b[0m \u001b[1m↖\u001b[0m \u001b[38;5;190m6\u001b[0m-\u001b[38;5;226m8\u001b[0m mph\u001b[0m      │ \u001b[38;5;240;1m  .-(    ).  \u001b[0m \u001b[1m↖\u001b[0m \u001b[38;5;154m5\u001b[0m-\u001b[38;5;220m10\u001b[0m mph\u001b[0m     │\n",
      "│ \u001b[38;5;226m   /\u001b[38;5;250m(___(__) \u001b[0m 6 mi\u001b[0m           │ \u001b[38;5;240;1m (___.__)__) \u001b[0m 6 mi\u001b[0m           │ \u001b[38;5;226m   /\u001b[38;5;250m(___(__) \u001b[0m 6 mi\u001b[0m           │ \u001b[38;5;240;1m (___.__)__) \u001b[0m 6 mi\u001b[0m           │\n",
      "│               0.0 in | 0%\u001b[0m    │               0.0 in | 0%\u001b[0m    │               0.0 in | 0%\u001b[0m    │               0.0 in | 0%\u001b[0m    │\n",
      "└──────────────────────────────┴──────────────────────────────┴──────────────────────────────┴──────────────────────────────┘\n",
      "                                                       ┌─────────────┐                                                       \n",
      "┌──────────────────────────────┬───────────────────────┤  Thu 09 Feb ├───────────────────────┬──────────────────────────────┐\n",
      "│            Morning           │             Noon      └──────┬──────┘     Evening           │             Night            │\n",
      "├──────────────────────────────┼──────────────────────────────┼──────────────────────────────┼──────────────────────────────┤\n",
      "│ \u001b[38;5;226m   \\  /\u001b[0m       Partly cloudy  │ \u001b[38;5;250m     .-.     \u001b[0m Light drizzle  │ \u001b[38;5;226m _`/\"\"\u001b[38;5;250m.-.    \u001b[0m Light rain sho…│ \u001b[38;5;250m     .-.     \u001b[0m Light rain     │\n",
      "│ \u001b[38;5;226m _ /\"\"\u001b[38;5;250m.-.    \u001b[0m \u001b[38;5;118m59\u001b[0m °F\u001b[0m          │ \u001b[38;5;250m    (   ).   \u001b[0m \u001b[38;5;118m+59\u001b[0m(\u001b[38;5;118m57\u001b[0m) °F\u001b[0m     │ \u001b[38;5;226m  ,\\_\u001b[38;5;250m(   ).  \u001b[0m \u001b[38;5;154m60\u001b[0m °F\u001b[0m          │ \u001b[38;5;250m    (   ).   \u001b[0m \u001b[38;5;118m59\u001b[0m °F\u001b[0m          │\n",
      "│ \u001b[38;5;226m   \\_\u001b[38;5;250m(   ).  \u001b[0m \u001b[1m↑\u001b[0m \u001b[38;5;226m9\u001b[0m-\u001b[38;5;214m14\u001b[0m mph\u001b[0m     │ \u001b[38;5;250m   (___(__)  \u001b[0m \u001b[1m↑\u001b[0m \u001b[38;5;226m8\u001b[0m-\u001b[38;5;214m13\u001b[0m mph\u001b[0m     │ \u001b[38;5;226m   /\u001b[38;5;250m(___(__) \u001b[0m \u001b[1m↑\u001b[0m \u001b[38;5;226m8\u001b[0m-\u001b[38;5;214m13\u001b[0m mph\u001b[0m     │ \u001b[38;5;250m   (___(__)  \u001b[0m \u001b[1m↗\u001b[0m \u001b[38;5;118m3\u001b[0m-\u001b[38;5;154m4\u001b[0m mph\u001b[0m      │\n",
      "│ \u001b[38;5;226m   /\u001b[38;5;250m(___(__) \u001b[0m 6 mi\u001b[0m           │ \u001b[38;5;111m    ‘ ‘ ‘ ‘  \u001b[0m 1 mi\u001b[0m           │ \u001b[38;5;111m     ‘ ‘ ‘ ‘ \u001b[0m 6 mi\u001b[0m           │ \u001b[38;5;111m    ‘ ‘ ‘ ‘  \u001b[0m 5 mi\u001b[0m           │\n",
      "│               0.0 in | 0%\u001b[0m    │ \u001b[38;5;111m   ‘ ‘ ‘ ‘   \u001b[0m 0.0 in | 61%\u001b[0m   │ \u001b[38;5;111m    ‘ ‘ ‘ ‘  \u001b[0m 0.0 in | 83%\u001b[0m   │ \u001b[38;5;111m   ‘ ‘ ‘ ‘   \u001b[0m 0.0 in | 82%\u001b[0m   │\n",
      "└──────────────────────────────┴──────────────────────────────┴──────────────────────────────┴──────────────────────────────┘\n",
      "Location: Atlanta, Fulton County, Georgia, USA [33.7489924,-84.3902644]\n",
      "\n",
      "Follow \u001b[46m\u001b[30m@igor_chubin\u001b[0m for wttr.in updates\n"
     ]
    }
   ],
   "source": [
    "## Lines starting with '#' are considered as comments; they are ignored when commands are executed.\n",
    "\n",
    "curl 'wttr.in/Atlanta,%20GA'"
   ]
  },
  {
   "cell_type": "code",
   "execution_count": null,
   "id": "5417945d-9857-4bb0-bea5-cd68b399ae01",
   "metadata": {},
   "outputs": [],
   "source": []
  },
  {
   "cell_type": "markdown",
   "id": "3c539183-a1ef-4835-9837-5f6f219e3e40",
   "metadata": {},
   "source": [
    "## Introspecting commands\n",
    "\n",
    "Let's work with this problem: https://xkcd.com/1168/\n",
    "\n",
    "![](https://imgs.xkcd.com/comics/tar_2x.png)"
   ]
  },
  {
   "cell_type": "markdown",
   "id": "e7ca0be0-eefa-49f7-a293-deabde7fc3b3",
   "metadata": {},
   "source": [
    "So, what is `tar` command like? I've typed it on the \"Code\" cell below for you to get some ideas."
   ]
  },
  {
   "cell_type": "code",
   "execution_count": null,
   "id": "66f73d14-69da-406b-98ee-b01133dd8f0c",
   "metadata": {},
   "outputs": [],
   "source": [
    "tar"
   ]
  },
  {
   "cell_type": "markdown",
   "id": "70f3a989-348f-41cb-97e5-df0c4464161d",
   "metadata": {},
   "source": [
    "When you point a cursor above on `tar`, you'll see a pop-up window explaining its uses. I copy one line here.\n",
    "\n",
    "> E[x]tract a (compressed) archive [f]ile into the current directory [v]erbosely"
   ]
  },
  {
   "cell_type": "code",
   "execution_count": null,
   "id": "8f6d1ad0-5118-4e77-ba29-73930da82902",
   "metadata": {},
   "outputs": [],
   "source": [
    "tar -xvf somefile.tar.gz"
   ]
  },
  {
   "cell_type": "markdown",
   "id": "db75b7b9-4221-4ecb-b3dc-b12a82f88e13",
   "metadata": {},
   "source": [
    "By pointing a cursor on `-xvf` in the cell above, you'll see what the chunk means from the pop-up."
   ]
  },
  {
   "cell_type": "markdown",
   "id": "d4ab9888",
   "metadata": {},
   "source": [
    "### Autocomplete\n",
    "\n",
    "Move the cursor right after `git a`, and hit **TAB key** to activate autocomplete."
   ]
  },
  {
   "cell_type": "code",
   "execution_count": null,
   "id": "ceb4be38",
   "metadata": {
    "vscode": {
     "languageId": "shellscript"
    }
   },
   "outputs": [],
   "source": [
    "git a"
   ]
  },
  {
   "cell_type": "markdown",
   "id": "3632287c-57d8-4bbb-90af-8e6c2060fc0c",
   "metadata": {},
   "source": [
    "Bioinformatics tools have **lots of options** that are impossible to remember. Even if you have a clue, you would still get lost which to use from theses: \n",
    "\n",
    "* `--genome-size`\n",
    "* `--genome_size`\n",
    "* `--genomesize` \n",
    "* `--genomeSize`\n",
    "\n",
    "**Autocompletions are must-haves.**"
   ]
  },
  {
   "cell_type": "markdown",
   "id": "16d3927e-f071-40e9-8ec5-624c10767dde",
   "metadata": {},
   "source": []
  },
  {
   "cell_type": "markdown",
   "id": "63012bba",
   "metadata": {},
   "source": [
    "### Packed with bioinformatics tools\n",
    "\n",
    "Bioinformatics tools typically require cumbersome setups and switching between environments. In this notebook, however, you can just type various commands without worrying about conflicts. No more `conda activate` is needed.\n",
    "\n",
    "Here⬇️ is the list of available tools. Please ping me at [Telegram](https://t.me/yamaton) or [Twitter](https://twitter.com/phantomile) if you find some tools missing or not working for you.\n"
   ]
  },
  {
   "cell_type": "code",
   "execution_count": null,
   "id": "4968a3a7",
   "metadata": {
    "vscode": {
     "languageId": "shellscript"
    }
   },
   "outputs": [],
   "source": [
    "condax list --short"
   ]
  },
  {
   "attachments": {},
   "cell_type": "markdown",
   "id": "59757e0c",
   "metadata": {},
   "source": [
    "## Next steps\n",
    "\n",
    "Try opening `en` directory for guides and examples in English. \n",
    "\n",
    "日本語のガイドや用例には `ja` のディレクトリを開いてください。"
   ]
  }
 ],
 "metadata": {
  "kernelspec": {
   "display_name": "Bash",
   "language": "bash",
   "name": "bash"
  },
  "language_info": {
   "codemirror_mode": "shell",
   "file_extension": ".sh",
   "mimetype": "text/x-sh",
   "name": "bash"
  }
 },
 "nbformat": 4,
 "nbformat_minor": 5
}
