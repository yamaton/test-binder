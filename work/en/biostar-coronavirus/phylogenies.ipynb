{
 "cells": [
  {
   "cell_type": "markdown",
   "id": "341d5a93-3d0b-491c-869b-ac186c577796",
   "metadata": {},
   "source": [
    "## Introduction to phylogenies\n",
    "\n",
    "https://www.biostarhandbook.com/books/corona/intro-phylogenies.html"
   ]
  },
  {
   "cell_type": "code",
   "execution_count": null,
   "id": "0a835438-7263-496c-81a7-5365a62c5e9f",
   "metadata": {},
   "outputs": [],
   "source": []
  }
 ],
 "metadata": {
  "kernelspec": {
   "display_name": "Bash",
   "language": "bash",
   "name": "bash"
  },
  "language_info": {
   "codemirror_mode": "shell",
   "file_extension": ".sh",
   "mimetype": "text/x-sh",
   "name": "bash"
  }
 },
 "nbformat": 4,
 "nbformat_minor": 5
}
