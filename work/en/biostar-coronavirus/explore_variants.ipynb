{
 "cells": [
  {
   "cell_type": "markdown",
   "id": "eb8508dc-0b4b-4dd1-bbdd-ac23328ba27e",
   "metadata": {},
   "source": [
    "# Exploring genomic variants\n",
    "\n",
    "https://www.biostarhandbook.com/books/corona/viral-variation.html"
   ]
  },
  {
   "cell_type": "code",
   "execution_count": 1,
   "id": "3424daa2-ccf3-4c63-ad94-62aafd0a3984",
   "metadata": {},
   "outputs": [],
   "source": [
    "# this takes time ... meta.txt will be > 200 MB\n",
    "bio meta 2697049 > meta.txt"
   ]
  },
  {
   "cell_type": "code",
   "execution_count": 2,
   "id": "d24ca489-22b5-4d30-8453-a2a2cef8d297",
   "metadata": {},
   "outputs": [
    {
     "name": "stdout",
     "output_type": "stream",
     "text": [
      "MT019529.1,2019-12-23,\"Asia; China: Hubei, Wuhan\"\n",
      "MT019530.1,2019-12-30,\"Asia; China: Hubei, Wuhan\"\n",
      "MT019531.1,2019-12-30,\"Asia; China: Hubei, Wuhan\"\n",
      "MT019532.1,2019-12-30,\"Asia; China: Hubei, Wuhan\"\n",
      "MN996527.1,2019-12-30,Asia; China: Wuhan\n",
      "MN996528.1,2019-12-30,Asia; China: Wuhan\n",
      "MN996529.1,2019-12-30,Asia; China: Wuhan\n",
      "MN996530.1,2019-12-30,Asia; China: Wuhan\n",
      "MN996531.1,2019-12-30,Asia; China: Wuhan\n",
      "MT291826.1,2019-12-30,Asia; China: Wuhan\n"
     ]
    }
   ],
   "source": [
    "cat meta.txt | csvcut -c 1,4,5 | grep '2019-12' | grep China |  sort -t , -k2 | head"
   ]
  },
  {
   "cell_type": "code",
   "execution_count": 3,
   "id": "22d12aab-6bbd-41e0-a988-6d135ea47204",
   "metadata": {},
   "outputs": [
    {
     "name": "stdout",
     "output_type": "stream",
     "text": [
      "222M\tmeta.txt\n"
     ]
    }
   ],
   "source": [
    "du -h meta.txt"
   ]
  },
  {
   "cell_type": "code",
   "execution_count": 4,
   "id": "cada6d5d-2945-4867-8baa-ff035a72e500",
   "metadata": {},
   "outputs": [],
   "source": [
    "bio fetch  NC_045512 MT019529.1 > genomes.gb"
   ]
  },
  {
   "cell_type": "code",
   "execution_count": 7,
   "id": "67ecd499-9fe9-46e2-8077-322bffb6c2b2",
   "metadata": {},
   "outputs": [],
   "source": [
    "bio fasta < genomes.gb > genomes.fa"
   ]
  },
  {
   "cell_type": "code",
   "execution_count": 8,
   "id": "da00c6b8-90e4-4da4-8821-f335629f5bb6",
   "metadata": {},
   "outputs": [
    {
     "name": "stdout",
     "output_type": "stream",
     "text": [
      "NC_045512.2\tsource\t29903\n",
      "MT019529.1\tsource\t29899\n"
     ]
    }
   ],
   "source": [
    "bio table < genomes.fa"
   ]
  },
  {
   "cell_type": "markdown",
   "id": "63085a90-8cb2-47d1-a427-cb66c4631136",
   "metadata": {},
   "source": [
    "### Aligning viral genomes"
   ]
  },
  {
   "cell_type": "code",
   "execution_count": 9,
   "id": "6f60a96d-61ac-4744-92c1-d1a114f3df9f",
   "metadata": {},
   "outputs": [
    {
     "name": "stdout",
     "output_type": "stream",
     "text": [
      "A3778G\tSNP\t3778\tA\tG\tNC_045512.2\tMT019529.1\n",
      "A8388G\tSNP\t8388\tA\tG\tNC_045512.2\tMT019529.1\n",
      "T8987A\tSNP\t8987\tT\tA\tNC_045512.2\tMT019529.1\n",
      "AAAAA29899A\tDEL\t29899\tAAAAA\tA\tNC_045512.2\tMT019529.1\n"
     ]
    }
   ],
   "source": [
    "cat genomes.fa | bio align --diff | head"
   ]
  },
  {
   "cell_type": "code",
   "execution_count": 10,
   "id": "8195fd5d-d3c6-47d4-b841-a477b30be4a7",
   "metadata": {},
   "outputs": [
    {
     "name": "stdout",
     "output_type": "stream",
     "text": [
      "inputfile = orig\n",
      "2 x 29903 - 29899 d\n",
      "nthread = 0\n",
      "nthreadpair = 0\n",
      "nthreadtb = 0\n",
      "ppenalty_ex = 0\n",
      "stacksize: 8192 kb\n",
      "generating a scoring matrix for nucleotide (dist=200) ... done\n",
      "Gap Penalty = -1.53, +0.00, +0.00\n",
      "\n",
      "\n",
      "\n",
      "Making a distance matrix ..\n",
      "    1 / 2\n",
      "done.\n",
      "\n",
      "Constructing a UPGMA tree (efffree=1) ... \n",
      "    0 / 2\n",
      "done.\n",
      "\n",
      "Progressive alignment 1/1... \n",
      "STEP     1 / 1 \n",
      "done.\n",
      "\n",
      "disttbfast (nuc) Version 7.508\n",
      "alg=A, model=DNA200 (2), 1.53 (4.59), -0.00 (-0.00), noshift, amax=0.0\n",
      "0 thread(s)\n",
      "\n",
      "\n",
      "Strategy:\n",
      " FFT-NS-1 (Very fast but very rough)\n",
      " Progressive method (rough guide tree was used.)\n",
      "\n",
      "If unsure which option to use, try 'mafft --auto input > output'.\n",
      "For more information, see 'mafft --help', 'mafft --man' and the mafft page.\n",
      "\n",
      "The default gap scoring scheme has been changed in version 7.110 (2013 Oct).\n",
      "It tends to insert more gaps into gap-rich regions than previous versions.\n",
      "To disable this change, add the --leavegappyregion option.\n",
      "\n"
     ]
    }
   ],
   "source": [
    "mafft --preservecase genomes.fa > aligned.fa"
   ]
  },
  {
   "cell_type": "code",
   "execution_count": 11,
   "id": "bdbec285-bdf3-4f3c-826e-5c31a326703d",
   "metadata": {},
   "outputs": [
    {
     "name": "stdout",
     "output_type": "stream",
     "text": [
      "A3778G\tSNP\t3778\tA\tG\tNC_045512.2\tMT019529.1\n",
      "A8388G\tSNP\t8388\tA\tG\tNC_045512.2\tMT019529.1\n",
      "T8987A\tSNP\t8987\tT\tA\tNC_045512.2\tMT019529.1\n",
      "AAAAA29899A\tDEL\t29899\tAAAAA\tA\tNC_045512.2\tMT019529.1\n"
     ]
    }
   ],
   "source": [
    "cat aligned.fa | bio format --diff"
   ]
  },
  {
   "cell_type": "code",
   "execution_count": 13,
   "id": "5a0e3ce1-2229-4a46-965a-7dc0cadbf0e2",
   "metadata": {},
   "outputs": [
    {
     "name": "stdout",
     "output_type": "stream",
     "text": [
      "1000 aligned.fa\n"
     ]
    }
   ],
   "source": [
    "wc -l aligned.fa"
   ]
  },
  {
   "cell_type": "markdown",
   "id": "855da091-7ac8-4d80-b635-1b2315ed9b88",
   "metadata": {},
   "source": [
    "### Visualize the variation"
   ]
  },
  {
   "cell_type": "code",
   "execution_count": 14,
   "id": "978cbb1e-13a8-4a3f-8279-be070f920159",
   "metadata": {},
   "outputs": [],
   "source": [
    "cat genomes.gb | bio gff --type CDS > cds.gff"
   ]
  },
  {
   "cell_type": "code",
   "execution_count": 15,
   "id": "22a488a3-bf74-4f4a-b279-8bd9b2c75863",
   "metadata": {},
   "outputs": [],
   "source": [
    "cat aligned.fa | bio format --vcf > mutations.vcf"
   ]
  },
  {
   "cell_type": "markdown",
   "id": "1817da5d-2922-4dfc-a54a-bdce71f9db08",
   "metadata": {},
   "source": [
    "Load the FASTA as genome, and the GFF and VCF file as tracks int IGV."
   ]
  },
  {
   "cell_type": "code",
   "execution_count": 16,
   "id": "5387a642-7ec9-42ec-9bfc-5ff4556ce9f4",
   "metadata": {},
   "outputs": [
    {
     "name": "stdout",
     "output_type": "stream",
     "text": [
      "YP_009724389.1\t21291\tORF1ab\n",
      "YP_009725295.1\t13218\tORF1ab\n",
      "QHU36823.1\t21291\torf1ab\n"
     ]
    }
   ],
   "source": [
    "cat genomes.gb | bio table --type CDS --olap 3778,8388,8987 --fields id,size,gene"
   ]
  },
  {
   "cell_type": "code",
   "execution_count": 17,
   "id": "34d08551-f4fc-48e0-9a19-3d203aee3571",
   "metadata": {},
   "outputs": [
    {
     "name": "stdout",
     "output_type": "stream",
     "text": [
      "N2708S\tSNP\t2708\tN\tS\tYP_009724389.1\tQHU36823.1\n",
      "F2908I\tSNP\t2908\tF\tI\tYP_009724389.1\tQHU36823.1\n"
     ]
    }
   ],
   "source": [
    "cat genomes.gb | bio fasta --protein --id YP_009724389.1,QHU36823.1 | bio align --diff"
   ]
  },
  {
   "cell_type": "code",
   "execution_count": null,
   "id": "0ecdab0b-dac2-4233-9b4c-4a98987033d8",
   "metadata": {},
   "outputs": [],
   "source": []
  }
 ],
 "metadata": {
  "kernelspec": {
   "display_name": "Bash",
   "language": "bash",
   "name": "bash"
  },
  "language_info": {
   "codemirror_mode": "shell",
   "file_extension": ".sh",
   "mimetype": "text/x-sh",
   "name": "bash"
  }
 },
 "nbformat": 4,
 "nbformat_minor": 5
}
