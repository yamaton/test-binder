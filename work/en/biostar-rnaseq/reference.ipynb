{
 "cells": [
  {
   "cell_type": "markdown",
   "id": "d11a55a1-742d-42e7-938d-9c3f0dc7af49",
   "metadata": {},
   "source": [
    "#"
   ]
  },
  {
   "cell_type": "code",
   "execution_count": 1,
   "id": "0a9fc5e3-3b05-47cc-b61c-234dd431eb5a",
   "metadata": {},
   "outputs": [
    {
     "name": "stdout",
     "output_type": "stream",
     "text": [
      "--2022-10-19 18:41:01--  http://data.biostarhandbook.com/books/rnaseq/data/golden.genome.tar.gz\n",
      "Resolving data.biostarhandbook.com (data.biostarhandbook.com)... 198.74.58.207\n",
      "Connecting to data.biostarhandbook.com (data.biostarhandbook.com)|198.74.58.207|:80... connected.\n",
      "HTTP request sent, awaiting response... 200 OK\n",
      "Length: 57462 (56K) [application/octet-stream]\n",
      "Saving to: ‘golden.genome.tar.gz’\n",
      "\n",
      "golden.genome.tar.g 100%[===================>]  56.12K  --.-KB/s    in 0.01s   \n",
      "\n",
      "2022-10-19 18:41:01 (4.01 MB/s) - ‘golden.genome.tar.gz’ saved [57462/57462]\n",
      "\n"
     ]
    }
   ],
   "source": [
    "wget -nc http://data.biostarhandbook.com/books/rnaseq/data/golden.genome.tar.gz"
   ]
  },
  {
   "cell_type": "code",
   "execution_count": 2,
   "id": "6f4454c3-912f-464b-933b-f5e4ae080fdd",
   "metadata": {},
   "outputs": [
    {
     "name": "stdout",
     "output_type": "stream",
     "text": [
      "refs/genome.fa\n",
      "refs/features.gff\n",
      "refs/transcripts.fa\n"
     ]
    }
   ],
   "source": [
    "tar -xzvf golden.genome.tar.gz"
   ]
  },
  {
   "cell_type": "code",
   "execution_count": 3,
   "id": "2fde72e5-4c3b-46bc-8741-244c3f7e240b",
   "metadata": {},
   "outputs": [
    {
     "name": "stdout",
     "output_type": "stream",
     "text": [
      "file                 format  type  num_seqs  sum_len  min_len  avg_len  max_len\n",
      "refs/genome.fa       FASTA   DNA          1  128,756  128,756  128,756  128,756\n",
      "refs/transcripts.fa  FASTA   DNA         92   82,756      273    899.5    2,022\n"
     ]
    }
   ],
   "source": [
    "seqkit stats refs/*.fa"
   ]
  },
  {
   "cell_type": "code",
   "execution_count": 4,
   "id": "53659b4e-a037-4703-8d03-c02e52040e6f",
   "metadata": {},
   "outputs": [
    {
     "name": "stdout",
     "output_type": "stream",
     "text": [
      ">Golden full genome, version 2020, Yo Ho Ho!\n",
      "GCATTTTGAAAATTCTATGGAAGAGCTAGCATCTCTGACGAAAACAGCAGACGGAAAAGTACTGACCAGCGTCACACAAA\n",
      "AACGGAACAGGGCTGACGCCGCTACATATATAGGAAAAGGGAAGGTAGAAGAGCTGAAGGCACTCGTGGAAGAGCTTGAA\n",
      "GCTGATCTCCTCATCTTTAATGATGAACTGTCGCCAAGTCAGCTGAAGTCATTGGCAACAGCAATTGAAGTGAAGATGAT\n",
      "TGACCGCACGCAATTGATATTAGATATTTTTGCAAAGCGGGCGAGAACGAGAGAAGGCAAACTTCAAATTGAGCTGGCTC\n"
     ]
    }
   ],
   "source": [
    "head -5 refs/genome.fa"
   ]
  },
  {
   "cell_type": "code",
   "execution_count": 5,
   "id": "37e592fb-439e-4015-8631-a8a4327d5b8e",
   "metadata": {},
   "outputs": [],
   "source": [
    "IDX=refs/genome.fa"
   ]
  },
  {
   "cell_type": "code",
   "execution_count": 6,
   "id": "8a513f1d-2d56-4c07-950b-e8df32fa5d5a",
   "metadata": {},
   "outputs": [
    {
     "name": "stdout",
     "output_type": "stream",
     "text": [
      "Settings:\n",
      "  Output files: \"refs/genome.fa.*.ht2\"\n",
      "  Line rate: 6 (line is 64 bytes)\n",
      "  Lines per side: 1 (side is 64 bytes)\n",
      "  Offset rate: 4 (one in 16)\n",
      "  FTable chars: 10\n",
      "  Strings: unpacked\n",
      "  Local offset rate: 3 (one in 8)\n",
      "  Local fTable chars: 6\n",
      "  Local sequence length: 57344\n",
      "  Local sequence overlap between two consecutive indexes: 1024\n",
      "  Endianness: little\n",
      "  Actual local endianness: little\n",
      "  Sanity checking: disabled\n",
      "  Assertions: disabled\n",
      "  Random seed: 0\n",
      "  Sizeofs: void*:8, int:4, long:8, size_t:8\n",
      "Input files DNA, FASTA:\n",
      "  refs/genome.fa\n",
      "Reading reference sizes\n",
      "  Time reading reference sizes: 00:00:00\n",
      "Calculating joined length\n",
      "Writing header\n",
      "Reserving space for joined string\n",
      "Joining reference sequences\n",
      "  Time to join reference sequences: 00:00:00\n",
      "  Time to read SNPs and splice sites: 00:00:00\n",
      "Using parameters --bmax 24141 --dcv 1024\n",
      "  Doing ahead-of-time memory usage test\n",
      "  Passed!  Constructing with these parameters: --bmax 24141 --dcv 1024\n",
      "Constructing suffix-array element generator\n",
      "Building DifferenceCoverSample\n",
      "  Building sPrime\n",
      "  Building sPrimeOrder\n",
      "  V-Sorting samples\n",
      "  V-Sorting samples time: 00:00:00\n",
      "  Allocating rank array\n",
      "  Ranking v-sort output\n",
      "  Ranking v-sort output time: 00:00:00\n",
      "  Invoking Larsson-Sadakane on ranks\n",
      "  Invoking Larsson-Sadakane on ranks time: 00:00:00\n",
      "  Sanity-checking and returning\n",
      "Building samples\n",
      "Reserving space for 12 sample suffixes\n",
      "Generating random suffixes\n",
      "QSorting 12 sample offsets, eliminating duplicates\n",
      "QSorting sample offsets, eliminating duplicates time: 00:00:00\n",
      "Multikey QSorting 12 samples\n",
      "  (Using difference cover)\n",
      "  Multikey QSorting samples time: 00:00:00\n",
      "Calculating bucket sizes\n",
      "Splitting and merging\n",
      "  Splitting and merging time: 00:00:00\n",
      "Split 1, merged 6; iterating...\n",
      "Splitting and merging\n",
      "  Splitting and merging time: 00:00:00\n",
      "Avg bucket size: 18392.7 (target: 24140)\n",
      "Converting suffix-array elements to index image\n",
      "Allocating ftab, absorbFtab\n",
      "Entering GFM loop\n",
      "Getting block 1 of 7\n",
      "  Reserving size (24141) for bucket 1\n",
      "  Calculating Z arrays for bucket 1\n",
      "  Entering block accumulator loop for bucket 1:\n",
      "  bucket 1: 10%\n",
      "  bucket 1: 20%\n",
      "  bucket 1: 30%\n",
      "  bucket 1: 40%\n",
      "  bucket 1: 50%\n",
      "  bucket 1: 60%\n",
      "  bucket 1: 70%\n",
      "  bucket 1: 80%\n",
      "  bucket 1: 90%\n",
      "  bucket 1: 100%\n",
      "  Sorting block of length 11794 for bucket 1\n",
      "  (Using difference cover)\n",
      "  Sorting block time: 00:00:00\n",
      "Returning block of 11795 for bucket 1\n",
      "Getting block 2 of 7\n",
      "  Reserving size (24141) for bucket 2\n",
      "  Calculating Z arrays for bucket 2\n",
      "  Entering block accumulator loop for bucket 2:\n",
      "  bucket 2: 10%\n",
      "  bucket 2: 20%\n",
      "  bucket 2: 30%\n",
      "  bucket 2: 40%\n",
      "  bucket 2: 50%\n",
      "  bucket 2: 60%\n",
      "  bucket 2: 70%\n",
      "  bucket 2: 80%\n",
      "  bucket 2: 90%\n",
      "  bucket 2: 100%\n",
      "  Sorting block of length 15630 for bucket 2\n",
      "  (Using difference cover)\n",
      "  Sorting block time: 00:00:00\n",
      "Returning block of 15631 for bucket 2\n",
      "Getting block 3 of 7\n",
      "  Reserving size (24141) for bucket 3\n",
      "  Calculating Z arrays for bucket 3\n",
      "  Entering block accumulator loop for bucket 3:\n",
      "  bucket 3: 10%\n",
      "  bucket 3: 20%\n",
      "  bucket 3: 30%\n",
      "  bucket 3: 40%\n",
      "  bucket 3: 50%\n",
      "  bucket 3: 60%\n",
      "  bucket 3: 70%\n",
      "  bucket 3: 80%\n",
      "  bucket 3: 90%\n",
      "  bucket 3: 100%\n",
      "  Sorting block of length 19642 for bucket 3\n",
      "  (Using difference cover)\n",
      "  Sorting block time: 00:00:00\n",
      "Returning block of 19643 for bucket 3\n",
      "Getting block 4 of 7\n",
      "  Reserving size (24141) for bucket 4\n",
      "  Calculating Z arrays for bucket 4\n",
      "  Entering block accumulator loop for bucket 4:\n",
      "  bucket 4: 10%\n",
      "  bucket 4: 20%\n",
      "  bucket 4: 30%\n",
      "  bucket 4: 40%\n",
      "  bucket 4: 50%\n",
      "  bucket 4: 60%\n",
      "  bucket 4: 70%\n",
      "  bucket 4: 80%\n",
      "  bucket 4: 90%\n",
      "  bucket 4: 100%\n",
      "  Sorting block of length 19091 for bucket 4\n",
      "  (Using difference cover)\n",
      "  Sorting block time: 00:00:00\n",
      "Returning block of 19092 for bucket 4\n",
      "Getting block 5 of 7\n",
      "  Reserving size (24141) for bucket 5\n",
      "  Calculating Z arrays for bucket 5\n",
      "  Entering block accumulator loop for bucket 5:\n",
      "  bucket 5: 10%\n",
      "  bucket 5: 20%\n",
      "  bucket 5: 30%\n",
      "  bucket 5: 40%\n",
      "  bucket 5: 50%\n",
      "  bucket 5: 60%\n",
      "  bucket 5: 70%\n",
      "  bucket 5: 80%\n",
      "  bucket 5: 90%\n",
      "  bucket 5: 100%\n",
      "  Sorting block of length 21618 for bucket 5\n",
      "  (Using difference cover)\n",
      "  Sorting block time: 00:00:00\n",
      "Returning block of 21619 for bucket 5\n",
      "Getting block 6 of 7\n",
      "  Reserving size (24141) for bucket 6\n",
      "  Calculating Z arrays for bucket 6\n",
      "  Entering block accumulator loop for bucket 6:\n",
      "  bucket 6: 10%\n",
      "  bucket 6: 20%\n",
      "  bucket 6: 30%\n",
      "  bucket 6: 40%\n",
      "  bucket 6: 50%\n",
      "  bucket 6: 60%\n",
      "  bucket 6: 70%\n",
      "  bucket 6: 80%\n",
      "  bucket 6: 90%\n",
      "  bucket 6: 100%\n",
      "  Sorting block of length 22719 for bucket 6\n",
      "  (Using difference cover)\n",
      "  Sorting block time: 00:00:00\n",
      "Returning block of 22720 for bucket 6\n",
      "Getting block 7 of 7\n",
      "  Reserving size (24141) for bucket 7\n",
      "  Calculating Z arrays for bucket 7\n",
      "  Entering block accumulator loop for bucket 7:\n",
      "  bucket 7: 10%\n",
      "  bucket 7: 20%\n",
      "  bucket 7: 30%\n",
      "  bucket 7: 40%\n",
      "  bucket 7: 50%\n",
      "  bucket 7: 60%\n",
      "  bucket 7: 70%\n",
      "  bucket 7: 80%\n",
      "  bucket 7: 90%\n",
      "  bucket 7: 100%\n",
      "  Sorting block of length 18255 for bucket 7\n",
      "  (Using difference cover)\n",
      "  Sorting block time: 00:00:00\n",
      "Returning block of 18256 for bucket 7\n",
      "Exited GFM loop\n",
      "fchr[A]: 0\n",
      "fchr[C]: 47248\n",
      "fchr[G]: 65274\n",
      "fchr[T]: 83911\n",
      "fchr[$]: 128755\n",
      "Exiting GFM::buildToDisk()\n",
      "Returning from initFromVector\n",
      "Wrote 4237485 bytes to primary GFM file: refs/genome.fa.1.ht2\n",
      "Wrote 32196 bytes to secondary GFM file: refs/genome.fa.2.ht2\n",
      "Re-opening _in1 and _in2 as input streams\n",
      "Returning from GFM constructor\n",
      "Returning from initFromVector\n",
      "Wrote 62331 bytes to primary GFM file: refs/genome.fa.5.ht2\n",
      "Wrote 32708 bytes to secondary GFM file: refs/genome.fa.6.ht2\n",
      "Re-opening _in5 and _in5 as input streams\n",
      "Returning from HGFM constructor\n",
      "Headers:\n",
      "    len: 128755\n",
      "    gbwtLen: 128756\n",
      "    nodes: 128756\n",
      "    sz: 32189\n",
      "    gbwtSz: 32190\n",
      "    lineRate: 6\n",
      "    offRate: 4\n",
      "    offMask: 0xfffffff0\n",
      "    ftabChars: 10\n",
      "    eftabLen: 0\n",
      "    eftabSz: 0\n",
      "    ftabLen: 1048577\n",
      "    ftabSz: 4194308\n",
      "    offsLen: 8048\n",
      "    offsSz: 32192\n",
      "    lineSz: 64\n",
      "    sideSz: 64\n",
      "    sideGbwtSz: 48\n",
      "    sideGbwtLen: 192\n",
      "    numSides: 671\n",
      "    numLines: 671\n",
      "    gbwtTotLen: 42944\n",
      "    gbwtTotSz: 42944\n",
      "    reverse: 0\n",
      "    linearFM: Yes\n",
      "Total time for call to driver() for forward index: 00:00:01\n"
     ]
    }
   ],
   "source": [
    "hisat2-build $IDX $IDX"
   ]
  },
  {
   "cell_type": "code",
   "execution_count": 9,
   "id": "75bf9765-1697-415f-9eff-b4e721134533",
   "metadata": {},
   "outputs": [
    {
     "name": "stdout",
     "output_type": "stream",
     "text": [
      "92 reads; of these:\n",
      "  92 (100.00%) were unpaired; of these:\n",
      "    0 (0.00%) aligned 0 times\n",
      "    92 (100.00%) aligned exactly 1 time\n",
      "    0 (0.00%) aligned >1 times\n",
      "100.00% overall alignment rate\n"
     ]
    }
   ],
   "source": [
    "hisat2 -x $IDX -f -U refs/transcripts.fa | samtools sort > refs/transcripts.bam"
   ]
  },
  {
   "cell_type": "code",
   "execution_count": 10,
   "id": "e706102b-1e75-4e3a-8474-960801c77aa6",
   "metadata": {},
   "outputs": [],
   "source": [
    "samtools index refs/transcripts.bam"
   ]
  },
  {
   "cell_type": "code",
   "execution_count": 11,
   "id": "d53c9df8-6660-4eee-9fe5-97ac652c65b5",
   "metadata": {},
   "outputs": [
    {
     "name": "stdout",
     "output_type": "stream",
     "text": [
      "features.gff     genome.fa.3.ht2  genome.fa.7.ht2  transcripts.bam\n",
      "genome.fa        genome.fa.4.ht2  genome.fa.8.ht2  transcripts.bam.bai\n",
      "genome.fa.1.ht2  genome.fa.5.ht2  transcripts.b    transcripts.fa\n",
      "genome.fa.2.ht2  genome.fa.6.ht2  transcripts.ba\n"
     ]
    }
   ],
   "source": [
    "ls refs"
   ]
  },
  {
   "cell_type": "code",
   "execution_count": null,
   "id": "bf4d8ca3-de62-4744-91aa-397871be504a",
   "metadata": {},
   "outputs": [],
   "source": []
  }
 ],
 "metadata": {
  "kernelspec": {
   "display_name": "Bash",
   "language": "bash",
   "name": "bash"
  },
  "language_info": {
   "codemirror_mode": "shell",
   "file_extension": ".sh",
   "mimetype": "text/x-sh",
   "name": "bash"
  }
 },
 "nbformat": 4,
 "nbformat_minor": 5
}
