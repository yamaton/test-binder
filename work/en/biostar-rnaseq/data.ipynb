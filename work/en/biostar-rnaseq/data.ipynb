{
 "cells": [
  {
   "cell_type": "code",
   "execution_count": 1,
   "id": "925e217b-5482-448e-bb2c-69e1ec175640",
   "metadata": {},
   "outputs": [
    {
     "name": "stdout",
     "output_type": "stream",
     "text": [
      "--2022-10-19 19:18:36--  http://data.biostarhandbook.com/books/rnaseq/data/golden.reads.tar.gz\n",
      "Resolving data.biostarhandbook.com (data.biostarhandbook.com)... 198.74.58.207\n",
      "Connecting to data.biostarhandbook.com (data.biostarhandbook.com)|198.74.58.207|:80... connected.\n",
      "HTTP request sent, awaiting response... 200 OK\n",
      "Length: 120138017 (115M) [application/octet-stream]\n",
      "Saving to: ‘golden.reads.tar.gz’\n",
      "\n",
      "golden.reads.tar.gz 100%[===================>] 114.57M   170MB/s    in 0.7s    \n",
      "\n",
      "2022-10-19 19:18:37 (170 MB/s) - ‘golden.reads.tar.gz’ saved [120138017/120138017]\n",
      "\n"
     ]
    }
   ],
   "source": [
    "wget -nc http://data.biostarhandbook.com/books/rnaseq/data/golden.reads.tar.gz"
   ]
  },
  {
   "cell_type": "code",
   "execution_count": 4,
   "id": "7b5307ea-6a97-4a99-b475-44e125cde612",
   "metadata": {},
   "outputs": [
    {
     "name": "stdout",
     "output_type": "stream",
     "text": [
      "reads/BORED_1_R1.fq\n",
      "reads/BORED_1_R2.fq\n",
      "reads/BORED_2_R1.fq\n",
      "reads/BORED_2_R2.fq\n",
      "reads/BORED_3_R1.fq\n",
      "reads/BORED_3_R2.fq\n",
      "reads/EXCITED_1_R1.fq\n",
      "reads/EXCITED_1_R2.fq\n",
      "reads/EXCITED_2_R1.fq\n",
      "reads/EXCITED_2_R2.fq\n",
      "reads/EXCITED_3_R1.fq\n",
      "reads/EXCITED_3_R2.fq\n"
     ]
    }
   ],
   "source": [
    "tar -xvf golden.reads.tar.gz"
   ]
  },
  {
   "cell_type": "code",
   "execution_count": 5,
   "id": "f06f0ab1-e615-4ad2-a7f1-1a3666fa7ed2",
   "metadata": {},
   "outputs": [
    {
     "name": "stdout",
     "output_type": "stream",
     "text": [
      "file                   format  type  num_seqs     sum_len  min_len  avg_len  max_len\n",
      "reads/BORED_1_R1.fq    FASTQ   DNA    112,193  11,219,300      100      100      100\n",
      "reads/BORED_1_R2.fq    FASTQ   DNA    112,193  11,219,300      100      100      100\n",
      "reads/BORED_2_R1.fq    FASTQ   DNA    137,581  13,758,100      100      100      100\n",
      "reads/BORED_2_R2.fq    FASTQ   DNA    137,581  13,758,100      100      100      100\n",
      "reads/BORED_3_R1.fq    FASTQ   DNA    123,093  12,309,300      100      100      100\n",
      "reads/BORED_3_R2.fq    FASTQ   DNA    123,093  12,309,300      100      100      100\n",
      "reads/EXCITED_1_R1.fq  FASTQ   DNA    237,018  23,701,800      100      100      100\n",
      "reads/EXCITED_1_R2.fq  FASTQ   DNA    237,018  23,701,800      100      100      100\n",
      "reads/EXCITED_2_R1.fq  FASTQ   DNA    158,009  15,800,900      100      100      100\n",
      "reads/EXCITED_2_R2.fq  FASTQ   DNA    158,009  15,800,900      100      100      100\n",
      "reads/EXCITED_3_R1.fq  FASTQ   DNA    196,673  19,667,300      100      100      100\n",
      "reads/EXCITED_3_R2.fq  FASTQ   DNA    196,673  19,667,300      100      100      100\n"
     ]
    }
   ],
   "source": [
    "seqkit stats reads/*.fq"
   ]
  },
  {
   "cell_type": "code",
   "execution_count": 6,
   "id": "6c4e92a2-6701-42f0-82e0-3d75e888fc31",
   "metadata": {},
   "outputs": [
    {
     "name": "stdout",
     "output_type": "stream",
     "text": [
      "BORED_1_R1.fq  BORED_2_R2.fq  EXCITED_1_R1.fq  EXCITED_2_R2.fq\n",
      "BORED_1_R2.fq  BORED_3_R1.fq  EXCITED_1_R2.fq  EXCITED_3_R1.fq\n",
      "BORED_2_R1.fq  BORED_3_R2.fq  EXCITED_2_R1.fq  EXCITED_3_R2.fq\n"
     ]
    }
   ],
   "source": [
    "ls reads"
   ]
  },
  {
   "cell_type": "code",
   "execution_count": 7,
   "id": "14700e1b-ea45-4a4c-aadf-10838d1ecf68",
   "metadata": {},
   "outputs": [],
   "source": [
    "cat design.csv | csvcut -c sample | sed 1d > ids.txt"
   ]
  },
  {
   "cell_type": "code",
   "execution_count": 8,
   "id": "dffb4742-ab06-44fc-9ef4-ed7ff9dc15f7",
   "metadata": {},
   "outputs": [
    {
     "name": "stdout",
     "output_type": "stream",
     "text": [
      "\u001b[38;5;238m───────┬────────────────────────────────────────────────────────────────────────\u001b[0m\n",
      "       \u001b[38;5;238m│ \u001b[0mFile: \u001b[1mids.txt\u001b[0m\n",
      "\u001b[38;5;238m───────┼────────────────────────────────────────────────────────────────────────\u001b[0m\n",
      "\u001b[38;5;238m   1\u001b[0m   \u001b[38;5;238m│\u001b[0m \u001b[38;5;231mBORED_1\u001b[0m\n",
      "\u001b[38;5;238m   2\u001b[0m   \u001b[38;5;238m│\u001b[0m \u001b[38;5;231mBORED_2\u001b[0m\n",
      "\u001b[38;5;238m   3\u001b[0m   \u001b[38;5;238m│\u001b[0m \u001b[38;5;231mBORED_3\u001b[0m\n",
      "\u001b[38;5;238m   4\u001b[0m   \u001b[38;5;238m│\u001b[0m \u001b[38;5;231mEXCITED_1\u001b[0m\n",
      "\u001b[38;5;238m   5\u001b[0m   \u001b[38;5;238m│\u001b[0m \u001b[38;5;231mEXCITED_2\u001b[0m\n",
      "\u001b[38;5;238m   6\u001b[0m   \u001b[38;5;238m│\u001b[0m \u001b[38;5;231mEXCITED_3\u001b[0m\n",
      "\u001b[38;5;238m───────┴────────────────────────────────────────────────────────────────────────\u001b[0m\n"
     ]
    }
   ],
   "source": [
    "bat ids.txt"
   ]
  },
  {
   "cell_type": "code",
   "execution_count": null,
   "id": "8278ebb8-d850-4027-b6df-8bd51124b9f7",
   "metadata": {},
   "outputs": [],
   "source": []
  }
 ],
 "metadata": {
  "kernelspec": {
   "display_name": "Bash",
   "language": "bash",
   "name": "bash"
  },
  "language_info": {
   "codemirror_mode": "shell",
   "file_extension": ".sh",
   "mimetype": "text/x-sh",
   "name": "bash"
  }
 },
 "nbformat": 4,
 "nbformat_minor": 5
}
