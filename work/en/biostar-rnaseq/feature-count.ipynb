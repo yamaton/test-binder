{
 "cells": [
  {
   "cell_type": "code",
   "execution_count": 1,
   "id": "47920fec-127e-4aa9-bfe0-14a6840c9dfa",
   "metadata": {},
   "outputs": [
    {
     "name": "stdout",
     "output_type": "stream",
     "text": [
      "\n",
      "       \u001b[44;37m ========== \u001b[0m\u001b[36m    _____ _    _ ____  _____  ______          _____  \n",
      "       \u001b[44;37m =====      \u001b[0m\u001b[36m   / ____| |  | |  _ \\|  __ \\|  ____|   /\\   |  __ \\ \n",
      "       \u001b[44;37m   =====    \u001b[0m\u001b[36m  | (___ | |  | | |_) | |__) | |__     /  \\  | |  | |\n",
      "       \u001b[44;37m     ====   \u001b[0m\u001b[36m   \\___ \\| |  | |  _ <|  _  /|  __|   / /\\ \\ | |  | |\n",
      "       \u001b[44;37m       ==== \u001b[0m\u001b[36m   ____) | |__| | |_) | | \\ \\| |____ / ____ \\| |__| |\n",
      "       \u001b[44;37m ========== \u001b[0m\u001b[36m  |_____/ \\____/|____/|_|  \\_\\______/_/    \\_\\_____/\u001b[0m\n",
      "\t  v2.0.1\n",
      "\n",
      "//==========================\u001b[36m featureCounts setting \u001b[0m===========================\\\\\n",
      "||  \u001b[0m                                                                          ||\n",
      "||             Input files : \u001b[36m1 BAM file  \u001b[0m \u001b[0m                                    ||\n",
      "||                           \u001b[32mo\u001b[36m BORED_1.bam\u001b[0m \u001b[0m                                   ||\n",
      "||  \u001b[0m                                                                          ||\n",
      "||             Output file : \u001b[36mcounts.txt\u001b[0m \u001b[0m                                      ||\n",
      "||                 Summary : \u001b[36mcounts.txt.summary\u001b[0m \u001b[0m                              ||\n",
      "||              Annotation : \u001b[36mfeatures.gff (GTF)\u001b[0m \u001b[0m                              ||\n",
      "||      Dir for temp files : \u001b[36m./\u001b[0m \u001b[0m                                              ||\n",
      "||  \u001b[0m                                                                          ||\n",
      "||                 Threads : \u001b[36m1\u001b[0m \u001b[0m                                               ||\n",
      "||                   Level : \u001b[36mmeta-feature level\u001b[0m \u001b[0m                              ||\n",
      "||              Paired-end : \u001b[36myes\u001b[0m \u001b[0m                                             ||\n",
      "||      Multimapping reads : \u001b[36mnot counted\u001b[0m \u001b[0m                                     ||\n",
      "|| Multi-overlapping reads : \u001b[36mnot counted\u001b[0m \u001b[0m                                     ||\n",
      "||   Min overlapping bases : \u001b[36m1\u001b[0m \u001b[0m                                               ||\n",
      "||  \u001b[0m                                                                          ||\n",
      "||          Chimeric reads : \u001b[36mcounted\u001b[0m \u001b[0m                                         ||\n",
      "||        Both ends mapped : \u001b[36mnot required\u001b[0m \u001b[0m                                    ||\n",
      "||  \u001b[0m                                                                          ||\n",
      "\\\\============================================================================//\n",
      "\n",
      "//=================================\u001b[36m Running \u001b[0m==================================\\\\\n",
      "||  \u001b[0m                                                                          ||\n",
      "|| Load annotation file features.gff \u001b[0m... \u001b[0m                                     ||\n",
      "||    Features : \u001b[36m92\u001b[0m \u001b[0m                                                          ||\n",
      "||    Meta-features : \u001b[36m92\u001b[0m \u001b[0m                                                     ||\n",
      "||    Chromosomes/contigs : \u001b[36m1\u001b[0m \u001b[0m                                                ||\n",
      "||  \u001b[0m                                                                          ||\n",
      "|| Process BAM file BORED_1.bam... \u001b[0m                                           ||\n",
      "||    Paired-end reads are included. \u001b[0m                                         ||\n",
      "||    Total alignments : \u001b[36m112193\u001b[0m \u001b[0m                                              ||\n",
      "||    Successfully assigned alignments : \u001b[36m112193 (100.0%)\u001b[0m \u001b[0m                     ||\n",
      "||    Running time : \u001b[36m0.01 minutes\u001b[0m \u001b[0m                                            ||\n",
      "||  \u001b[0m                                                                          ||\n",
      "|| Write the final count table. \u001b[0m                                              ||\n",
      "|| Write the read assignment summary. \u001b[0m                                        ||\n",
      "||  \u001b[0m                                                                          ||\n",
      "|| Summary of counting results can be found in file \"counts.txt.summary\" \u001b[0m     ||\n",
      "||  \u001b[0m                                                                          ||\n",
      "\\\\============================================================================//\n",
      "\n",
      "# Program:featureCounts v2.0.1; Command:\"/srv/conda/condax/envs/subread/bin/featureCounts\" \"-p\" \"-a\" \"refs/features.gff\" \"-o\" \"counts.txt\" \"bam/BORED_1.bam\" \n",
      "Geneid\tChr\tStart\tEnd\tStrand\tLength\tbam/BORED_1.bam\n",
      "AAA-750000-UP-4\tGolden\t1\t1060\t+\t1060\t8103\n",
      "ABA-187500-UP-4\tGolden\t1560\t2083\t+\t524\t979\n",
      "ACA-46875-UP-4\tGolden\t2583\t3616\t+\t1034\t505\n"
     ]
    }
   ],
   "source": [
    "# Run the featureCounts program to summarize the number of reads that overlap with features.\n",
    "featureCounts -p -a refs/features.gff -o counts.txt bam/BORED_1.bam\n",
    "\n",
    "# Show the first five lines of the counts.txt file.\n",
    "cat counts.txt | head -5"
   ]
  },
  {
   "cell_type": "code",
   "execution_count": 2,
   "id": "0c987dbd-3f68-4663-b1f2-fef2539e00ad",
   "metadata": {},
   "outputs": [
    {
     "name": "stdout",
     "output_type": "stream",
     "text": [
      "Academic tradition requires you to cite works you base your article on.\n",
      "If you use programs that use GNU Parallel to process data for an article in a\n",
      "scientific publication, please cite:\n",
      "\n",
      "  Tange, O. (2022, September 22). GNU Parallel 20220922 ('Elizabeth').\n",
      "  Zenodo. https://doi.org/10.5281/zenodo.7105792\n",
      "\n",
      "This helps funding further development; AND IT WON'T COST YOU A CENT.\n",
      "If you pay 10000 EUR you should feel free to use GNU Parallel without citing.\n",
      "\n",
      "More about funding GNU Parallel and the citation notice:\n",
      "https://www.gnu.org/software/parallel/parallel_design.html#citation-notice\n",
      "\n",
      "To silence this citation notice: run 'parallel --citation' once.\n",
      "\n",
      "featureCounts -p -a refs/features.gff -o counts.txt bam/BORED_1.bam bam/BORED_2.bam bam/BORED_3.bam bam/EXCITED_1.bam bam/EXCITED_2.bam bam/EXCITED_3.bam\n"
     ]
    }
   ],
   "source": [
    "cat ids.txt | parallel -k echo \"bam/{}.bam\" | \\\n",
    "    xargs echo featureCounts -p -a refs/features.gff -o counts.txt"
   ]
  },
  {
   "cell_type": "code",
   "execution_count": 5,
   "id": "547dce42-31c8-466f-9b11-13ae31f01085",
   "metadata": {},
   "outputs": [
    {
     "name": "stdout",
     "output_type": "stream",
     "text": [
      "Status\tbam/BORED_1.bam\n",
      "Assigned\t112193\n",
      "Unassigned_Unmapped\t0\n",
      "Unassigned_Read_Type\t0\n",
      "Unassigned_Singleton\t0\n",
      "Unassigned_MappingQuality\t0\n",
      "Unassigned_Chimera\t0\n",
      "Unassigned_FragmentLength\t0\n",
      "Unassigned_Duplicate\t0\n",
      "Unassigned_MultiMapping\t0\n",
      "Unassigned_Secondary\t0\n",
      "Unassigned_NonSplit\t0\n",
      "Unassigned_NoFeatures\t0\n",
      "Unassigned_Overlapping_Length\t0\n",
      "Unassigned_Ambiguity\t0\n"
     ]
    }
   ],
   "source": [
    "cat counts.txt.summary"
   ]
  },
  {
   "cell_type": "code",
   "execution_count": null,
   "id": "4c4945f5-bf06-4a55-a291-f73846204648",
   "metadata": {},
   "outputs": [],
   "source": []
  }
 ],
 "metadata": {
  "kernelspec": {
   "display_name": "Bash",
   "language": "bash",
   "name": "bash"
  },
  "language_info": {
   "codemirror_mode": "shell",
   "file_extension": ".sh",
   "mimetype": "text/x-sh",
   "name": "bash"
  }
 },
 "nbformat": 4,
 "nbformat_minor": 5
}
